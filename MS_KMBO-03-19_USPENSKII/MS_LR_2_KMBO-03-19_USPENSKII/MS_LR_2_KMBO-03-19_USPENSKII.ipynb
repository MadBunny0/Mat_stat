{
 "cells": [
  {
   "cell_type": "code",
   "execution_count": 9,
   "metadata": {},
   "outputs": [],
   "source": [
    "import scipy.stats as sps\n",
    "import numpy as np\n",
    "import pandas as pd\n",
    "import matplotlib.pyplot as plt\n",
    "import pylab\n",
    "import statistics \n",
    "import cmath\n",
    "from matplotlib import ticker\n",
    "from math import factorial\n",
    "from math import exp\n",
    "from math import log"
   ]
  },
  {
   "cell_type": "code",
   "execution_count": 10,
   "metadata": {},
   "outputs": [],
   "source": [
    "def Normrnd(a,sd,size):\n",
    "    distr = sps.norm(a, sd).rvs(size)\n",
    "    distr.sort()\n",
    "    print (\n",
    "        '\\nПараметр a = ', a,\n",
    "       '\\nПараметр sd = ', sd,)\n",
    "    print ('Нормальное распределение:\\n',distr)\n",
    "    return (distr)\n",
    "\n",
    "def Exprnd(lm,size):\n",
    "    distr = sps.expon(lm).rvs(size)\n",
    "    distr.sort()\n",
    "    print (\n",
    "        '\\nПараметр lambda = ', lm,)\n",
    "    print ('Показательное распределение:\\n',distr)\n",
    "    return (distr)\n",
    "\n",
    "def Uniformrnd(a,b,size):\n",
    "    distr = sps.uniform(a, b).rvs(size)\n",
    "    distr.sort()\n",
    "    print (\n",
    "        '\\nПараметр a = ', a,\n",
    "       '\\nПараметр b = ', b,)\n",
    "    print ('Равномерное распределение:\\n',distr)\n",
    "    return (distr)\n",
    "\n",
    "\n",
    "def Xi(distr, size):\n",
    "    xi = []\n",
    "    for i in range(size):\n",
    "        if distr[i]!=distr[i-1]:\n",
    "            xi.append(distr[i])\n",
    "    return(xi)\n",
    "\n",
    "def Freq(distr, xi, size):\n",
    "    ni=[]\n",
    "    for j in range(len(xi)):\n",
    "        help = 0\n",
    "        for i in range(size):\n",
    "            if distr[i]==xi[j]:\n",
    "                help += 1\n",
    "        ni.append(help)  \n",
    "    return(ni)\n",
    "\n",
    "def Rel_freq(ni, size):\n",
    "    wi = []\n",
    "    for i in range(len(ni)):\n",
    "        wi.append(ni[i]/size)\n",
    "    return(wi)\n",
    "\n",
    "def koef_srfq(wi, k):\n",
    "    S=0\n",
    "    for i in range (k+1):\n",
    "        S = S + wi[i]\n",
    "    return(S)  \n",
    "\n",
    "def Sum_rfq(wi, k):\n",
    "    sk = []\n",
    "    for i in range (len(wi)):\n",
    "        sk.append(koef_srfq(wi,i))\n",
    "    return(sk)"
   ]
  },
  {
   "cell_type": "code",
   "execution_count": 55,
   "metadata": {},
   "outputs": [],
   "source": [
    "def intervals(xi, size):\n",
    "    m = 1+round(log(size,2))\n",
    "    d = xi[len(xi)-1] - xi[0]\n",
    "    a = [xi[0]]\n",
    "    for i in range (1,(m+1)):\n",
    "        a.append(d/m+a[i-1])\n",
    "    return a\n",
    "\n",
    "def Freq_inter(distr, inter, size):\n",
    "    ni=[]\n",
    "    for j in range(1,len(inter)):\n",
    "        count = 0\n",
    "        h=0\n",
    "        for i in range(size):\n",
    "            if j-1 == 0:\n",
    "                if distr[i]>=inter[j-1] and distr[i]<=inter[j]:\n",
    "                    count +=1\n",
    "            elif j == len(inter)-1:\n",
    "                if distr[i]>inter[j-1] and distr[i]<=inter[j]:                \n",
    "                    count += 1\n",
    "                if distr[i]>inter[j]:\n",
    "                    count += 1\n",
    "            else:\n",
    "                if distr[i]>inter[j-1] and distr[i]<=inter[j]:                \n",
    "                    count += 1\n",
    "        ni.append(count)  \n",
    "    return(ni)\n",
    "\n",
    "def X_X(inter):\n",
    "    x_x = []\n",
    "    for i in range(len(inter)-1):\n",
    "        x_x.append((inter[i]+inter[i+1])/2)\n",
    "    return(x_x)\n",
    "\n",
    "\n",
    "def Mean(xi ,wi):\n",
    "    X = 0\n",
    "    for i in range (len(xi)):\n",
    "        help = xi[i]*wi[i]\n",
    "        X += help\n",
    "    return (X)\n",
    "\n",
    "def DispSh (inter,m,xi,wi,mean):\n",
    "    h = (inter[len(inter)-1]-inter[0])/m\n",
    "    s=xi\n",
    "    for i in range (len(xi)):\n",
    "        s[i]=((xi[i]-mean)**2)*wi[i]-(h**2)/12\n",
    "    \n",
    "    return (sum(s))"
   ]
  },
  {
   "cell_type": "code",
   "execution_count": 39,
   "metadata": {},
   "outputs": [
    {
     "name": "stdout",
     "output_type": "stream",
     "text": [
      "\n",
      "Параметр a =  4.6 \n",
      "Параметр sd =  1.23\n",
      "Нормальное распределение:\n",
      " [1.32456634 1.62903858 2.08161927 2.29389118 2.38327623 2.42367288\n",
      " 2.55514401 2.56954835 2.64114296 2.65292615 2.7487351  2.75074968\n",
      " 2.88060155 2.97961866 3.06500497 3.1033995  3.13909366 3.15098307\n",
      " 3.15159762 3.24201974 3.24602329 3.25772899 3.27562949 3.31453892\n",
      " 3.34830462 3.40078258 3.43636007 3.45702313 3.53430563 3.5753881\n",
      " 3.60224653 3.64732188 3.68795399 3.6881611  3.74084803 3.75156977\n",
      " 3.75442087 3.76148646 3.79194361 3.79255653 3.79341873 3.79728619\n",
      " 3.79872024 3.80502441 3.81735789 3.82989929 3.83052165 3.86431731\n",
      " 3.87929309 3.89347424 3.91826942 3.93840869 3.95347796 3.98994167\n",
      " 3.98999401 4.00102402 4.00325904 4.0375307  4.06539695 4.08825755\n",
      " 4.09287787 4.09632866 4.12208155 4.13434997 4.15316646 4.15859247\n",
      " 4.16964365 4.17173807 4.17471324 4.1777381  4.18696935 4.18747031\n",
      " 4.21206431 4.23606445 4.24185091 4.24222242 4.28488325 4.29815115\n",
      " 4.30213973 4.30443622 4.30967856 4.33224204 4.3474077  4.36628103\n",
      " 4.38071068 4.39144189 4.4137758  4.43093788 4.44870146 4.44949028\n",
      " 4.4583281  4.47181776 4.47627842 4.47709853 4.4790404  4.47993008\n",
      " 4.50247739 4.51148413 4.51864762 4.54652978 4.57440742 4.61961243\n",
      " 4.63317742 4.63364141 4.63516013 4.64479384 4.64955482 4.68235472\n",
      " 4.68629238 4.71335365 4.71351774 4.71837876 4.72232992 4.73034479\n",
      " 4.75450242 4.75598669 4.77770343 4.78406404 4.79796359 4.80329336\n",
      " 4.80841469 4.81054478 4.81273992 4.82751173 4.83064184 4.8316021\n",
      " 4.84598918 4.87815282 4.93413015 4.93781543 4.94958894 4.96652603\n",
      " 4.96977638 4.97100792 4.98877944 4.99420187 5.00015207 5.02341113\n",
      " 5.03162022 5.04149147 5.04222707 5.04543051 5.05542396 5.08924112\n",
      " 5.09427142 5.14414678 5.14717718 5.15882977 5.15975363 5.17999215\n",
      " 5.20314128 5.28244669 5.29267686 5.29274333 5.35799959 5.41243533\n",
      " 5.45841782 5.46155572 5.48433556 5.49659323 5.51396346 5.53510387\n",
      " 5.54239432 5.6004458  5.61109747 5.6614503  5.70029191 5.70238437\n",
      " 5.71231213 5.72037639 5.75099618 5.75384483 5.75446949 5.76071228\n",
      " 5.76919437 5.78891287 5.84741054 5.86479379 5.87972192 5.88267273\n",
      " 5.89511197 6.01060737 6.10904854 6.19868308 6.21177878 6.21180428\n",
      " 6.27509903 6.28176022 6.3164899  6.43164263 6.47303369 6.48773487\n",
      " 6.54325954 6.54400706 6.54808623 6.63103249 6.82638112 6.88273569\n",
      " 7.12546562 7.22547219]\n"
     ]
    }
   ],
   "source": [
    "v = 46\n",
    "a_norm = round((-1)**v*0.1*v,2)\n",
    "sigma = 0.005*v+1\n",
    "size=200\n",
    "xi = []\n",
    "ni = []\n",
    "wi = []\n",
    "sk = []\n",
    "#xi - значение\n",
    "#ni - кол-во значения\n",
    "#sum(ni) = size \n",
    "#wi = ni/size\n",
    "#sk = sum(wj)\n",
    "\n",
    "distr1 = Normrnd(a_norm,sigma,size)\n",
    "xi = Xi(distr1, size)\n",
    "ni = Freq(distr1, xi, size)\n",
    "wi= Rel_freq(ni, size)\n",
    "sk = Sum_rfq(wi, size)\n",
    "\n",
    "#Distr2 = Geomerty(p,size)\n",
    "#Distr3 = Poisson(l,size)"
   ]
  },
  {
   "cell_type": "code",
   "execution_count": 40,
   "metadata": {
    "scrolled": false
   },
   "outputs": [],
   "source": [
    "#Table2 = pd.DataFrame({'Xi':xi, 'Ni':ni, 'Wi':wi})\n",
    "#Table2"
   ]
  },
  {
   "cell_type": "code",
   "execution_count": 41,
   "metadata": {
    "scrolled": true
   },
   "outputs": [
    {
     "data": {
      "text/plain": [
       "[1.3245663424607286,\n",
       " 1.9802225477071116,\n",
       " 2.6358787529534946,\n",
       " 3.2915349581998776,\n",
       " 3.9471911634462606,\n",
       " 4.602847368692644,\n",
       " 5.258503573939027,\n",
       " 5.91415977918541,\n",
       " 6.569815984431793,\n",
       " 7.225472189678176]"
      ]
     },
     "execution_count": 41,
     "metadata": {},
     "output_type": "execute_result"
    }
   ],
   "source": [
    "inter = intervals(xi,size)\n",
    "inter    \n",
    "\n",
    "#inter = [[a[0],a[1]], ... , [a[n-1],a[n]]]"
   ]
  },
  {
   "cell_type": "code",
   "execution_count": 42,
   "metadata": {},
   "outputs": [
    {
     "name": "stdout",
     "output_type": "stream",
     "text": [
      "[[1.3245663424607286, 1.9802225477071116], [1.9802225477071116, 2.6358787529534946], [2.6358787529534946, 3.2915349581998776], [3.2915349581998776, 3.9471911634462606], [3.9471911634462606, 4.602847368692644], [4.602847368692644, 5.258503573939027], [5.258503573939027, 5.91415977918541], [5.91415977918541, 6.569815984431793], [6.569815984431793, 7.225472189678176]]\n"
     ]
    }
   ],
   "source": [
    "interval_all = [[inter[0], inter[1]],\n",
    "                [inter[1], inter[2]],\n",
    "                [inter[2], inter[3]],\n",
    "                [inter[3], inter[4]],\n",
    "                [inter[4], inter[5]],\n",
    "                [inter[5], inter[6]],\n",
    "                [inter[6], inter[7]],\n",
    "                [inter[7], inter[8]],\n",
    "                [inter[8], inter[9]],]\n",
    "print (interval_all)"
   ]
  },
  {
   "cell_type": "code",
   "execution_count": 43,
   "metadata": {},
   "outputs": [
    {
     "name": "stdout",
     "output_type": "stream",
     "text": [
      "[2, 6, 15, 29, 49, 50, 30, 14, 5]\n",
      "200\n"
     ]
    }
   ],
   "source": [
    "ni_inter = Freq_inter(distr1, inter, size)\n",
    "print (ni_inter)\n",
    "print (sum(ni_inter))"
   ]
  },
  {
   "cell_type": "code",
   "execution_count": 44,
   "metadata": {},
   "outputs": [
    {
     "name": "stdout",
     "output_type": "stream",
     "text": [
      "[0.01, 0.03, 0.075, 0.145, 0.245, 0.25, 0.15, 0.07, 0.025]\n",
      "1.0\n"
     ]
    }
   ],
   "source": [
    "wi_inter = Rel_freq(ni_inter,size)\n",
    "print (wi_inter)\n",
    "print (sum(wi_inter))"
   ]
  },
  {
   "cell_type": "code",
   "execution_count": 45,
   "metadata": {},
   "outputs": [
    {
     "data": {
      "text/html": [
       "<div>\n",
       "<style scoped>\n",
       "    .dataframe tbody tr th:only-of-type {\n",
       "        vertical-align: middle;\n",
       "    }\n",
       "\n",
       "    .dataframe tbody tr th {\n",
       "        vertical-align: top;\n",
       "    }\n",
       "\n",
       "    .dataframe thead th {\n",
       "        text-align: right;\n",
       "    }\n",
       "</style>\n",
       "<table border=\"1\" class=\"dataframe\">\n",
       "  <thead>\n",
       "    <tr style=\"text-align: right;\">\n",
       "      <th></th>\n",
       "      <th>Intervals</th>\n",
       "      <th>Ni</th>\n",
       "      <th>Wi</th>\n",
       "    </tr>\n",
       "  </thead>\n",
       "  <tbody>\n",
       "    <tr>\n",
       "      <th>0</th>\n",
       "      <td>[1.3245663424607286, 1.9802225477071116]</td>\n",
       "      <td>2</td>\n",
       "      <td>0.010</td>\n",
       "    </tr>\n",
       "    <tr>\n",
       "      <th>1</th>\n",
       "      <td>[1.9802225477071116, 2.6358787529534946]</td>\n",
       "      <td>6</td>\n",
       "      <td>0.030</td>\n",
       "    </tr>\n",
       "    <tr>\n",
       "      <th>2</th>\n",
       "      <td>[2.6358787529534946, 3.2915349581998776]</td>\n",
       "      <td>15</td>\n",
       "      <td>0.075</td>\n",
       "    </tr>\n",
       "    <tr>\n",
       "      <th>3</th>\n",
       "      <td>[3.2915349581998776, 3.9471911634462606]</td>\n",
       "      <td>29</td>\n",
       "      <td>0.145</td>\n",
       "    </tr>\n",
       "    <tr>\n",
       "      <th>4</th>\n",
       "      <td>[3.9471911634462606, 4.602847368692644]</td>\n",
       "      <td>49</td>\n",
       "      <td>0.245</td>\n",
       "    </tr>\n",
       "    <tr>\n",
       "      <th>5</th>\n",
       "      <td>[4.602847368692644, 5.258503573939027]</td>\n",
       "      <td>50</td>\n",
       "      <td>0.250</td>\n",
       "    </tr>\n",
       "    <tr>\n",
       "      <th>6</th>\n",
       "      <td>[5.258503573939027, 5.91415977918541]</td>\n",
       "      <td>30</td>\n",
       "      <td>0.150</td>\n",
       "    </tr>\n",
       "    <tr>\n",
       "      <th>7</th>\n",
       "      <td>[5.91415977918541, 6.569815984431793]</td>\n",
       "      <td>14</td>\n",
       "      <td>0.070</td>\n",
       "    </tr>\n",
       "    <tr>\n",
       "      <th>8</th>\n",
       "      <td>[6.569815984431793, 7.225472189678176]</td>\n",
       "      <td>5</td>\n",
       "      <td>0.025</td>\n",
       "    </tr>\n",
       "  </tbody>\n",
       "</table>\n",
       "</div>"
      ],
      "text/plain": [
       "                                  Intervals  Ni     Wi\n",
       "0  [1.3245663424607286, 1.9802225477071116]   2  0.010\n",
       "1  [1.9802225477071116, 2.6358787529534946]   6  0.030\n",
       "2  [2.6358787529534946, 3.2915349581998776]  15  0.075\n",
       "3  [3.2915349581998776, 3.9471911634462606]  29  0.145\n",
       "4   [3.9471911634462606, 4.602847368692644]  49  0.245\n",
       "5    [4.602847368692644, 5.258503573939027]  50  0.250\n",
       "6     [5.258503573939027, 5.91415977918541]  30  0.150\n",
       "7     [5.91415977918541, 6.569815984431793]  14  0.070\n",
       "8    [6.569815984431793, 7.225472189678176]   5  0.025"
      ]
     },
     "execution_count": 45,
     "metadata": {},
     "output_type": "execute_result"
    }
   ],
   "source": [
    "Table = pd.DataFrame({'Intervals':interval_all, 'Ni':ni_inter, 'Wi':wi_inter})\n",
    "Table"
   ]
  },
  {
   "cell_type": "code",
   "execution_count": 46,
   "metadata": {},
   "outputs": [
    {
     "data": {
      "text/html": [
       "<div>\n",
       "<style scoped>\n",
       "    .dataframe tbody tr th:only-of-type {\n",
       "        vertical-align: middle;\n",
       "    }\n",
       "\n",
       "    .dataframe tbody tr th {\n",
       "        vertical-align: top;\n",
       "    }\n",
       "\n",
       "    .dataframe thead th {\n",
       "        text-align: right;\n",
       "    }\n",
       "</style>\n",
       "<table border=\"1\" class=\"dataframe\">\n",
       "  <thead>\n",
       "    <tr style=\"text-align: right;\">\n",
       "      <th></th>\n",
       "      <th>center_Intervals</th>\n",
       "      <th>Ni</th>\n",
       "      <th>Wi</th>\n",
       "    </tr>\n",
       "  </thead>\n",
       "  <tbody>\n",
       "    <tr>\n",
       "      <th>0</th>\n",
       "      <td>1.652394</td>\n",
       "      <td>2</td>\n",
       "      <td>0.010</td>\n",
       "    </tr>\n",
       "    <tr>\n",
       "      <th>1</th>\n",
       "      <td>2.308051</td>\n",
       "      <td>6</td>\n",
       "      <td>0.030</td>\n",
       "    </tr>\n",
       "    <tr>\n",
       "      <th>2</th>\n",
       "      <td>2.963707</td>\n",
       "      <td>15</td>\n",
       "      <td>0.075</td>\n",
       "    </tr>\n",
       "    <tr>\n",
       "      <th>3</th>\n",
       "      <td>3.619363</td>\n",
       "      <td>29</td>\n",
       "      <td>0.145</td>\n",
       "    </tr>\n",
       "    <tr>\n",
       "      <th>4</th>\n",
       "      <td>4.275019</td>\n",
       "      <td>49</td>\n",
       "      <td>0.245</td>\n",
       "    </tr>\n",
       "    <tr>\n",
       "      <th>5</th>\n",
       "      <td>4.930675</td>\n",
       "      <td>50</td>\n",
       "      <td>0.250</td>\n",
       "    </tr>\n",
       "    <tr>\n",
       "      <th>6</th>\n",
       "      <td>5.586332</td>\n",
       "      <td>30</td>\n",
       "      <td>0.150</td>\n",
       "    </tr>\n",
       "    <tr>\n",
       "      <th>7</th>\n",
       "      <td>6.241988</td>\n",
       "      <td>14</td>\n",
       "      <td>0.070</td>\n",
       "    </tr>\n",
       "    <tr>\n",
       "      <th>8</th>\n",
       "      <td>6.897644</td>\n",
       "      <td>5</td>\n",
       "      <td>0.025</td>\n",
       "    </tr>\n",
       "  </tbody>\n",
       "</table>\n",
       "</div>"
      ],
      "text/plain": [
       "   center_Intervals  Ni     Wi\n",
       "0          1.652394   2  0.010\n",
       "1          2.308051   6  0.030\n",
       "2          2.963707  15  0.075\n",
       "3          3.619363  29  0.145\n",
       "4          4.275019  49  0.245\n",
       "5          4.930675  50  0.250\n",
       "6          5.586332  30  0.150\n",
       "7          6.241988  14  0.070\n",
       "8          6.897644   5  0.025"
      ]
     },
     "execution_count": 46,
     "metadata": {},
     "output_type": "execute_result"
    }
   ],
   "source": [
    "x_x = X_X(inter)\n",
    "\n",
    "Table = pd.DataFrame({'center_Intervals':x_x, 'Ni':ni_inter, 'Wi':wi_inter})\n",
    "Table"
   ]
  },
  {
   "cell_type": "code",
   "execution_count": 47,
   "metadata": {},
   "outputs": [
    {
     "data": {
      "image/png": "[encoded data removed]",
      "text/plain": [
       "<Figure size 432x288 with 1 Axes>"
      ]
     },
     "metadata": {
      "needs_background": "light"
     },
     "output_type": "display_data"
    }
   ],
   "source": [
    "# график функции эмпирического распределения\n",
    "fig, sec = plt.subplots()\n",
    "sec.xaxis.set_major_locator(ticker.MultipleLocator(0.5))\n",
    "sec.yaxis.set_major_locator(ticker.MultipleLocator(0.1))\n",
    "for k in range(len(xi) - 1):\n",
    "    sec.plot([xi[k], xi[k+1]], [sk[k], sk[k]])\n",
    "plt.title(\"Эмпирическая функция распределения\")\n",
    "plt.grid(True)\n",
    "plt.show()"
   ]
  },
  {
   "cell_type": "code",
   "execution_count": 48,
   "metadata": {},
   "outputs": [
    {
     "data": {
      "image/png": "[encoded data removed]",
      "text/plain": [
       "<Figure size 432x288 with 1 Axes>"
      ]
     },
     "metadata": {
      "needs_background": "light"
     },
     "output_type": "display_data"
    }
   ],
   "source": [
    "plt.hist(distr1)\n",
    "\n",
    "plt.title(\"Гистограмма относительных частот\")\n",
    "\n",
    "plt.xlabel(\"Ages\")\n",
    "\n",
    "plt.ylabel(\"Frequencies\")\n",
    "\n",
    "plt.show()"
   ]
  },
  {
   "cell_type": "code",
   "execution_count": 49,
   "metadata": {},
   "outputs": [
    {
     "data": {
      "text/plain": [
       "Text(0.5, 0, '$x_i$')"
      ]
     },
     "execution_count": 49,
     "metadata": {},
     "output_type": "execute_result"
    },
    {
     "data": {
      "image/png": "[encoded data removed]",
      "text/plain": [
       "<Figure size 432x288 with 1 Axes>"
      ]
     },
     "metadata": {
      "needs_background": "light"
     },
     "output_type": "display_data"
    }
   ],
   "source": [
    "m = 1+round(log(size,2))\n",
    "\n",
    "plt.hist(distr1, bins = m) # тут строится диаграма частот, то есть сколько раз встречается число\n",
    "plt.title('Гистограмма') # тут вроде все верно\n",
    "plt.ylabel('$n_i$')\n",
    "plt.xlabel('$x_i$')\n",
    " \n",
    "plt.hist(distr1, bins = m, density = True, label = 'выборка') # Основная проблема вот тут\n",
    "plt.title('Гистограмма относительных частот') # Почему то неверно строиться график функции\n",
    "plt.ylabel('$n_i$')\n",
    "plt.xlabel('$x_i$')"
   ]
  },
  {
   "cell_type": "code",
   "execution_count": 56,
   "metadata": {},
   "outputs": [
    {
     "name": "stdout",
     "output_type": "stream",
     "text": [
      "\n",
      " 0.10090567789638646 \n",
      "\n",
      "\n",
      " 14.724920600461001 \n",
      "\n"
     ]
    }
   ],
   "source": [
    "#Выборочное среднее (теор/эксп)\n",
    "#X_teor = n*p\n",
    "X = Mean(x_x,wi)\n",
    "print ('\\n', X,'\\n')\n",
    "\n",
    "\n",
    "#Выборочная дисперсия с поправкой Шепарда (теор/эксп)\n",
    "#D_teor = n*p*(1-p)\n",
    "D = DispSh(inter,m,x_x,wi_inter,X)\n",
    "print ('\\n', D,'\\n')\n",
    "\n"
   ]
  },
  {
   "cell_type": "code",
   "execution_count": null,
   "metadata": {},
   "outputs": [],
   "source": []
  }
 ],
 "metadata": {
  "kernelspec": {
   "display_name": "Python 3",
   "language": "python",
   "name": "python3"
  },
  "language_info": {
   "codemirror_mode": {
    "name": "ipython",
    "version": 3
   },
   "file_extension": ".py",
   "mimetype": "text/x-python",
   "name": "python",
   "nbconvert_exporter": "python",
   "pygments_lexer": "ipython3",
   "version": "3.8.3"
  }
 },
 "nbformat": 4,
 "nbformat_minor": 4
}
