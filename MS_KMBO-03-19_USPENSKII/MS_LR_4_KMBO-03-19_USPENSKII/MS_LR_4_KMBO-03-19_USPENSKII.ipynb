{
 "cells": [
  {
   "cell_type": "code",
   "execution_count": 216,
   "metadata": {},
   "outputs": [],
   "source": [
    "import scipy.stats as sps\n",
    "import numpy as np\n",
    "import pandas as pd\n",
    "import matplotlib.pyplot as plt\n",
    "import pylab\n",
    "import statistics \n",
    "import cmath\n",
    "import math\n",
    "import seaborn as sns\n",
    "from matplotlib import ticker\n",
    "from math import factorial\n",
    "from math import exp\n",
    "from math import log\n",
    "from math import inf\n",
    "from scipy import integrate"
   ]
  },
  {
   "cell_type": "code",
   "execution_count": 425,
   "metadata": {},
   "outputs": [],
   "source": [
    "def read_distr(files):\n",
    "    with open(files) as file:\n",
    "        array = [row.strip() for row in file]\n",
    "    return (array)\n",
    "\n",
    "def Round_array(array):\n",
    "    for i in range (len(array)):\n",
    "        array[i] = round(array[i],5)\n",
    "    return array  "
   ]
  },
  {
   "cell_type": "markdown",
   "metadata": {},
   "source": [
    "# Задание 4_1"
   ]
  },
  {
   "cell_type": "code",
   "execution_count": 426,
   "metadata": {},
   "outputs": [],
   "source": [
    "def Test(x, y, x_s, y_s, lenx, leny):\n",
    "    return ((x-y)*math.sqrt((lenx*leny*(lenx+leny-2)) /(lenx+leny)))/(math.sqrt(x_s*(lenx-1)+y_s*(leny-1)))"
   ]
  },
  {
   "cell_type": "code",
   "execution_count": 427,
   "metadata": {},
   "outputs": [
    {
     "name": "stdout",
     "output_type": "stream",
     "text": [
      "[0.55546, 0.79825, 2.01106, 3.2687, 3.28208, 3.58187, 3.59965, 4.34591, 4.62077, 4.70914, 4.84853, 6.3475, 6.50959, 7.15112, 7.31459, 7.88458]\n"
     ]
    }
   ],
   "source": [
    "sns.set(rc={'figure.figsize':(12,7)})\n",
    "\n",
    "v = 46\n",
    "distr4_1_1 = read_distr(\"norm4_1_1.txt\")\n",
    "# делем из str - float\n",
    "for i in range(len(distr4_1_1)):\n",
    "    distr4_1_1[i] = float(str(distr4_1_1[i]).replace(\",\", \".\"))\n",
    "\n",
    "for i, item in enumerate(distr4_1_1):\n",
    "    distr4_1_1[i] = float(item)\n",
    "distr4_1_1.sort()\n",
    "print(distr4_1_1)        "
   ]
  },
  {
   "cell_type": "code",
   "execution_count": 428,
   "metadata": {},
   "outputs": [
    {
     "name": "stdout",
     "output_type": "stream",
     "text": [
      "[1.65286, 2.20869, 2.81736, 3.32341, 3.60429, 3.6927, 3.77246, 3.89266, 4.09193, 4.11112, 4.15108, 4.66372, 4.92469, 5.21455, 7.0214, 7.58742]\n"
     ]
    }
   ],
   "source": [
    "distr4_1_2 = read_distr(\"norm4_1_2.txt\")\n",
    "# делем из str - float\n",
    "for i in range(len(distr4_1_2)):\n",
    "    distr4_1_2[i] = float(str(distr4_1_2[i]).replace(\",\", \".\"))\n",
    "\n",
    "for i, item in enumerate(distr4_1_2):\n",
    "    distr4_1_2[i] = float(item)\n",
    "distr4_1_2.sort()\n",
    "print(distr4_1_2)"
   ]
  },
  {
   "cell_type": "code",
   "execution_count": 429,
   "metadata": {},
   "outputs": [
    {
     "name": "stdout",
     "output_type": "stream",
     "text": [
      "[2.16711, 3.02712, 3.23247, 3.55408, 4.54032, 4.63644, 5.70413, 5.90394, 6.38193, 6.73067, 7.74293, 7.944, 8.37022, 8.77715, 8.80107, 11.13768]\n"
     ]
    }
   ],
   "source": [
    "distr4_1_3 = read_distr(\"norm4_1_3.txt\")\n",
    "# делем из str - float\n",
    "for i in range(len(distr4_1_3)):\n",
    "    distr4_1_3[i] = float(str(distr4_1_3[i]).replace(\",\", \".\"))\n",
    "\n",
    "for i, item in enumerate(distr4_1_3):\n",
    "    distr4_1_3[i] = float(item)\n",
    "distr4_1_3.sort()\n",
    "print(distr4_1_3)"
   ]
  },
  {
   "cell_type": "code",
   "execution_count": 430,
   "metadata": {},
   "outputs": [],
   "source": [
    "total_distr = np.column_stack([distr4_1_1, distr4_1_2, distr4_1_3])"
   ]
  },
  {
   "cell_type": "code",
   "execution_count": 431,
   "metadata": {},
   "outputs": [],
   "source": [
    "x_mean = sum(distr4_1_1)/len(distr4_1_1)\n",
    "y_mean = sum(distr4_1_2)/len(distr4_1_2)\n",
    "z_mean = sum(distr4_1_3)/len(distr4_1_3)"
   ]
  },
  {
   "cell_type": "code",
   "execution_count": 432,
   "metadata": {},
   "outputs": [],
   "source": [
    "x_square_mean = 0\n",
    "y_square_mean = 0\n",
    "z_square_mean = 0\n",
    "for i in range (len(distr4_1_1)):\n",
    "    x_square_mean += distr4_1_1[i]**2\n",
    "    y_square_mean += distr4_1_2[i]**2\n",
    "    z_square_mean += distr4_1_3[i]**2\n",
    "x_square_mean = x_square_mean/len(distr4_1_1)\n",
    "y_square_mean = y_square_mean/len(distr4_1_2)\n",
    "z_square_mean = z_square_mean/len(distr4_1_3)"
   ]
  },
  {
   "cell_type": "code",
   "execution_count": 433,
   "metadata": {},
   "outputs": [],
   "source": [
    "x_S = (len(distr4_1_1)/(len(distr4_1_1)-1))*(x_square_mean-x_mean**2)\n",
    "y_S = (len(distr4_1_2)/(len(distr4_1_2)-1))*(y_square_mean-y_mean**2)\n",
    "z_S = (len(distr4_1_3)/(len(distr4_1_3)-1))*(z_square_mean-z_mean**2)"
   ]
  },
  {
   "cell_type": "code",
   "execution_count": 434,
   "metadata": {},
   "outputs": [],
   "source": [
    "T1_2 = Test(x_mean, y_mean, x_S, y_S, len(distr4_1_1), len(distr4_1_2))\n",
    "T1_3 = Test(x_mean, z_mean, x_S, z_S, len(distr4_1_1), len(distr4_1_3))\n",
    "T2_3 = Test(y_mean, z_mean, y_S, z_S, len(distr4_1_2), len(distr4_1_3))\n",
    "T_N_M = [T1_2, T1_3, T2_3]"
   ]
  },
  {
   "cell_type": "code",
   "execution_count": 435,
   "metadata": {},
   "outputs": [],
   "source": [
    "t_kr = sps.t.ppf(0.975, 2*len(distr4_1_1)-2)"
   ]
  },
  {
   "cell_type": "code",
   "execution_count": 436,
   "metadata": {},
   "outputs": [],
   "source": [
    "test = []\n",
    "for i in range(len(T_N_M)): test.append(abs(T_N_M[i]) <= t_kr)"
   ]
  },
  {
   "cell_type": "code",
   "execution_count": 437,
   "metadata": {},
   "outputs": [
    {
     "data": {
      "text/html": [
       "<div>\n",
       "<style scoped>\n",
       "    .dataframe tbody tr th:only-of-type {\n",
       "        vertical-align: middle;\n",
       "    }\n",
       "\n",
       "    .dataframe tbody tr th {\n",
       "        vertical-align: top;\n",
       "    }\n",
       "\n",
       "    .dataframe thead th {\n",
       "        text-align: right;\n",
       "    }\n",
       "</style>\n",
       "<table border=\"1\" class=\"dataframe\">\n",
       "  <thead>\n",
       "    <tr style=\"text-align: right;\">\n",
       "      <th></th>\n",
       "      <th>x_mean</th>\n",
       "      <th>y_mean</th>\n",
       "      <th>x_square_mean</th>\n",
       "      <th>y_square_mean</th>\n",
       "      <th>x_S</th>\n",
       "      <th>y_S</th>\n",
       "      <th>T_N_M</th>\n",
       "    </tr>\n",
       "  </thead>\n",
       "  <tbody>\n",
       "    <tr>\n",
       "      <th>(1,2)</th>\n",
       "      <td>4.426800</td>\n",
       "      <td>4.170646</td>\n",
       "      <td>24.226899</td>\n",
       "      <td>19.596505</td>\n",
       "      <td>4.939030</td>\n",
       "      <td>2.349029</td>\n",
       "      <td>0.379538</td>\n",
       "    </tr>\n",
       "    <tr>\n",
       "      <th>(1,3)</th>\n",
       "      <td>4.426800</td>\n",
       "      <td>6.165704</td>\n",
       "      <td>24.226899</td>\n",
       "      <td>44.008850</td>\n",
       "      <td>4.939030</td>\n",
       "      <td>6.392477</td>\n",
       "      <td>-2.066292</td>\n",
       "    </tr>\n",
       "    <tr>\n",
       "      <th>(2,3)</th>\n",
       "      <td>4.170646</td>\n",
       "      <td>6.165704</td>\n",
       "      <td>19.596505</td>\n",
       "      <td>44.008850</td>\n",
       "      <td>2.349029</td>\n",
       "      <td>6.392477</td>\n",
       "      <td>-2.699121</td>\n",
       "    </tr>\n",
       "  </tbody>\n",
       "</table>\n",
       "</div>"
      ],
      "text/plain": [
       "         x_mean    y_mean  x_square_mean  y_square_mean       x_S       y_S  \\\n",
       "(1,2)  4.426800  4.170646      24.226899      19.596505  4.939030  2.349029   \n",
       "(1,3)  4.426800  6.165704      24.226899      44.008850  4.939030  6.392477   \n",
       "(2,3)  4.170646  6.165704      19.596505      44.008850  2.349029  6.392477   \n",
       "\n",
       "          T_N_M  \n",
       "(1,2)  0.379538  \n",
       "(1,3) -2.066292  \n",
       "(2,3) -2.699121  "
      ]
     },
     "execution_count": 437,
     "metadata": {},
     "output_type": "execute_result"
    }
   ],
   "source": [
    "table4_1_1 = pd.DataFrame({\n",
    "                        'x_mean':[x_mean, x_mean, y_mean],\n",
    "                        'y_mean':[y_mean, z_mean, z_mean],\n",
    "                        'x_square_mean':[x_square_mean,x_square_mean,y_square_mean],\n",
    "                        'y_square_mean':[y_square_mean,z_square_mean,z_square_mean],\n",
    "                        'x_S':[x_S,x_S,y_S],\n",
    "                        'y_S':[y_S,z_S,z_S],\n",
    "                        'T_N_M':[T1_2,T1_3,T2_3]\n",
    "                        })\n",
    "table4_1_1.index = ['(1,2)', '(1,3)', '(2,3)']\n",
    "table4_1_1"
   ]
  },
  {
   "cell_type": "code",
   "execution_count": 438,
   "metadata": {},
   "outputs": [
    {
     "data": {
      "text/html": [
       "<div>\n",
       "<style scoped>\n",
       "    .dataframe tbody tr th:only-of-type {\n",
       "        vertical-align: middle;\n",
       "    }\n",
       "\n",
       "    .dataframe tbody tr th {\n",
       "        vertical-align: top;\n",
       "    }\n",
       "\n",
       "    .dataframe thead th {\n",
       "        text-align: right;\n",
       "    }\n",
       "</style>\n",
       "<table border=\"1\" class=\"dataframe\">\n",
       "  <thead>\n",
       "    <tr style=\"text-align: right;\">\n",
       "      <th></th>\n",
       "      <th>T_N_M</th>\n",
       "      <th>t_kr</th>\n",
       "      <th>Сonclusion</th>\n",
       "    </tr>\n",
       "  </thead>\n",
       "  <tbody>\n",
       "    <tr>\n",
       "      <th>(1,2)</th>\n",
       "      <td>0.379538</td>\n",
       "      <td>2.042272</td>\n",
       "      <td>True</td>\n",
       "    </tr>\n",
       "    <tr>\n",
       "      <th>(1,3)</th>\n",
       "      <td>2.066292</td>\n",
       "      <td>2.042272</td>\n",
       "      <td>False</td>\n",
       "    </tr>\n",
       "    <tr>\n",
       "      <th>(2,3)</th>\n",
       "      <td>2.699121</td>\n",
       "      <td>2.042272</td>\n",
       "      <td>False</td>\n",
       "    </tr>\n",
       "  </tbody>\n",
       "</table>\n",
       "</div>"
      ],
      "text/plain": [
       "          T_N_M      t_kr  Сonclusion\n",
       "(1,2)  0.379538  2.042272        True\n",
       "(1,3)  2.066292  2.042272       False\n",
       "(2,3)  2.699121  2.042272       False"
      ]
     },
     "execution_count": 438,
     "metadata": {},
     "output_type": "execute_result"
    }
   ],
   "source": [
    "table4_1_2 = pd.DataFrame({\n",
    "                        'T_N_M':[abs(T1_2),abs(T1_3),abs(T2_3)],\n",
    "                        't_kr':[t_kr,t_kr,t_kr],\n",
    "                        'Сonclusion':test\n",
    "                        })\n",
    "table4_1_2.index = ['(1,2)', '(1,3)', '(2,3)']\n",
    "table4_1_2"
   ]
  },
  {
   "cell_type": "markdown",
   "metadata": {},
   "source": [
    "# Задание 4_2"
   ]
  },
  {
   "cell_type": "code",
   "execution_count": 439,
   "metadata": {},
   "outputs": [],
   "source": [
    "def amount_square_devation(distr, total_average):\n",
    "    amout_devation = 0\n",
    "    for i in range(len(distr)):\n",
    "        for j in range(3):\n",
    "            amout_devation += (distr[i][j] - total_average)**2\n",
    "    return(amout_devation)\n"
   ]
  },
  {
   "cell_type": "code",
   "execution_count": 440,
   "metadata": {},
   "outputs": [],
   "source": [
    "total_average = (sum(distr4_1_1)+sum(distr4_1_2)+sum(distr4_1_3))/3/len(distr4_1_1)\n",
    "group_average = (sum(distr4_1_1)+sum(distr4_1_2)+sum(distr4_1_3))/len(distr4_1_1)"
   ]
  },
  {
   "cell_type": "code",
   "execution_count": 441,
   "metadata": {},
   "outputs": [
    {
     "data": {
      "text/plain": [
       "array([[ 0.55546,  1.65286,  2.16711],\n",
       "       [ 0.79825,  2.20869,  3.02712],\n",
       "       [ 2.01106,  2.81736,  3.23247],\n",
       "       [ 3.2687 ,  3.32341,  3.55408],\n",
       "       [ 3.28208,  3.60429,  4.54032],\n",
       "       [ 3.58187,  3.6927 ,  4.63644],\n",
       "       [ 3.59965,  3.77246,  5.70413],\n",
       "       [ 4.34591,  3.89266,  5.90394],\n",
       "       [ 4.62077,  4.09193,  6.38193],\n",
       "       [ 4.70914,  4.11112,  6.73067],\n",
       "       [ 4.84853,  4.15108,  7.74293],\n",
       "       [ 6.3475 ,  4.66372,  7.944  ],\n",
       "       [ 6.50959,  4.92469,  8.37022],\n",
       "       [ 7.15112,  5.21455,  8.77715],\n",
       "       [ 7.31459,  7.0214 ,  8.80107],\n",
       "       [ 7.88458,  7.58742, 11.13768]])"
      ]
     },
     "execution_count": 441,
     "metadata": {},
     "output_type": "execute_result"
    }
   ],
   "source": [
    "total_distr"
   ]
  },
  {
   "cell_type": "code",
   "execution_count": 442,
   "metadata": {},
   "outputs": [],
   "source": [
    "amount_devation = amount_square_devation(total_distr, total_average)\n",
    "amount_factor_devation = len(distr4_1_1)*(x_mean-total_average)**2 + len(distr4_1_2)*(y_mean-total_average)**2 + len(distr4_1_3)*(z_mean-total_average)**2"
   ]
  },
  {
   "cell_type": "code",
   "execution_count": 443,
   "metadata": {},
   "outputs": [],
   "source": [
    "remaining_amount_devation = amount_devation - amount_factor_devation"
   ]
  },
  {
   "cell_type": "code",
   "execution_count": 444,
   "metadata": {},
   "outputs": [],
   "source": [
    "k1 = 3-1\n",
    "k2 = 3*(len(distr4_1_1)-1)"
   ]
  },
  {
   "cell_type": "code",
   "execution_count": 445,
   "metadata": {},
   "outputs": [],
   "source": [
    "amount_factor_square_dev = amount_factor_devation/k1\n",
    "amount_remaining_square_dev = remaining_amount_devation/k2\n",
    "F_kr_value = amount_factor_square_dev/amount_remaining_square_dev"
   ]
  },
  {
   "cell_type": "code",
   "execution_count": 446,
   "metadata": {},
   "outputs": [],
   "source": [
    "F_kr = sps.f.ppf(0.95,k1,k2)"
   ]
  },
  {
   "cell_type": "code",
   "execution_count": 447,
   "metadata": {
    "scrolled": true
   },
   "outputs": [
    {
     "data": {
      "text/html": [
       "<div>\n",
       "<style scoped>\n",
       "    .dataframe tbody tr th:only-of-type {\n",
       "        vertical-align: middle;\n",
       "    }\n",
       "\n",
       "    .dataframe tbody tr th {\n",
       "        vertical-align: top;\n",
       "    }\n",
       "\n",
       "    .dataframe thead th {\n",
       "        text-align: right;\n",
       "    }\n",
       "</style>\n",
       "<table border=\"1\" class=\"dataframe\">\n",
       "  <thead>\n",
       "    <tr style=\"text-align: right;\">\n",
       "      <th></th>\n",
       "      <th>S_amount</th>\n",
       "      <th>S_factor</th>\n",
       "      <th>S_rem</th>\n",
       "      <th>S_factor**2</th>\n",
       "      <th>S_rem**2</th>\n",
       "      <th>k1</th>\n",
       "      <th>k2</th>\n",
       "      <th>F_kr_value</th>\n",
       "    </tr>\n",
       "  </thead>\n",
       "  <tbody>\n",
       "    <tr>\n",
       "      <th>value</th>\n",
       "      <td>242.912867</td>\n",
       "      <td>37.704829</td>\n",
       "      <td>205.208038</td>\n",
       "      <td>18.852414</td>\n",
       "      <td>4.560179</td>\n",
       "      <td>2</td>\n",
       "      <td>45</td>\n",
       "      <td>4.134139</td>\n",
       "    </tr>\n",
       "  </tbody>\n",
       "</table>\n",
       "</div>"
      ],
      "text/plain": [
       "         S_amount   S_factor       S_rem  S_factor**2  S_rem**2  k1  k2  \\\n",
       "value  242.912867  37.704829  205.208038    18.852414  4.560179   2  45   \n",
       "\n",
       "       F_kr_value  \n",
       "value    4.134139  "
      ]
     },
     "execution_count": 447,
     "metadata": {},
     "output_type": "execute_result"
    }
   ],
   "source": [
    "table4_2_1 = pd.DataFrame({\n",
    "                        'S_amount':amount_devation,\n",
    "                        'S_factor':amount_factor_devation,\n",
    "                        'S_rem':remaining_amount_devation,\n",
    "                        'S_factor**2':amount_factor_square_dev,\n",
    "                        'S_rem**2':amount_remaining_square_dev,\n",
    "                        'k1':k1,\n",
    "                        'k2':k2,\n",
    "                        'F_kr_value':F_kr_value\n",
    "                        },index=['value'])\n",
    "table4_2_1"
   ]
  },
  {
   "cell_type": "code",
   "execution_count": 448,
   "metadata": {},
   "outputs": [
    {
     "data": {
      "text/html": [
       "<div>\n",
       "<style scoped>\n",
       "    .dataframe tbody tr th:only-of-type {\n",
       "        vertical-align: middle;\n",
       "    }\n",
       "\n",
       "    .dataframe tbody tr th {\n",
       "        vertical-align: top;\n",
       "    }\n",
       "\n",
       "    .dataframe thead th {\n",
       "        text-align: right;\n",
       "    }\n",
       "</style>\n",
       "<table border=\"1\" class=\"dataframe\">\n",
       "  <thead>\n",
       "    <tr style=\"text-align: right;\">\n",
       "      <th></th>\n",
       "      <th>F_N_M</th>\n",
       "      <th>p-value</th>\n",
       "      <th>F_kr(k1,k2)</th>\n",
       "      <th>Conclusion</th>\n",
       "    </tr>\n",
       "  </thead>\n",
       "  <tbody>\n",
       "    <tr>\n",
       "      <th>value</th>\n",
       "      <td>4.134139</td>\n",
       "      <td>0.05</td>\n",
       "      <td>3.204317</td>\n",
       "      <td>False</td>\n",
       "    </tr>\n",
       "  </tbody>\n",
       "</table>\n",
       "</div>"
      ],
      "text/plain": [
       "          F_N_M  p-value  F_kr(k1,k2)  Conclusion\n",
       "value  4.134139     0.05     3.204317       False"
      ]
     },
     "execution_count": 448,
     "metadata": {},
     "output_type": "execute_result"
    }
   ],
   "source": [
    "table4_2_2 = pd.DataFrame({\n",
    "                        'F_N_M':F_kr_value,\n",
    "                        'p-value':0.05,\n",
    "                        'F_kr(k1,k2)':F_kr,\n",
    "                        'Conclusion':F_kr_value <= F_kr,\n",
    "                        },index=['value'])\n",
    "table4_2_2"
   ]
  },
  {
   "cell_type": "markdown",
   "metadata": {},
   "source": [
    "# Задание 4_3"
   ]
  },
  {
   "cell_type": "code",
   "execution_count": 449,
   "metadata": {},
   "outputs": [],
   "source": [
    "pval1_2_1 = sps.ttest_ind(distr4_1_1, distr4_1_2, equal_var=True)\n",
    "pval1_3_1 = sps.ttest_ind(distr4_1_1, distr4_1_3, equal_var=True)\n",
    "pval2_3_1 = sps.ttest_ind(distr4_1_2, distr4_1_3, equal_var=True)\n",
    "pval_1 = [pval1_2_1,pval1_3_1,pval2_3_1]\n",
    "test_1 = []\n",
    "for i in range(len(pval_1)): test_1.append(pval_1[i][1] >= 0.05)"
   ]
  },
  {
   "cell_type": "code",
   "execution_count": 450,
   "metadata": {},
   "outputs": [
    {
     "data": {
      "text/html": [
       "<div>\n",
       "<style scoped>\n",
       "    .dataframe tbody tr th:only-of-type {\n",
       "        vertical-align: middle;\n",
       "    }\n",
       "\n",
       "    .dataframe tbody tr th {\n",
       "        vertical-align: top;\n",
       "    }\n",
       "\n",
       "    .dataframe thead th {\n",
       "        text-align: right;\n",
       "    }\n",
       "</style>\n",
       "<table border=\"1\" class=\"dataframe\">\n",
       "  <thead>\n",
       "    <tr style=\"text-align: right;\">\n",
       "      <th></th>\n",
       "      <th>pval</th>\n",
       "      <th>alpha</th>\n",
       "      <th>Conclusion</th>\n",
       "    </tr>\n",
       "  </thead>\n",
       "  <tbody>\n",
       "    <tr>\n",
       "      <th>(1,2)</th>\n",
       "      <td>0.706962</td>\n",
       "      <td>0.05</td>\n",
       "      <td>True</td>\n",
       "    </tr>\n",
       "    <tr>\n",
       "      <th>(1,3)</th>\n",
       "      <td>0.047529</td>\n",
       "      <td>0.05</td>\n",
       "      <td>False</td>\n",
       "    </tr>\n",
       "    <tr>\n",
       "      <th>(2,3)</th>\n",
       "      <td>0.011308</td>\n",
       "      <td>0.05</td>\n",
       "      <td>False</td>\n",
       "    </tr>\n",
       "  </tbody>\n",
       "</table>\n",
       "</div>"
      ],
      "text/plain": [
       "           pval  alpha  Conclusion\n",
       "(1,2)  0.706962   0.05        True\n",
       "(1,3)  0.047529   0.05       False\n",
       "(2,3)  0.011308   0.05       False"
      ]
     },
     "execution_count": 450,
     "metadata": {},
     "output_type": "execute_result"
    }
   ],
   "source": [
    "table4_3_1 = pd.DataFrame({\n",
    "                        'pval':[pval1_2_1[1], pval1_3_1[1], pval2_3_1[1]],\n",
    "                        'alpha':[0.05, 0.05, 0.05],\n",
    "                        'Conclusion':test_1,\n",
    "                        })\n",
    "table4_3_1.index = ['(1,2)', '(1,3)', '(2,3)']\n",
    "table4_3_1"
   ]
  },
  {
   "cell_type": "markdown",
   "metadata": {},
   "source": [
    "# Задание 4_4"
   ]
  },
  {
   "cell_type": "code",
   "execution_count": 451,
   "metadata": {},
   "outputs": [],
   "source": [
    "pval1_2_2 = sps.ttest_ind(distr4_1_1, distr4_1_2, equal_var=False)\n",
    "pval1_3_2 = sps.ttest_ind(distr4_1_1, distr4_1_3, equal_var=False)\n",
    "pval2_3_2 = sps.ttest_ind(distr4_1_2, distr4_1_3, equal_var=False)\n",
    "pval_2 = [pval1_2_2,pval1_3_2,pval2_3_2]\n",
    "test_2 = []\n",
    "for i in range(len(pval_2)): test_2.append(pval_2[i][1] >= 0.05)"
   ]
  },
  {
   "cell_type": "code",
   "execution_count": 452,
   "metadata": {},
   "outputs": [
    {
     "data": {
      "text/html": [
       "<div>\n",
       "<style scoped>\n",
       "    .dataframe tbody tr th:only-of-type {\n",
       "        vertical-align: middle;\n",
       "    }\n",
       "\n",
       "    .dataframe tbody tr th {\n",
       "        vertical-align: top;\n",
       "    }\n",
       "\n",
       "    .dataframe thead th {\n",
       "        text-align: right;\n",
       "    }\n",
       "</style>\n",
       "<table border=\"1\" class=\"dataframe\">\n",
       "  <thead>\n",
       "    <tr style=\"text-align: right;\">\n",
       "      <th></th>\n",
       "      <th>pval</th>\n",
       "      <th>alpha</th>\n",
       "      <th>Conclusion</th>\n",
       "    </tr>\n",
       "  </thead>\n",
       "  <tbody>\n",
       "    <tr>\n",
       "      <th>(1,2)</th>\n",
       "      <td>0.707298</td>\n",
       "      <td>0.05</td>\n",
       "      <td>True</td>\n",
       "    </tr>\n",
       "    <tr>\n",
       "      <th>(1,3)</th>\n",
       "      <td>0.047675</td>\n",
       "      <td>0.05</td>\n",
       "      <td>False</td>\n",
       "    </tr>\n",
       "    <tr>\n",
       "      <th>(2,3)</th>\n",
       "      <td>0.012352</td>\n",
       "      <td>0.05</td>\n",
       "      <td>False</td>\n",
       "    </tr>\n",
       "  </tbody>\n",
       "</table>\n",
       "</div>"
      ],
      "text/plain": [
       "           pval  alpha  Conclusion\n",
       "(1,2)  0.707298   0.05        True\n",
       "(1,3)  0.047675   0.05       False\n",
       "(2,3)  0.012352   0.05       False"
      ]
     },
     "execution_count": 452,
     "metadata": {},
     "output_type": "execute_result"
    }
   ],
   "source": [
    "table4_4_2 = pd.DataFrame({\n",
    "                        'pval':[pval1_2_2[1], pval1_3_2[1], pval2_3_2[1]],\n",
    "                        'alpha':[0.05, 0.05, 0.05],\n",
    "                        'Conclusion':test_2,\n",
    "                        })\n",
    "table4_4_2.index = ['(1,2)', '(1,3)', '(2,3)']\n",
    "table4_4_2"
   ]
  },
  {
   "cell_type": "markdown",
   "metadata": {},
   "source": [
    "# Задание 4_5"
   ]
  },
  {
   "cell_type": "code",
   "execution_count": 453,
   "metadata": {},
   "outputs": [],
   "source": [
    "pval4_5=sps.f_oneway(distr4_1_1,distr4_1_2,distr4_1_3)"
   ]
  },
  {
   "cell_type": "code",
   "execution_count": 454,
   "metadata": {},
   "outputs": [
    {
     "data": {
      "text/html": [
       "<div>\n",
       "<style scoped>\n",
       "    .dataframe tbody tr th:only-of-type {\n",
       "        vertical-align: middle;\n",
       "    }\n",
       "\n",
       "    .dataframe tbody tr th {\n",
       "        vertical-align: top;\n",
       "    }\n",
       "\n",
       "    .dataframe thead th {\n",
       "        text-align: right;\n",
       "    }\n",
       "</style>\n",
       "<table border=\"1\" class=\"dataframe\">\n",
       "  <thead>\n",
       "    <tr style=\"text-align: right;\">\n",
       "      <th></th>\n",
       "      <th>p-value</th>\n",
       "      <th>alpha</th>\n",
       "      <th>Conclusion</th>\n",
       "    </tr>\n",
       "  </thead>\n",
       "  <tbody>\n",
       "    <tr>\n",
       "      <th>value</th>\n",
       "      <td>0.022477</td>\n",
       "      <td>0.05</td>\n",
       "      <td>False</td>\n",
       "    </tr>\n",
       "  </tbody>\n",
       "</table>\n",
       "</div>"
      ],
      "text/plain": [
       "        p-value  alpha  Conclusion\n",
       "value  0.022477   0.05       False"
      ]
     },
     "execution_count": 454,
     "metadata": {},
     "output_type": "execute_result"
    }
   ],
   "source": [
    "table4_5_1 = pd.DataFrame({\n",
    "                        'p-value':pval4_5[1],\n",
    "                        'alpha':0.05,\n",
    "                        'Conclusion':pval4_5[1] >= 0.05,\n",
    "                        },index=['value'])\n",
    "table4_5_1"
   ]
  },
  {
   "cell_type": "markdown",
   "metadata": {},
   "source": [
    "# Задание 4_6"
   ]
  },
  {
   "cell_type": "code",
   "execution_count": 455,
   "metadata": {},
   "outputs": [],
   "source": [
    "S_max1_2 = max(x_S,y_S)\n",
    "S_max1_3 = max(x_S,z_S)\n",
    "S_max2_3 = max(y_S,z_S)\n",
    "\n",
    "S_min1_2 = min(x_S,y_S)\n",
    "S_min1_3 = min(x_S,z_S)\n",
    "S_min2_3 = min(y_S,z_S)\n",
    "\n",
    "F_kr_1_2 = S_max1_2/S_min1_2\n",
    "F_kr_1_3 = S_max1_3/S_min1_3\n",
    "F_kr_2_3 = S_max2_3/S_min2_3\n",
    "\n",
    "k14_6 = len(distr4_1_1)-1\n",
    "k24_6 = len(distr4_1_1)-1"
   ]
  },
  {
   "cell_type": "code",
   "execution_count": 456,
   "metadata": {},
   "outputs": [
    {
     "data": {
      "text/html": [
       "<div>\n",
       "<style scoped>\n",
       "    .dataframe tbody tr th:only-of-type {\n",
       "        vertical-align: middle;\n",
       "    }\n",
       "\n",
       "    .dataframe tbody tr th {\n",
       "        vertical-align: top;\n",
       "    }\n",
       "\n",
       "    .dataframe thead th {\n",
       "        text-align: right;\n",
       "    }\n",
       "</style>\n",
       "<table border=\"1\" class=\"dataframe\">\n",
       "  <thead>\n",
       "    <tr style=\"text-align: right;\">\n",
       "      <th></th>\n",
       "      <th>S_1</th>\n",
       "      <th>S_2</th>\n",
       "      <th>k1</th>\n",
       "      <th>k2</th>\n",
       "      <th>F_N_M</th>\n",
       "    </tr>\n",
       "  </thead>\n",
       "  <tbody>\n",
       "    <tr>\n",
       "      <th>(1,2)</th>\n",
       "      <td>4.939030</td>\n",
       "      <td>2.349029</td>\n",
       "      <td>15</td>\n",
       "      <td>15</td>\n",
       "      <td>2.102584</td>\n",
       "    </tr>\n",
       "    <tr>\n",
       "      <th>(1,3)</th>\n",
       "      <td>4.939030</td>\n",
       "      <td>6.392477</td>\n",
       "      <td>15</td>\n",
       "      <td>15</td>\n",
       "      <td>1.294278</td>\n",
       "    </tr>\n",
       "    <tr>\n",
       "      <th>(2,3)</th>\n",
       "      <td>2.349029</td>\n",
       "      <td>6.392477</td>\n",
       "      <td>15</td>\n",
       "      <td>15</td>\n",
       "      <td>2.721327</td>\n",
       "    </tr>\n",
       "  </tbody>\n",
       "</table>\n",
       "</div>"
      ],
      "text/plain": [
       "            S_1       S_2  k1  k2     F_N_M\n",
       "(1,2)  4.939030  2.349029  15  15  2.102584\n",
       "(1,3)  4.939030  6.392477  15  15  1.294278\n",
       "(2,3)  2.349029  6.392477  15  15  2.721327"
      ]
     },
     "execution_count": 456,
     "metadata": {},
     "output_type": "execute_result"
    }
   ],
   "source": [
    "table4_6_1 = pd.DataFrame({\n",
    "                        'S_1':[x_S, x_S, y_S],\n",
    "                        'S_2':[y_S, z_S, z_S],\n",
    "                        'k1':[k14_6,k14_6,k14_6],\n",
    "                        'k2':[k24_6,k24_6,k24_6],\n",
    "                        'F_N_M':[F_kr_1_2,F_kr_1_3,F_kr_2_3]\n",
    "                        })\n",
    "table4_6_1.index = ['(1,2)', '(1,3)', '(2,3)']\n",
    "table4_6_1"
   ]
  },
  {
   "cell_type": "code",
   "execution_count": 457,
   "metadata": {},
   "outputs": [],
   "source": [
    "z_kr = sps.f.ppf(0.975,k1,k2)"
   ]
  },
  {
   "cell_type": "code",
   "execution_count": 458,
   "metadata": {},
   "outputs": [],
   "source": [
    "F_kr_value4_6 = [F_kr_1_2,F_kr_1_3,F_kr_2_3]\n",
    "test4_6 = []\n",
    "for i in range(len(F_kr_value4_6)): test4_6.append(F_kr_value4_6[i] <= z_kr)"
   ]
  },
  {
   "cell_type": "code",
   "execution_count": 459,
   "metadata": {},
   "outputs": [
    {
     "data": {
      "text/html": [
       "<div>\n",
       "<style scoped>\n",
       "    .dataframe tbody tr th:only-of-type {\n",
       "        vertical-align: middle;\n",
       "    }\n",
       "\n",
       "    .dataframe tbody tr th {\n",
       "        vertical-align: top;\n",
       "    }\n",
       "\n",
       "    .dataframe thead th {\n",
       "        text-align: right;\n",
       "    }\n",
       "</style>\n",
       "<table border=\"1\" class=\"dataframe\">\n",
       "  <thead>\n",
       "    <tr style=\"text-align: right;\">\n",
       "      <th></th>\n",
       "      <th>F_N_M</th>\n",
       "      <th>alpha</th>\n",
       "      <th>Conclusion</th>\n",
       "    </tr>\n",
       "  </thead>\n",
       "  <tbody>\n",
       "    <tr>\n",
       "      <th>(1,2)</th>\n",
       "      <td>2.102584</td>\n",
       "      <td>4.008502</td>\n",
       "      <td>True</td>\n",
       "    </tr>\n",
       "    <tr>\n",
       "      <th>(1,3)</th>\n",
       "      <td>1.294278</td>\n",
       "      <td>4.008502</td>\n",
       "      <td>True</td>\n",
       "    </tr>\n",
       "    <tr>\n",
       "      <th>(2,3)</th>\n",
       "      <td>2.721327</td>\n",
       "      <td>4.008502</td>\n",
       "      <td>True</td>\n",
       "    </tr>\n",
       "  </tbody>\n",
       "</table>\n",
       "</div>"
      ],
      "text/plain": [
       "          F_N_M     alpha  Conclusion\n",
       "(1,2)  2.102584  4.008502        True\n",
       "(1,3)  1.294278  4.008502        True\n",
       "(2,3)  2.721327  4.008502        True"
      ]
     },
     "execution_count": 459,
     "metadata": {},
     "output_type": "execute_result"
    }
   ],
   "source": [
    "table4_6_1 = pd.DataFrame({\n",
    "                        'F_N_M':[F_kr_1_2,F_kr_1_3,F_kr_2_3],\n",
    "                        'alpha':[z_kr, z_kr, z_kr],\n",
    "                        'Conclusion':test4_6,\n",
    "                        })\n",
    "table4_6_1.index = ['(1,2)', '(1,3)', '(2,3)']\n",
    "table4_6_1"
   ]
  },
  {
   "cell_type": "markdown",
   "metadata": {},
   "source": [
    "# Задание 4_7"
   ]
  },
  {
   "cell_type": "code",
   "execution_count": 419,
   "metadata": {},
   "outputs": [],
   "source": [
    "pval4_7 = sps.bartlett(distr4_1_1,distr4_1_2,distr4_1_3)"
   ]
  },
  {
   "cell_type": "code",
   "execution_count": 422,
   "metadata": {},
   "outputs": [
    {
     "data": {
      "text/html": [
       "<div>\n",
       "<style scoped>\n",
       "    .dataframe tbody tr th:only-of-type {\n",
       "        vertical-align: middle;\n",
       "    }\n",
       "\n",
       "    .dataframe tbody tr th {\n",
       "        vertical-align: top;\n",
       "    }\n",
       "\n",
       "    .dataframe thead th {\n",
       "        text-align: right;\n",
       "    }\n",
       "</style>\n",
       "<table border=\"1\" class=\"dataframe\">\n",
       "  <thead>\n",
       "    <tr style=\"text-align: right;\">\n",
       "      <th></th>\n",
       "      <th>F_N_M</th>\n",
       "      <th>alpha</th>\n",
       "      <th>Conclusion</th>\n",
       "    </tr>\n",
       "  </thead>\n",
       "  <tbody>\n",
       "    <tr>\n",
       "      <th>value</th>\n",
       "      <td>0.166894</td>\n",
       "      <td>0.05</td>\n",
       "      <td>True</td>\n",
       "    </tr>\n",
       "  </tbody>\n",
       "</table>\n",
       "</div>"
      ],
      "text/plain": [
       "          F_N_M  alpha  Conclusion\n",
       "value  0.166894   0.05        True"
      ]
     },
     "execution_count": 422,
     "metadata": {},
     "output_type": "execute_result"
    }
   ],
   "source": [
    "table4_7_1 = pd.DataFrame({\n",
    "                        'F_N_M':pval4_7[1],\n",
    "                        'alpha':0.05,\n",
    "                        'Conclusion': pval4_7[1] >= 0.05,\n",
    "                        }, index=['value'])\n",
    "table4_7_1"
   ]
  },
  {
   "cell_type": "code",
   "execution_count": null,
   "metadata": {},
   "outputs": [],
   "source": []
  }
 ],
 "metadata": {
  "kernelspec": {
   "display_name": "Python 3",
   "language": "python",
   "name": "python3"
  },
  "language_info": {
   "codemirror_mode": {
    "name": "ipython",
    "version": 3
   },
   "file_extension": ".py",
   "mimetype": "text/x-python",
   "name": "python",
   "nbconvert_exporter": "python",
   "pygments_lexer": "ipython3",
   "version": "3.8.3"
  }
 },
 "nbformat": 4,
 "nbformat_minor": 4
}
