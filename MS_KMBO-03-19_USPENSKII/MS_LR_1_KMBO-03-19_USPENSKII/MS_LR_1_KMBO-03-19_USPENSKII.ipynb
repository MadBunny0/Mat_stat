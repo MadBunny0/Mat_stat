{
 "cells": [
  {
   "cell_type": "markdown",
   "metadata": {
    "tags": []
   },
   "source": [
    "# Лабораторная работа Математической статистике №1 \n",
    "# «Первичная обработка выборки из дискретной генеральной совокупности»\n",
    "\n",
    "Работу выполнял студент группы КМБО-03-19 Успенсккий Артём."
   ]
  },
  {
   "cell_type": "markdown",
   "metadata": {},
   "source": [
    "Задание 1 Получить выборку, сгенерировав 200 псевдослучайных чисел,\n",
    "распределенных по биномиальному закону с параметрами n и p.\n",
    "\n"
   ]
  },
  {
   "cell_type": "code",
   "execution_count": 1,
   "metadata": {},
   "outputs": [],
   "source": [
    "import scipy.stats as sps\n",
    "import numpy as np\n",
    "import pandas as pd\n",
    "import matplotlib.pyplot as plt\n",
    "import pylab\n",
    "import statistics \n",
    "import cmath\n",
    "from matplotlib import ticker\n",
    "from math import factorial\n",
    "from math import exp\n",
    "from math import log"
   ]
  },
  {
   "cell_type": "code",
   "execution_count": 25,
   "metadata": {},
   "outputs": [],
   "source": [
    "def Binomial(n,p,size):\n",
    "    distr = sps.binom(n, p).rvs(size)\n",
    "    distr.sort()\n",
    "    print (\n",
    "        '\\nПараметр n = ', n,\n",
    "       '\\nПараметр p = ', p,)\n",
    "    print ('Биномиальное распределение:\\n',distr)\n",
    "    return (distr)\n",
    "\n",
    "def Geomerty(p,size):\n",
    "    distr = sps.geom(p).rvs(size)\n",
    "    for i in range(size):\n",
    "        distr[i]=distr[i]-1\n",
    "    distr.sort()\n",
    "    print (\n",
    "       '\\nПараметр p = ', p,)\n",
    "    print ('Геометрическое распределение:\\n',distr)\n",
    "    return (distr)\n",
    "\n",
    "def Poisson(l,size):\n",
    "    distr = sps.poisson(l).rvs(size)\n",
    "    distr.sort()\n",
    "    print (\n",
    "       '\\nПараметр l = ', l,)\n",
    "    print ('Распределение Пуассона:\\n',distr)\n",
    "    return (distr)\n",
    "\n",
    "\n",
    "def Xi(distr, size):\n",
    "    xi = []\n",
    "    for i in range(size):\n",
    "        if distr[i]!=distr[i-1]:\n",
    "            xi.append(distr[i])\n",
    "    return(xi)\n",
    "\n",
    "def Freq(distr, xi, size):\n",
    "    ni=[]\n",
    "    for j in range(len(xi)):\n",
    "        help = 0\n",
    "        for i in range(size):\n",
    "            if distr[i]==xi[j]:\n",
    "                help += 1\n",
    "        ni.append(help)  \n",
    "    return(ni)\n",
    "\n",
    "def Rel_freq(distr, ni, size):\n",
    "    wi = []\n",
    "    for i in range(len(ni)):\n",
    "        wi.append(ni[i]/size)\n",
    "    return(wi)\n",
    "\n",
    "def koef_srfq(wi, k):\n",
    "    S=0\n",
    "    for i in range (k+1):\n",
    "        S = S + wi[i]\n",
    "    return(S)  \n",
    "\n",
    "def Sum_rfq(wi, k):\n",
    "    sk = []\n",
    "    for i in range (len(wi)):\n",
    "        sk.append(koef_srfq(wi,i))\n",
    "    return(sk)\n",
    "    "
   ]
  },
  {
   "cell_type": "code",
   "execution_count": 3,
   "metadata": {},
   "outputs": [],
   "source": [
    "def Mean(xi ,wi):\n",
    "    X = 0\n",
    "    for i in range (len(xi)):\n",
    "        help = xi[i]*wi[i]\n",
    "        X += help\n",
    "    return (X)\n",
    "\n",
    "def Moment(xi,wi):\n",
    "    M = []\n",
    "    for i in range (len(xi)):\n",
    "        help = 0\n",
    "        for j in range (len(xi)):\n",
    "            help += pow(xi[j],i+1)*wi[j]\n",
    "        M.append(help)\n",
    "    return (M)\n",
    "    \n",
    "def Disp(M):\n",
    "    D = M[1]- pow(M[0], 2)\n",
    "    return (D)\n",
    "\n",
    "def RMS(D):\n",
    "    SD = pow(D, 1/2)\n",
    "    return (SD)\n",
    "\n",
    "def Mode(xi,wi):\n",
    "    max_w = max(wi)\n",
    "    flag = 0\n",
    "    mode = 0\n",
    "    for k in range(len(xi)):\n",
    "        if (wi[k] == max_w):\n",
    "            if flag > 0 and wi[k] == wi[k-1]:\n",
    "                print(\"Выборочная мода не существует!\")\n",
    "                break\n",
    "            mode += xi[k]\n",
    "            flag += 1\n",
    "    mode = mode/flag\n",
    "    return(round(mode, 5))\n",
    "\n",
    "def Median(xi,sk):\n",
    "    for k in range(len(xi)):\n",
    "        if k == 0:\n",
    "            if sk[k] > 0.5:\n",
    "                md = round(xi[k], 5)\n",
    "                return (md)\n",
    "            if sk[k] == 0.5:\n",
    "                md = (round(xi[k]+xi[k+1])/2, 5)\n",
    "                return (md)\n",
    "        if (sk[k] > 0.5) and (sk[k-1] < 0.5):\n",
    "            md = round(xi[k], 5)\n",
    "            return (md)\n",
    "        if sk[k] == 0.5:\n",
    "            md= (round(xi[k]+xi[k+1])/2, 5)\n",
    "            return (md)\n",
    "\n",
    "def Asym_coef(M, sd):\n",
    "    asym = (M[2]-3*M[1]*M[0]+2*pow(M[0], 3))/(pow(sd, 3))\n",
    "    return (asym)\n",
    "\n",
    "def Exe_coef(M, sd):\n",
    "    help = M[3]-4*M[2]*M[0]+6*M[1]*pow(M[0], 2)-3*pow(M[0], 4)\n",
    "    exe = help/(pow(sd, 4))-3\n",
    "    return(exe)\n",
    "    "
   ]
  },
  {
   "cell_type": "markdown",
   "metadata": {},
   "source": [
    "# БИНОМИНАЛЬНОЕ РАСПРЕДЕЛЕНИЕ"
   ]
  },
  {
   "cell_type": "code",
   "execution_count": 116,
   "metadata": {},
   "outputs": [],
   "source": [
    "v = 46\n",
    "n = 5 + v%16\n",
    "p = 0.25 + 0.005*v\n",
    "l = round(0.8 + v * 0.02, 5)\n",
    "size=200\n",
    "xi = []\n",
    "ni = []\n",
    "wi = []\n",
    "sk = []\n",
    "#xi - значение\n",
    "#ni - кол-во значения\n",
    "#sum(ni) = size \n",
    "#wi = ni/size\n",
    "#sk = sum(wj)\n",
    "\n",
    "distr1 = Binomial(n,p,size)\n",
    "xi = Xi(distr1, size)\n",
    "ni = Freq(distr1, xi, size)\n",
    "wi= Rel_freq(distr1, ni, size)\n",
    "sk = Sum_rfq(wi, size)\n",
    "\n",
    "#Distr2 = Geomerty(p,size)\n",
    "#Distr3 = Poisson(l,size)"
   ]
  },
  {
   "cell_type": "code",
   "execution_count": 117,
   "metadata": {},
   "outputs": [
    {
     "data": {
      "text/html": [
       "<div>\n",
       "<style scoped>\n",
       "    .dataframe tbody tr th:only-of-type {\n",
       "        vertical-align: middle;\n",
       "    }\n",
       "\n",
       "    .dataframe tbody tr th {\n",
       "        vertical-align: top;\n",
       "    }\n",
       "\n",
       "    .dataframe thead th {\n",
       "        text-align: right;\n",
       "    }\n",
       "</style>\n",
       "<table border=\"1\" class=\"dataframe\">\n",
       "  <thead>\n",
       "    <tr style=\"text-align: right;\">\n",
       "      <th></th>\n",
       "      <th>Xi</th>\n",
       "      <th>Ni</th>\n",
       "      <th>Wi</th>\n",
       "      <th>Si</th>\n",
       "    </tr>\n",
       "  </thead>\n",
       "  <tbody>\n",
       "    <tr>\n",
       "      <th>0</th>\n",
       "      <td>2</td>\n",
       "      <td>1</td>\n",
       "      <td>0.005</td>\n",
       "      <td>0.005</td>\n",
       "    </tr>\n",
       "    <tr>\n",
       "      <th>1</th>\n",
       "      <td>3</td>\n",
       "      <td>1</td>\n",
       "      <td>0.005</td>\n",
       "      <td>0.010</td>\n",
       "    </tr>\n",
       "    <tr>\n",
       "      <th>2</th>\n",
       "      <td>4</td>\n",
       "      <td>1</td>\n",
       "      <td>0.005</td>\n",
       "      <td>0.015</td>\n",
       "    </tr>\n",
       "    <tr>\n",
       "      <th>3</th>\n",
       "      <td>5</td>\n",
       "      <td>5</td>\n",
       "      <td>0.025</td>\n",
       "      <td>0.040</td>\n",
       "    </tr>\n",
       "    <tr>\n",
       "      <th>4</th>\n",
       "      <td>6</td>\n",
       "      <td>12</td>\n",
       "      <td>0.060</td>\n",
       "      <td>0.100</td>\n",
       "    </tr>\n",
       "    <tr>\n",
       "      <th>5</th>\n",
       "      <td>7</td>\n",
       "      <td>22</td>\n",
       "      <td>0.110</td>\n",
       "      <td>0.210</td>\n",
       "    </tr>\n",
       "    <tr>\n",
       "      <th>6</th>\n",
       "      <td>8</td>\n",
       "      <td>34</td>\n",
       "      <td>0.170</td>\n",
       "      <td>0.380</td>\n",
       "    </tr>\n",
       "    <tr>\n",
       "      <th>7</th>\n",
       "      <td>9</td>\n",
       "      <td>39</td>\n",
       "      <td>0.195</td>\n",
       "      <td>0.575</td>\n",
       "    </tr>\n",
       "    <tr>\n",
       "      <th>8</th>\n",
       "      <td>10</td>\n",
       "      <td>36</td>\n",
       "      <td>0.180</td>\n",
       "      <td>0.755</td>\n",
       "    </tr>\n",
       "    <tr>\n",
       "      <th>9</th>\n",
       "      <td>11</td>\n",
       "      <td>14</td>\n",
       "      <td>0.070</td>\n",
       "      <td>0.825</td>\n",
       "    </tr>\n",
       "    <tr>\n",
       "      <th>10</th>\n",
       "      <td>12</td>\n",
       "      <td>23</td>\n",
       "      <td>0.115</td>\n",
       "      <td>0.940</td>\n",
       "    </tr>\n",
       "    <tr>\n",
       "      <th>11</th>\n",
       "      <td>13</td>\n",
       "      <td>9</td>\n",
       "      <td>0.045</td>\n",
       "      <td>0.985</td>\n",
       "    </tr>\n",
       "    <tr>\n",
       "      <th>12</th>\n",
       "      <td>14</td>\n",
       "      <td>3</td>\n",
       "      <td>0.015</td>\n",
       "      <td>1.000</td>\n",
       "    </tr>\n",
       "  </tbody>\n",
       "</table>\n",
       "</div>"
      ],
      "text/plain": [
       "    Xi  Ni     Wi     Si\n",
       "0    2   1  0.005  0.005\n",
       "1    3   1  0.005  0.010\n",
       "2    4   1  0.005  0.015\n",
       "3    5   5  0.025  0.040\n",
       "4    6  12  0.060  0.100\n",
       "5    7  22  0.110  0.210\n",
       "6    8  34  0.170  0.380\n",
       "7    9  39  0.195  0.575\n",
       "8   10  36  0.180  0.755\n",
       "9   11  14  0.070  0.825\n",
       "10  12  23  0.115  0.940\n",
       "11  13   9  0.045  0.985\n",
       "12  14   3  0.015  1.000"
      ]
     },
     "execution_count": 117,
     "metadata": {},
     "output_type": "execute_result"
    }
   ],
   "source": [
    "Table = pd.DataFrame({'Xi':xi, 'Ni':ni, 'Wi':wi, 'Si':sk})\n",
    "Table"
   ]
  },
  {
   "cell_type": "code",
   "execution_count": 118,
   "metadata": {},
   "outputs": [
    {
     "data": {
      "text/plain": [
       "<matplotlib.legend.Legend at 0x29c78b1eee0>"
      ]
     },
     "execution_count": 118,
     "metadata": {},
     "output_type": "execute_result"
    },
    {
     "data": {
      "image/png": "[encoded data removed]",
      "text/plain": [
       "<Figure size 432x288 with 1 Axes>"
      ]
     },
     "metadata": {
      "needs_background": "light"
     },
     "output_type": "display_data"
    }
   ],
   "source": [
    "# полигон относительных частот\n",
    "fig, fir = plt.subplots()\n",
    "fir.xaxis.set_major_locator(ticker.MultipleLocator(1))\n",
    "fir.yaxis.set_major_locator(ticker.MultipleLocator(0.02))\n",
    "pi = [i for i in range(len(xi))]\n",
    "\n",
    "for k in range(len(xi)):\n",
    "    pi[k] = (factorial(n)/(factorial(xi[k])*factorial(n-\n",
    "xi[k])))*p**xi[k]*(1-p)**(n-xi[k])\n",
    "fir.plot(xi, wi, 'black',label='относительные частоты')\n",
    "fir.plot(xi, pi, 'red',label='вероятности')\n",
    "plt.title(\"Полигон относительных частот\")\n",
    "plt.grid(True)\n",
    "plt.legend(loc='best')"
   ]
  },
  {
   "cell_type": "code",
   "execution_count": 119,
   "metadata": {},
   "outputs": [
    {
     "data": {
      "image/png": "[encoded data removed]",
      "text/plain": [
       "<Figure size 432x288 with 1 Axes>"
      ]
     },
     "metadata": {
      "needs_background": "light"
     },
     "output_type": "display_data"
    }
   ],
   "source": [
    "# график функции эмпирического распределения\n",
    "fig, sec = plt.subplots()\n",
    "sec.xaxis.set_major_locator(ticker.MultipleLocator(1))\n",
    "sec.yaxis.set_major_locator(ticker.MultipleLocator(0.1))\n",
    "for k in range(len(xi) - 1):\n",
    "    sec.plot([xi[k], xi[k+1]], [sk[k], sk[k]])\n",
    "plt.title(\"Эмпирическая функция распределения\")\n",
    "plt.grid(True)\n",
    "plt.show()"
   ]
  },
  {
   "cell_type": "code",
   "execution_count": 120,
   "metadata": {},
   "outputs": [
    {
     "name": "stdout",
     "output_type": "stream",
     "text": [
      "9.12 \n",
      " 9.16 \n",
      "\n",
      "4.7424 \n",
      " 4.6644000000000005 \n",
      "\n",
      "2.177705214210592 \n",
      " 2.1597222043586997 \n",
      "\n",
      "9.6 \n",
      " 9.0 \n",
      "\n",
      "9 \n",
      " 9 \n",
      "\n",
      "0.018367958959266142 \n",
      " -0.13232413868897094 \n",
      "\n",
      "-0.10492577597840756 \n",
      " 0.054058739001653144 \n",
      "\n"
     ]
    }
   ],
   "source": [
    "#Выборочное среднее (теор/эксп)\n",
    "X_teor = n*p\n",
    "X = Mean(xi,wi)\n",
    "print (X_teor, '\\n', X,'\\n')\n",
    "\n",
    "#Выборочный момент\n",
    "M = Moment(xi,wi)\n",
    "\n",
    "#Выборочная дисперсия (теор/эксп)\n",
    "D_teor = n*p*(1-p)\n",
    "D = Disp(M)\n",
    "print (D_teor, '\\n', D,'\\n')\n",
    "\n",
    "#Выборочное среднеквадратическое откл.(теор/эксп)\n",
    "SD_teor = pow(D_teor, 1/2)\n",
    "SD = RMS(D)\n",
    "print (SD_teor, '\\n', SD,'\\n')\n",
    "\n",
    "#Выборочная мода (теор/эксп)\n",
    "mode_teor = (n+1)*p\n",
    "if int(mode_teor) == float(mode_teor):\n",
    "        mode_teor = round(mode_teor - 0.5, 5)\n",
    "mode = Mode(xi,wi)\n",
    "print (mode_teor, '\\n', mode,'\\n')\n",
    "\n",
    "#Выборочная медиана (теор/эксп)\n",
    "median_teor = round(n*p)\n",
    "median = Median(xi,sk)\n",
    "print (median_teor, '\\n', median,'\\n')\n",
    "\n",
    "#Выборочный коэф.асимметрии (теор/эксп)\n",
    "asym_teor = ((1-p)-p)/(SD_teor)\n",
    "asym = Asym_coef(M, SD)\n",
    "print (asym_teor, '\\n', asym,'\\n')\n",
    "\n",
    "#Выборочный коэф. эксцесса (теор/эксп)\n",
    "exe_teor = (1-6*p*(1-p))/(D_teor)\n",
    "exe = Exe_coef(M, SD)\n",
    "print (exe_teor, '\\n', exe,'\\n')\n",
    "\n"
   ]
  },
  {
   "cell_type": "code",
   "execution_count": 121,
   "metadata": {},
   "outputs": [
    {
     "name": "stdout",
     "output_type": "stream",
     "text": [
      "[0.0044144885033865, 0.0019373244792524657, 0.006308340384298588, 0.006315404141134552, 0.007448562765520569, 0.0056261075980352515, 0.009902312556566595, 0.014376968012536684, 0.013271047396187702, 0.05592116700148059, 0.03751005107601196, 0.006484285741923092, 0.00023698586033811184]\n",
      "0.16975304551667264\n"
     ]
    }
   ],
   "source": [
    "#теоретические вероятности\n",
    "wj = wi\n",
    "for i in range (len(wi)):\n",
    "    wj[i]=abs(wi[i]-pi[i])\n",
    "print(wj)\n",
    "print(sum(wj))"
   ]
  },
  {
   "cell_type": "markdown",
   "metadata": {},
   "source": [
    "# ГЕОМЕТРИЧЕСКОЕ РАСПРЕДЕЛЕНИЕ"
   ]
  },
  {
   "cell_type": "code",
   "execution_count": 134,
   "metadata": {},
   "outputs": [],
   "source": [
    "xi2 = []\n",
    "ni2 = []\n",
    "wi2 = []\n",
    "sk2 = []\n",
    "#xi - значение\n",
    "#ni - кол-во значения\n",
    "#sum(ni) = size \n",
    "#wi = ni/size\n",
    "#sk = sum(wj)\n",
    "\n",
    "distr2 = Geomerty(p,size)\n",
    "xi2 = Xi(distr2, size)\n",
    "ni2 = Freq(distr2, xi2, size)\n",
    "wi2= Rel_freq(distr2, ni2, size)\n",
    "sk2 = Sum_rfq(wi2, size)\n",
    "\n",
    "#Distr2 = Geomerty(p,size)\n",
    "#Distr3 = Poisson(l,size)"
   ]
  },
  {
   "cell_type": "code",
   "execution_count": 135,
   "metadata": {},
   "outputs": [
    {
     "data": {
      "text/html": [
       "<div>\n",
       "<style scoped>\n",
       "    .dataframe tbody tr th:only-of-type {\n",
       "        vertical-align: middle;\n",
       "    }\n",
       "\n",
       "    .dataframe tbody tr th {\n",
       "        vertical-align: top;\n",
       "    }\n",
       "\n",
       "    .dataframe thead th {\n",
       "        text-align: right;\n",
       "    }\n",
       "</style>\n",
       "<table border=\"1\" class=\"dataframe\">\n",
       "  <thead>\n",
       "    <tr style=\"text-align: right;\">\n",
       "      <th></th>\n",
       "      <th>Xi</th>\n",
       "      <th>Ni</th>\n",
       "      <th>Wi</th>\n",
       "      <th>Si</th>\n",
       "    </tr>\n",
       "  </thead>\n",
       "  <tbody>\n",
       "    <tr>\n",
       "      <th>0</th>\n",
       "      <td>0</td>\n",
       "      <td>87</td>\n",
       "      <td>0.435</td>\n",
       "      <td>0.435</td>\n",
       "    </tr>\n",
       "    <tr>\n",
       "      <th>1</th>\n",
       "      <td>1</td>\n",
       "      <td>58</td>\n",
       "      <td>0.290</td>\n",
       "      <td>0.725</td>\n",
       "    </tr>\n",
       "    <tr>\n",
       "      <th>2</th>\n",
       "      <td>2</td>\n",
       "      <td>19</td>\n",
       "      <td>0.095</td>\n",
       "      <td>0.820</td>\n",
       "    </tr>\n",
       "    <tr>\n",
       "      <th>3</th>\n",
       "      <td>3</td>\n",
       "      <td>18</td>\n",
       "      <td>0.090</td>\n",
       "      <td>0.910</td>\n",
       "    </tr>\n",
       "    <tr>\n",
       "      <th>4</th>\n",
       "      <td>4</td>\n",
       "      <td>7</td>\n",
       "      <td>0.035</td>\n",
       "      <td>0.945</td>\n",
       "    </tr>\n",
       "    <tr>\n",
       "      <th>5</th>\n",
       "      <td>5</td>\n",
       "      <td>3</td>\n",
       "      <td>0.015</td>\n",
       "      <td>0.960</td>\n",
       "    </tr>\n",
       "    <tr>\n",
       "      <th>6</th>\n",
       "      <td>6</td>\n",
       "      <td>4</td>\n",
       "      <td>0.020</td>\n",
       "      <td>0.980</td>\n",
       "    </tr>\n",
       "    <tr>\n",
       "      <th>7</th>\n",
       "      <td>7</td>\n",
       "      <td>1</td>\n",
       "      <td>0.005</td>\n",
       "      <td>0.985</td>\n",
       "    </tr>\n",
       "    <tr>\n",
       "      <th>8</th>\n",
       "      <td>9</td>\n",
       "      <td>2</td>\n",
       "      <td>0.010</td>\n",
       "      <td>0.995</td>\n",
       "    </tr>\n",
       "    <tr>\n",
       "      <th>9</th>\n",
       "      <td>10</td>\n",
       "      <td>1</td>\n",
       "      <td>0.005</td>\n",
       "      <td>1.000</td>\n",
       "    </tr>\n",
       "  </tbody>\n",
       "</table>\n",
       "</div>"
      ],
      "text/plain": [
       "   Xi  Ni     Wi     Si\n",
       "0   0  87  0.435  0.435\n",
       "1   1  58  0.290  0.725\n",
       "2   2  19  0.095  0.820\n",
       "3   3  18  0.090  0.910\n",
       "4   4   7  0.035  0.945\n",
       "5   5   3  0.015  0.960\n",
       "6   6   4  0.020  0.980\n",
       "7   7   1  0.005  0.985\n",
       "8   9   2  0.010  0.995\n",
       "9  10   1  0.005  1.000"
      ]
     },
     "execution_count": 135,
     "metadata": {},
     "output_type": "execute_result"
    }
   ],
   "source": [
    "Table2 = pd.DataFrame({'Xi':xi2, 'Ni':ni2, 'Wi':wi2, 'Si':sk2})\n",
    "Table2"
   ]
  },
  {
   "cell_type": "code",
   "execution_count": 136,
   "metadata": {},
   "outputs": [
    {
     "data": {
      "text/plain": [
       "<matplotlib.legend.Legend at 0x29c78cb43a0>"
      ]
     },
     "execution_count": 136,
     "metadata": {},
     "output_type": "execute_result"
    },
    {
     "data": {
      "image/png": "[encoded data removed]",
      "text/plain": [
       "<Figure size 432x288 with 1 Axes>"
      ]
     },
     "metadata": {
      "needs_background": "light"
     },
     "output_type": "display_data"
    }
   ],
   "source": [
    "fig, fir = plt.subplots()\n",
    "fir.xaxis.set_major_locator(ticker.MultipleLocator(1))\n",
    "fir.yaxis.set_major_locator(ticker.MultipleLocator(0.1))\n",
    "pi2 = [i for i in range(len(xi2))]\n",
    "for k in range(len(xi2)):\n",
    "    pi2[k] = ((1-p)**(xi2[k]))*p\n",
    "fir.plot(xi2, wi2, 'black',label='относительные частоты')\n",
    "fir.plot(xi2, pi2, 'red',label='вероятности')\n",
    "plt.title(\"Полигон относительных частот\")\n",
    "plt.grid(True)\n",
    "plt.legend(loc='best')"
   ]
  },
  {
   "cell_type": "code",
   "execution_count": 137,
   "metadata": {},
   "outputs": [
    {
     "data": {
      "image/png": "[encoded data removed]",
      "text/plain": [
       "<Figure size 432x288 with 1 Axes>"
      ]
     },
     "metadata": {
      "needs_background": "light"
     },
     "output_type": "display_data"
    }
   ],
   "source": [
    "fig, sec = plt.subplots()\n",
    "sec.xaxis.set_major_locator(ticker.MultipleLocator(1))\n",
    "sec.yaxis.set_major_locator(ticker.MultipleLocator(0.1))\n",
    "for k in range(len(xi2) - 1):\n",
    "    sec.plot([xi2[k], xi2[k+1]], [sk2[k], sk2[k]])\n",
    "plt.title(\"Эмпирическая функция распределения\")\n",
    "plt.grid(True)\n",
    "plt.show()"
   ]
  },
  {
   "cell_type": "code",
   "execution_count": 138,
   "metadata": {},
   "outputs": [
    {
     "name": "stdout",
     "output_type": "stream",
     "text": [
      "1.0833333333333335 \n",
      " 1.26 \n",
      "\n",
      "2.2569444444444446 \n",
      " 3.1023999999999994 \n",
      "\n",
      "1.502313031443329 \n",
      " 1.7613631085043195 \n",
      "\n",
      "0 \n",
      " 0.0 \n",
      "\n",
      "-1.0599772529606004 \n",
      " 1 \n",
      "\n",
      "2.1078607456558704 \n",
      " 2.231248435235513 \n",
      "\n",
      "6.443076923076923 \n",
      " 6.085494093178726 \n",
      "\n"
     ]
    }
   ],
   "source": [
    "#Выборочное среднее (теор/эксп)\n",
    "X_teor2 = (1-p)/p\n",
    "X2 = Mean(xi2,wi2)\n",
    "print (X_teor2, '\\n', X2,'\\n')\n",
    "\n",
    "#Выборочный момент\n",
    "M2 = Moment(xi2,wi2)\n",
    "\n",
    "#Выборочная дисперсия (теор/эксп)\n",
    "D_teor2 = (1-p)/pow(p,2)\n",
    "D2 = Disp(M2)\n",
    "print (D_teor2, '\\n', D2,'\\n')\n",
    "\n",
    "#Выборочное среднеквадратическое откл.(теор/эксп)\n",
    "SD_teor2 = pow((1-p), 1/2)/p\n",
    "SD2 = RMS(D2)\n",
    "print (SD_teor2, '\\n', SD2,'\\n')\n",
    "\n",
    "#Выборочная мода (теор/эксп)\n",
    "mode_teor2 = 0\n",
    "mode2 = Mode(xi2,wi2)\n",
    "print (mode_teor2, '\\n', mode2,'\\n')\n",
    "\n",
    "#Выборочная медиана (теор/эксп)\n",
    "median_teor2 = log(2) / log(1-p)\n",
    "if int(median_teor2) == float(median_teor2):\n",
    "    mode_teor2 = round(-median_teor2 - 0.5, 5)\n",
    "else:\n",
    "    mode_teor2 = int(-median_teor2)\n",
    "median2 = Median(xi2,sk2)\n",
    "print (median_teor2, '\\n', median2,'\\n')\n",
    "\n",
    "#Выборочный коэф.асимметрии (теор/эксп)\n",
    "asym_teor2 = (2 - p) / pow(1-p, 0.5)\n",
    "asym2 = Asym_coef(M2, SD2)\n",
    "print (asym_teor2, '\\n', asym2,'\\n')\n",
    "\n",
    "#Выборочный коэф. эксцесса (теор/эксп)\n",
    "exe_teor2 = (6 + (pow(p, 2) / (1-p)))\n",
    "exe2 = Exe_coef(M2, SD2)\n",
    "print (exe_teor2, '\\n', exe2,'\\n')"
   ]
  },
  {
   "cell_type": "code",
   "execution_count": 139,
   "metadata": {},
   "outputs": [
    {
     "name": "stdout",
     "output_type": "stream",
     "text": [
      "[0.48, 0.2496, 0.12979200000000002, 0.06749184, 0.0350957568, 0.018249793536, 0.009489892638720002, 0.004934744172134401, 0.0013343548241451422, 0.0006938645085554739]\n",
      "0.996682246479555\n"
     ]
    }
   ],
   "source": [
    "print (pi2)\n",
    "print(sum(pi2))"
   ]
  },
  {
   "cell_type": "code",
   "execution_count": 140,
   "metadata": {},
   "outputs": [
    {
     "name": "stdout",
     "output_type": "stream",
     "text": [
      "[0.045, 0.0404, 0.03479, 0.02251, 0.0001, 0.00325, 0.01051, 7e-05, 0.00867, 0.00431]\n",
      "0.16960999999999998\n"
     ]
    }
   ],
   "source": [
    "#теоретические вероятности\n",
    "wj2 = wi2\n",
    "for i in range (len(wi2)):\n",
    "    wj2[i]=round(abs(wi2[i]-pi2[i]),5)\n",
    "print(wj2)\n",
    "print(sum(wj2))"
   ]
  },
  {
   "cell_type": "markdown",
   "metadata": {},
   "source": [
    "# РАСПРЕДЕЛЕНИЕ ПУАССОН"
   ]
  },
  {
   "cell_type": "code",
   "execution_count": 51,
   "metadata": {},
   "outputs": [
    {
     "name": "stdout",
     "output_type": "stream",
     "text": [
      "\n",
      "Параметр l =  1.72\n",
      "Распределение Пуассона:\n",
      " [0 0 0 0 0 0 0 0 0 0 0 0 0 0 0 0 0 0 0 0 0 0 0 0 0 0 0 0 0 0 0 0 0 0 0 0 0\n",
      " 0 0 0 1 1 1 1 1 1 1 1 1 1 1 1 1 1 1 1 1 1 1 1 1 1 1 1 1 1 1 1 1 1 1 1 1 1\n",
      " 1 1 1 1 1 1 1 1 1 1 1 1 1 1 1 1 1 1 1 2 2 2 2 2 2 2 2 2 2 2 2 2 2 2 2 2 2\n",
      " 2 2 2 2 2 2 2 2 2 2 2 2 2 2 2 2 2 2 2 2 2 2 2 2 2 2 2 3 3 3 3 3 3 3 3 3 3\n",
      " 3 3 3 3 3 3 3 3 3 3 3 3 3 3 3 3 3 3 3 3 3 3 3 3 3 3 3 3 3 3 3 3 3 3 3 3 3\n",
      " 3 4 4 4 4 4 4 4 4 4 4 4 5 5 6]\n"
     ]
    }
   ],
   "source": [
    "xi3 = []\n",
    "ni3 = []\n",
    "wi3 = []\n",
    "sk3 = []\n",
    "#xi - значение\n",
    "#ni - кол-во значения\n",
    "#sum(ni) = size \n",
    "#wi = ni/size\n",
    "#sk = sum(wj)\n",
    "\n",
    "distr3 = Poisson(l,size)\n",
    "xi3 = Xi(distr3, size)\n",
    "ni3 = Freq(distr3, xi3, size)\n",
    "wi3= Rel_freq(distr3, ni3, size)\n",
    "sk3 = Sum_rfq(wi3, size)\n",
    "\n",
    "#Distr2 = Geomerty(p,size)\n",
    "#Distr3 = Poisson(l,size)"
   ]
  },
  {
   "cell_type": "code",
   "execution_count": 52,
   "metadata": {},
   "outputs": [
    {
     "data": {
      "text/html": [
       "<div>\n",
       "<style scoped>\n",
       "    .dataframe tbody tr th:only-of-type {\n",
       "        vertical-align: middle;\n",
       "    }\n",
       "\n",
       "    .dataframe tbody tr th {\n",
       "        vertical-align: top;\n",
       "    }\n",
       "\n",
       "    .dataframe thead th {\n",
       "        text-align: right;\n",
       "    }\n",
       "</style>\n",
       "<table border=\"1\" class=\"dataframe\">\n",
       "  <thead>\n",
       "    <tr style=\"text-align: right;\">\n",
       "      <th></th>\n",
       "      <th>Xi</th>\n",
       "      <th>Ni</th>\n",
       "      <th>Wi</th>\n",
       "      <th>Si</th>\n",
       "    </tr>\n",
       "  </thead>\n",
       "  <tbody>\n",
       "    <tr>\n",
       "      <th>0</th>\n",
       "      <td>0</td>\n",
       "      <td>40</td>\n",
       "      <td>0.200</td>\n",
       "      <td>0.200</td>\n",
       "    </tr>\n",
       "    <tr>\n",
       "      <th>1</th>\n",
       "      <td>1</td>\n",
       "      <td>53</td>\n",
       "      <td>0.265</td>\n",
       "      <td>0.465</td>\n",
       "    </tr>\n",
       "    <tr>\n",
       "      <th>2</th>\n",
       "      <td>2</td>\n",
       "      <td>45</td>\n",
       "      <td>0.225</td>\n",
       "      <td>0.690</td>\n",
       "    </tr>\n",
       "    <tr>\n",
       "      <th>3</th>\n",
       "      <td>3</td>\n",
       "      <td>48</td>\n",
       "      <td>0.240</td>\n",
       "      <td>0.930</td>\n",
       "    </tr>\n",
       "    <tr>\n",
       "      <th>4</th>\n",
       "      <td>4</td>\n",
       "      <td>11</td>\n",
       "      <td>0.055</td>\n",
       "      <td>0.985</td>\n",
       "    </tr>\n",
       "    <tr>\n",
       "      <th>5</th>\n",
       "      <td>5</td>\n",
       "      <td>2</td>\n",
       "      <td>0.010</td>\n",
       "      <td>0.995</td>\n",
       "    </tr>\n",
       "    <tr>\n",
       "      <th>6</th>\n",
       "      <td>6</td>\n",
       "      <td>1</td>\n",
       "      <td>0.005</td>\n",
       "      <td>1.000</td>\n",
       "    </tr>\n",
       "  </tbody>\n",
       "</table>\n",
       "</div>"
      ],
      "text/plain": [
       "   Xi  Ni     Wi     Si\n",
       "0   0  40  0.200  0.200\n",
       "1   1  53  0.265  0.465\n",
       "2   2  45  0.225  0.690\n",
       "3   3  48  0.240  0.930\n",
       "4   4  11  0.055  0.985\n",
       "5   5   2  0.010  0.995\n",
       "6   6   1  0.005  1.000"
      ]
     },
     "execution_count": 52,
     "metadata": {},
     "output_type": "execute_result"
    }
   ],
   "source": [
    "Table3 = pd.DataFrame({'Xi':xi3, 'Ni':ni3, 'Wi':wi3, 'Si':sk3})\n",
    "Table3"
   ]
  },
  {
   "cell_type": "code",
   "execution_count": 65,
   "metadata": {},
   "outputs": [
    {
     "data": {
      "text/plain": [
       "<matplotlib.legend.Legend at 0x29c789709d0>"
      ]
     },
     "execution_count": 65,
     "metadata": {},
     "output_type": "execute_result"
    },
    {
     "data": {
      "image/png": "[encoded data removed]",
      "text/plain": [
       "<Figure size 432x288 with 1 Axes>"
      ]
     },
     "metadata": {
      "needs_background": "light"
     },
     "output_type": "display_data"
    }
   ],
   "source": [
    "fig, fir = plt.subplots()\n",
    "fir.xaxis.set_major_locator(ticker.MultipleLocator(1))\n",
    "fir.yaxis.set_major_locator(ticker.MultipleLocator(0.05))\n",
    "pi3 = [i for i in range(len(xi3))]\n",
    "for k in range(len(xi3)):\n",
    "    pi3[k] = l**(xi3[k])/factorial(k)*exp((-1)*l)\n",
    "fir.plot(xi3, wi3, 'black',label='относительные частоты')\n",
    "fir.plot(xi3, pi3, 'red',label='вероятности')\n",
    "plt.title(\"Полигон относительных частот\")\n",
    "plt.grid(True)\n",
    "plt.legend(loc='best')"
   ]
  },
  {
   "cell_type": "code",
   "execution_count": 54,
   "metadata": {},
   "outputs": [
    {
     "data": {
      "image/png": "[encoded data removed]",
      "text/plain": [
       "<Figure size 432x288 with 1 Axes>"
      ]
     },
     "metadata": {
      "needs_background": "light"
     },
     "output_type": "display_data"
    }
   ],
   "source": [
    "fig, sec = plt.subplots()\n",
    "sec.xaxis.set_major_locator(ticker.MultipleLocator(1))\n",
    "sec.yaxis.set_major_locator(ticker.MultipleLocator(0.1))\n",
    "for k in range(len(xi3) - 1):\n",
    "    sec.plot([xi3[k], xi3[k+1]], [sk3[k], sk3[k]])\n",
    "plt.title(\"Эмпирическая функция распределения\")\n",
    "plt.grid(True)\n",
    "plt.show()"
   ]
  },
  {
   "cell_type": "code",
   "execution_count": 74,
   "metadata": {},
   "outputs": [
    {
     "name": "stdout",
     "output_type": "stream",
     "text": [
      "1.72 \n",
      " 1.735 \n",
      "\n",
      "1.72 \n",
      " 1.6247749999999996 \n",
      "\n",
      "1.3114877048604001 \n",
      " 1.2746666230822865 \n",
      "\n",
      "1 \n",
      " 1.0 \n",
      "\n",
      "2 \n",
      " 2 \n",
      "\n",
      "0.7624928516630234 \n",
      " 0.3453837289242395 \n",
      "\n",
      "0.5813953488372093 \n",
      " -0.4454678455139356 \n",
      "\n"
     ]
    }
   ],
   "source": [
    "#Выборочное среднее (теор/эксп)\n",
    "X_teor3 = l\n",
    "X3 = Mean(xi3,wi3)\n",
    "print (X_teor3, '\\n', X3,'\\n')\n",
    "\n",
    "#Выборочный момент\n",
    "M3 = Moment(xi3,wi3)\n",
    "\n",
    "#Выборочная дисперсия (теор/эксп)\n",
    "D_teor3 = l\n",
    "D3 = Disp(M3)\n",
    "print (D_teor3, '\\n', D3,'\\n')\n",
    "\n",
    "#Выборочное среднеквадратическое откл.(теор/эксп)\n",
    "SD_teor3 = pow(l, 1/2)\n",
    "SD3 = RMS(D3)\n",
    "print (SD_teor3, '\\n', SD3,'\\n')\n",
    "\n",
    "#Выборочная мода (теор/эксп)\n",
    "mode_teor3 = int(l)\n",
    "mode3 = Mode(xi3,wi3)\n",
    "print (mode_teor3, '\\n', mode3,'\\n')\n",
    "\n",
    "#Выборочная медиана (теор/эксп)\n",
    "median_teor3 = int(l+1/3-0.02/l)\n",
    "median3 = Median(xi3,sk3)\n",
    "print (median_teor3, '\\n', median3,'\\n')\n",
    "\n",
    "#Выборочный коэф.асимметрии (теор/эксп)\n",
    "asym_teor3 = pow(l, -1/2)\n",
    "asym3 = Asym_coef(M3, SD3)\n",
    "print (asym_teor3, '\\n', asym3,'\\n')\n",
    "\n",
    "#Выборочный коэф. эксцесса (теор/эксп)\n",
    "exe_teor3 = 1/l\n",
    "exe3 = Exe_coef(M3, SD3)\n",
    "print (exe_teor3, '\\n', exe3,'\\n')"
   ]
  },
  {
   "cell_type": "code",
   "execution_count": 141,
   "metadata": {},
   "outputs": [
    {
     "name": "stdout",
     "output_type": "stream",
     "text": [
      "[0.17906614791149322, 0.3079937744077683, 0.2648746459906807, 0.15186146370132364, 0.06530042939156917, 0.02246334771069979, 0.006439493010400607]\n",
      "0.9979993021239355\n"
     ]
    }
   ],
   "source": [
    "print (pi3)\n",
    "print(sum(pi3))"
   ]
  },
  {
   "cell_type": "code",
   "execution_count": 142,
   "metadata": {},
   "outputs": [
    {
     "name": "stdout",
     "output_type": "stream",
     "text": [
      "[0.02093, 0.04299, 0.03987, 0.08814, 0.0103, 0.01246, 0.00144]\n",
      "0.21613\n"
     ]
    }
   ],
   "source": [
    "#теоретические вероятности\n",
    "wj3 = wi3\n",
    "for i in range (len(wi3)):\n",
    "    wj3[i]=round(abs(wi3[i]-pi3[i]),5)\n",
    "print(wj3)\n",
    "print(sum(wj3))"
   ]
  },
  {
   "cell_type": "code",
   "execution_count": null,
   "metadata": {},
   "outputs": [],
   "source": []
  },
  {
   "cell_type": "code",
   "execution_count": null,
   "metadata": {},
   "outputs": [],
   "source": []
  },
  {
   "cell_type": "code",
   "execution_count": null,
   "metadata": {},
   "outputs": [],
   "source": []
  }
 ],
 "metadata": {
  "kernelspec": {
   "display_name": "Python 3",
   "language": "python",
   "name": "python3"
  },
  "language_info": {
   "codemirror_mode": {
    "name": "ipython",
    "version": 3
   },
   "file_extension": ".py",
   "mimetype": "text/x-python",
   "name": "python",
   "nbconvert_exporter": "python",
   "pygments_lexer": "ipython3",
   "version": "3.8.3"
  }
 },
 "nbformat": 4,
 "nbformat_minor": 4
}
