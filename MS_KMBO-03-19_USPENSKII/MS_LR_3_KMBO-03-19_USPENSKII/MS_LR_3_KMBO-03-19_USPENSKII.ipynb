{
 "cells": [
  {
   "cell_type": "code",
   "execution_count": 1,
   "metadata": {},
   "outputs": [],
   "source": [
    "import scipy.stats as sps\n",
    "import numpy as np\n",
    "import pandas as pd\n",
    "import matplotlib.pyplot as plt\n",
    "import pylab\n",
    "import statistics \n",
    "import cmath\n",
    "import math\n",
    "import seaborn as sns\n",
    "from matplotlib import ticker\n",
    "from math import factorial\n",
    "from math import exp\n",
    "from math import log\n",
    "from math import inf\n",
    "from scipy import integrate"
   ]
  },
  {
   "cell_type": "code",
   "execution_count": 2,
   "metadata": {},
   "outputs": [],
   "source": [
    "def Xi(distr):\n",
    "    xi = []\n",
    "    for item in distr:\n",
    "        if item not in xi: \n",
    "            xi.append(item)\n",
    "    \n",
    "    return(xi)\n",
    "\n",
    "def Freq(distr, xi, size):\n",
    "    ni=[]\n",
    "    for j in range(len(xi)):\n",
    "        help = 0\n",
    "        for i in range(size):\n",
    "            if distr[i]==xi[j]:\n",
    "                help += 1\n",
    "        ni.append(help)  \n",
    "    return(ni)\n",
    "\n",
    "def Rel_freq(ni, size):\n",
    "    wi = []\n",
    "    for i in range(len(ni)):\n",
    "        wi.append(ni[i]/size)\n",
    "    return(wi)\n"
   ]
  },
  {
   "cell_type": "code",
   "execution_count": 3,
   "metadata": {},
   "outputs": [],
   "source": [
    "def Mean_dis(xi ,wi):\n",
    "    X = 0\n",
    "    for i in range (len(xi)):\n",
    "        help = xi[i]*wi[i]\n",
    "        X += help\n",
    "    return (X)\n",
    "\n",
    "def Moment(xi,wi):\n",
    "    M = []\n",
    "    for i in range (len(xi)):\n",
    "        help = 0\n",
    "        for j in range (len(xi)):\n",
    "            help += pow(xi[j],i+1)*wi[j]\n",
    "        M.append(help)\n",
    "    return (M)\n",
    "    \n",
    "\n",
    "def chi_square(wi, pi, size):\n",
    "    chi = [i for i in range(len(wi))]\n",
    "    for k in range (len(wi)):\n",
    "        chi[k] = round((size*(wi[k]-pi[k])**2)/pi[k],5)\n",
    "    return (chi)\n",
    "\n",
    "def Disp(Moment):\n",
    "    D = Moment[1]- pow(Moment[0], 2)\n",
    "    return (D)"
   ]
  },
  {
   "cell_type": "code",
   "execution_count": 4,
   "metadata": {},
   "outputs": [],
   "source": [
    "def intervals(distr, size):\n",
    "    m = 1+int(log(size,2))\n",
    "    d = distr[-1] - distr[0]\n",
    "    a = [distr[0]]\n",
    "    for i in range (1,(m+1)):\n",
    "        a.append(d/m+a[i-1])\n",
    "    return a\n",
    "\n",
    "def Freq_inter(distr, inter, size):\n",
    "    ni=[]\n",
    "    for j in range(1,len(inter)):\n",
    "        count = 0\n",
    "        h=0\n",
    "        for i in range(size):\n",
    "            if j-1 == 0:\n",
    "                if distr[i]>=inter[j-1] and distr[i]<=inter[j]:\n",
    "                    count +=1\n",
    "            elif j == len(inter)-1:\n",
    "                if distr[i]>inter[j-1] and distr[i]<=inter[j]:                \n",
    "                    count += 1\n",
    "                if distr[i]>inter[j]:\n",
    "                    count += 1\n",
    "            else:\n",
    "                if distr[i]>inter[j-1] and distr[i]<=inter[j]:                \n",
    "                    count += 1\n",
    "        ni.append(count)  \n",
    "    return(ni)\n",
    "\n",
    "def Mid_inter(inter):\n",
    "    mid = []\n",
    "    for i in range(len(inter)-1):\n",
    "        mid.append((inter[i]+inter[i+1])/2)\n",
    "    return(mid)"
   ]
  },
  {
   "cell_type": "code",
   "execution_count": 5,
   "metadata": {},
   "outputs": [],
   "source": [
    "def read_distr(files):\n",
    "    with open(files) as file:\n",
    "        array = [row.strip() for row in file]\n",
    "    return (array)\n",
    "\n",
    "def Round_array(array):\n",
    "    for i in range (len(array)):\n",
    "        array[i] = round(array[i],5)\n",
    "    return array  \n",
    "\n",
    "X_kr = [0,0,0,0, 9.5, 11.1, 12.6, 14.1, 15.5]"
   ]
  },
  {
   "cell_type": "code",
   "execution_count": null,
   "metadata": {},
   "outputs": [],
   "source": []
  },
  {
   "cell_type": "markdown",
   "metadata": {},
   "source": [
    "# Задание 3-1 БИНОМИАЛЬНОЕ РАСПРЕДЕЛЕНИЕ"
   ]
  },
  {
   "cell_type": "code",
   "execution_count": 6,
   "metadata": {},
   "outputs": [
    {
     "name": "stdout",
     "output_type": "stream",
     "text": [
      "[3, 3, 3, 4, 4, 4, 4, 4, 4, 4, 4, 4, 4, 4, 4, 4, 4, 5, 5, 5, 5, 5, 5, 5, 5, 5, 5, 5, 5, 5, 5, 5, 5, 5, 5, 5, 5, 5, 5, 5, 5, 5, 5, 5, 5, 5, 5, 5, 5, 5, 5, 5, 6, 6, 6, 6, 6, 6, 6, 6, 6, 6, 6, 6, 6, 6, 6, 6, 6, 6, 6, 6, 6, 6, 6, 6, 6, 6, 6, 6, 6, 6, 6, 6, 6, 6, 6, 6, 6, 6, 6, 6, 6, 6, 6, 6, 6, 6, 6, 7, 7, 7, 7, 7, 7, 7, 7, 7, 7, 7, 7, 7, 7, 7, 7, 7, 7, 7, 7, 7, 7, 7, 7, 7, 7, 7, 7, 7, 7, 7, 7, 7, 7, 7, 7, 7, 7, 7, 7, 7, 7, 7, 7, 7, 7, 7, 7, 7, 7, 7, 7, 7, 7, 7, 7, 7, 7, 7, 7, 7, 7, 7, 7, 7, 8, 8, 8, 8, 8, 8, 8, 8, 8, 8, 8, 8, 8, 8, 8, 8, 8, 8, 8, 8, 8, 8, 8, 8, 8, 8, 8, 8, 8, 8, 9, 9, 9, 9, 9, 9]\n"
     ]
    }
   ],
   "source": [
    "sns.set(rc={'figure.figsize':(12,7)})\n",
    "\n",
    "v3_1 = 46\n",
    "n3_1 = 9\n",
    "size = 200\n",
    "distr3_1 = read_distr(\"binom.txt\")\n",
    "for i, item in enumerate(distr3_1):\n",
    "    distr3_1[i] = int(item)\n",
    "distr3_1.sort()\n",
    "print(distr3_1)"
   ]
  },
  {
   "cell_type": "code",
   "execution_count": 7,
   "metadata": {},
   "outputs": [
    {
     "data": {
      "text/html": [
       "<div>\n",
       "<style scoped>\n",
       "    .dataframe tbody tr th:only-of-type {\n",
       "        vertical-align: middle;\n",
       "    }\n",
       "\n",
       "    .dataframe tbody tr th {\n",
       "        vertical-align: top;\n",
       "    }\n",
       "\n",
       "    .dataframe thead th {\n",
       "        text-align: right;\n",
       "    }\n",
       "</style>\n",
       "<table border=\"1\" class=\"dataframe\">\n",
       "  <thead>\n",
       "    <tr style=\"text-align: right;\">\n",
       "      <th></th>\n",
       "      <th>Xi</th>\n",
       "      <th>Ni</th>\n",
       "      <th>Wi</th>\n",
       "    </tr>\n",
       "  </thead>\n",
       "  <tbody>\n",
       "    <tr>\n",
       "      <th>0</th>\n",
       "      <td>3</td>\n",
       "      <td>3</td>\n",
       "      <td>0.015</td>\n",
       "    </tr>\n",
       "    <tr>\n",
       "      <th>1</th>\n",
       "      <td>4</td>\n",
       "      <td>14</td>\n",
       "      <td>0.070</td>\n",
       "    </tr>\n",
       "    <tr>\n",
       "      <th>2</th>\n",
       "      <td>5</td>\n",
       "      <td>35</td>\n",
       "      <td>0.175</td>\n",
       "    </tr>\n",
       "    <tr>\n",
       "      <th>3</th>\n",
       "      <td>6</td>\n",
       "      <td>47</td>\n",
       "      <td>0.235</td>\n",
       "    </tr>\n",
       "    <tr>\n",
       "      <th>4</th>\n",
       "      <td>7</td>\n",
       "      <td>65</td>\n",
       "      <td>0.325</td>\n",
       "    </tr>\n",
       "    <tr>\n",
       "      <th>5</th>\n",
       "      <td>8</td>\n",
       "      <td>30</td>\n",
       "      <td>0.150</td>\n",
       "    </tr>\n",
       "    <tr>\n",
       "      <th>6</th>\n",
       "      <td>9</td>\n",
       "      <td>6</td>\n",
       "      <td>0.030</td>\n",
       "    </tr>\n",
       "  </tbody>\n",
       "</table>\n",
       "</div>"
      ],
      "text/plain": [
       "   Xi  Ni     Wi\n",
       "0   3   3  0.015\n",
       "1   4  14  0.070\n",
       "2   5  35  0.175\n",
       "3   6  47  0.235\n",
       "4   7  65  0.325\n",
       "5   8  30  0.150\n",
       "6   9   6  0.030"
      ]
     },
     "execution_count": 7,
     "metadata": {},
     "output_type": "execute_result"
    }
   ],
   "source": [
    "df_3_1 = pd.DataFrame({'distr3_1':distr3_1})\n",
    "\n",
    "xi3_1 = []\n",
    "ni3_1 = []\n",
    "wi3_1 = []\n",
    "#xi - значение\n",
    "#ni - кол-во значения\n",
    "#sum(ni) = size \n",
    "#wi = ni/size\n",
    "\n",
    "xi3_1 = Xi(distr3_1)\n",
    "ni3_1 = Freq(distr3_1, xi3_1, size)\n",
    "wi3_1 = Rel_freq(ni3_1, size)\n",
    "\n",
    "Table3_1_1 = pd.DataFrame({'Xi':xi3_1,\n",
    "                           'Ni':ni3_1,\n",
    "                           'Wi':wi3_1})\n",
    "Table3_1_1"
   ]
  },
  {
   "cell_type": "code",
   "execution_count": 8,
   "metadata": {},
   "outputs": [
    {
     "name": "stdout",
     "output_type": "stream",
     "text": [
      "p = 0.70611\n"
     ]
    }
   ],
   "source": [
    "# вычисление теор вероятности\n",
    "M3_1 = Moment(xi3_1,wi3_1)\n",
    "pi3_1 = [i for i in range(len(xi3_1))]\n",
    "p3_1 = M3_1[0]/n3_1\n",
    "\n",
    "print('p =', round(p3_1, 5))"
   ]
  },
  {
   "cell_type": "code",
   "execution_count": 9,
   "metadata": {},
   "outputs": [
    {
     "data": {
      "text/html": [
       "<div>\n",
       "<style scoped>\n",
       "    .dataframe tbody tr th:only-of-type {\n",
       "        vertical-align: middle;\n",
       "    }\n",
       "\n",
       "    .dataframe tbody tr th {\n",
       "        vertical-align: top;\n",
       "    }\n",
       "\n",
       "    .dataframe thead th {\n",
       "        text-align: right;\n",
       "    }\n",
       "</style>\n",
       "<table border=\"1\" class=\"dataframe\">\n",
       "  <thead>\n",
       "    <tr style=\"text-align: right;\">\n",
       "      <th></th>\n",
       "      <th>Xi</th>\n",
       "      <th>Wi</th>\n",
       "      <th>Pi</th>\n",
       "      <th>Wi-Pi</th>\n",
       "      <th>chi_square</th>\n",
       "    </tr>\n",
       "  </thead>\n",
       "  <tbody>\n",
       "    <tr>\n",
       "      <th>0</th>\n",
       "      <td>3</td>\n",
       "      <td>0.015</td>\n",
       "      <td>0.01905</td>\n",
       "      <td>0.00405</td>\n",
       "      <td>0.17220</td>\n",
       "    </tr>\n",
       "    <tr>\n",
       "      <th>1</th>\n",
       "      <td>4</td>\n",
       "      <td>0.070</td>\n",
       "      <td>0.06867</td>\n",
       "      <td>0.00133</td>\n",
       "      <td>0.00515</td>\n",
       "    </tr>\n",
       "    <tr>\n",
       "      <th>2</th>\n",
       "      <td>5</td>\n",
       "      <td>0.175</td>\n",
       "      <td>0.16499</td>\n",
       "      <td>0.01001</td>\n",
       "      <td>0.12146</td>\n",
       "    </tr>\n",
       "    <tr>\n",
       "      <th>3</th>\n",
       "      <td>6</td>\n",
       "      <td>0.235</td>\n",
       "      <td>0.26428</td>\n",
       "      <td>0.02928</td>\n",
       "      <td>0.64880</td>\n",
       "    </tr>\n",
       "    <tr>\n",
       "      <th>4</th>\n",
       "      <td>7</td>\n",
       "      <td>0.325</td>\n",
       "      <td>0.27213</td>\n",
       "      <td>0.05287</td>\n",
       "      <td>2.05434</td>\n",
       "    </tr>\n",
       "    <tr>\n",
       "      <th>5</th>\n",
       "      <td>8</td>\n",
       "      <td>0.150</td>\n",
       "      <td>0.16346</td>\n",
       "      <td>0.01346</td>\n",
       "      <td>0.22167</td>\n",
       "    </tr>\n",
       "    <tr>\n",
       "      <th>6</th>\n",
       "      <td>9</td>\n",
       "      <td>0.030</td>\n",
       "      <td>0.04364</td>\n",
       "      <td>0.01364</td>\n",
       "      <td>0.85266</td>\n",
       "    </tr>\n",
       "  </tbody>\n",
       "</table>\n",
       "</div>"
      ],
      "text/plain": [
       "   Xi     Wi       Pi    Wi-Pi  chi_square\n",
       "0   3  0.015  0.01905  0.00405     0.17220\n",
       "1   4  0.070  0.06867  0.00133     0.00515\n",
       "2   5  0.175  0.16499  0.01001     0.12146\n",
       "3   6  0.235  0.26428  0.02928     0.64880\n",
       "4   7  0.325  0.27213  0.05287     2.05434\n",
       "5   8  0.150  0.16346  0.01346     0.22167\n",
       "6   9  0.030  0.04364  0.01364     0.85266"
      ]
     },
     "execution_count": 9,
     "metadata": {},
     "output_type": "execute_result"
    }
   ],
   "source": [
    "\n",
    "for k in range(len(xi3_1)):\n",
    "    pi3_1[k] = round((factorial(n3_1)/(factorial(xi3_1[k])*factorial(n3_1-xi3_1[k])))*\n",
    "                     (p3_1**xi3_1[k])*(1-p3_1)**(n3_1-xi3_1[k]), 5)\n",
    "    \n",
    "\n",
    "# Вычисление значения хи-квадрат\n",
    "chi_square3_1 = chi_square(wi3_1, pi3_1, size)\n",
    "\n",
    "\n",
    "\n",
    "# Wi - Pi\n",
    "diff_wp3_1 = []\n",
    "for i in range(len(wi3_1)):\n",
    "    diff_wp3_1.append(abs(wi3_1[i]-pi3_1[i]))\n",
    "\n",
    "Table3_1_2 = pd.DataFrame({'Xi':xi3_1,\n",
    "                           'Wi':wi3_1,\n",
    "                           'Pi':pi3_1,\n",
    "                           'Wi-Pi':diff_wp3_1,\n",
    "                           'chi_square':chi_square3_1})\n",
    "Table3_1_2"
   ]
  },
  {
   "cell_type": "code",
   "execution_count": 10,
   "metadata": {},
   "outputs": [
    {
     "name": "stdout",
     "output_type": "stream",
     "text": [
      "Сумма wk: 1.0\n",
      "Сумма pk: 0.99622\n",
      "max |Wk-Pk|: 0.05287000000000003\n",
      "Хи квадрат = 4.07628\n"
     ]
    }
   ],
   "source": [
    "print ('Сумма wk:',round(sum(wi3_1),5))\n",
    "print ('Сумма pk:',round(sum(pi3_1),5))\n",
    "print('max |Wk-Pk|:',max(diff_wp3_1))\n",
    "print('Хи квадрат =', sum(chi_square3_1))"
   ]
  },
  {
   "cell_type": "code",
   "execution_count": 11,
   "metadata": {},
   "outputs": [
    {
     "name": "stdout",
     "output_type": "stream",
     "text": [
      " степеней свободы = 5\n"
     ]
    }
   ],
   "source": [
    "print(' степеней свободы =', len(wi3_1)-2)"
   ]
  },
  {
   "cell_type": "code",
   "execution_count": 12,
   "metadata": {},
   "outputs": [
    {
     "name": "stdout",
     "output_type": "stream",
     "text": [
      "гипотеза о соответствии выборки биномиальному распределению \n",
      "НЕ ПРОТИВОРЕЧИТ экспериментальным данным при уровне  значимости 0,05\n"
     ]
    }
   ],
   "source": [
    "if (sum(chi_square3_1)<= X_kr[len(wi3_1)-2]):\n",
    "    print ('''гипотеза о соответствии выборки биномиальному распределению \n",
    "НЕ ПРОТИВОРЕЧИТ экспериментальным данным при уровне  значимости 0,05''')\n",
    "else:\n",
    "    print ('''гипотеза о соответствии выборки биномиальному распределению\n",
    "ПРОТИВОРЕЧИТ экспериментальным данным при уровне  значимости 0,05''')"
   ]
  },
  {
   "cell_type": "code",
   "execution_count": 13,
   "metadata": {},
   "outputs": [
    {
     "data": {
      "text/plain": [
       "<matplotlib.legend.Legend at 0x1ad5a6aafd0>"
      ]
     },
     "execution_count": 13,
     "metadata": {},
     "output_type": "execute_result"
    },
    {
     "data": {
      "image/png": "[encoded data removed]",
      "text/plain": [
       "<Figure size 864x504 with 1 Axes>"
      ]
     },
     "metadata": {},
     "output_type": "display_data"
    }
   ],
   "source": [
    "fig, fir = plt.subplots()\n",
    "fir.xaxis.set_major_locator(ticker.MultipleLocator(1))\n",
    "fir.yaxis.set_major_locator(ticker.MultipleLocator(0.02))\n",
    "pi3_1 = [i for i in range(len(xi3_1))]\n",
    "\n",
    "for k in range(len(xi3_1)):\n",
    "    pi3_1[k] = (factorial(n3_1)/(factorial(xi3_1[k])*factorial(n3_1-\n",
    "xi3_1[k])))*p3_1**xi3_1[k]*(1-p3_1)**(n3_1-xi3_1[k])\n",
    "fir.plot(xi3_1, wi3_1, 'black',label='относительные частоты')\n",
    "fir.plot(xi3_1, pi3_1, 'red',label='вероятности')\n",
    "plt.title(\"Полигон относительных частот\")\n",
    "plt.grid(True)\n",
    "plt.legend(loc='best')"
   ]
  },
  {
   "cell_type": "code",
   "execution_count": null,
   "metadata": {},
   "outputs": [],
   "source": []
  },
  {
   "cell_type": "markdown",
   "metadata": {},
   "source": [
    "# Задача 3_2 ПОКАЗАТЕЛЬНОЕ РАСПРЕДЕЛЕНИЕ"
   ]
  },
  {
   "cell_type": "code",
   "execution_count": 14,
   "metadata": {},
   "outputs": [],
   "source": [
    "def Density3_2(inter,lam):\n",
    "    foo=[i for i in range(len(inter))]\n",
    "    for i in range (len(inter)):\n",
    "        foo[i] = lam*exp(-lam*inter[i])\n",
    "    return(foo)\n",
    "\n",
    "def func3_2(inter,lam):\n",
    "    func=[i for i in range(len(inter))]\n",
    "    for i in range (len(inter)):\n",
    "        func[i] = 1-exp(-lam*inter[i])\n",
    "    return(func)\n",
    "\n",
    "def Pi3_2(func):\n",
    "    P=[i for i in range(len(func)-1)]\n",
    "    P[-1] = 1 - func[-1]\n",
    "    for i in range(len(func)-2):\n",
    "        P[i] = func[i+1] - func[i]\n",
    "    return P\n"
   ]
  },
  {
   "cell_type": "code",
   "execution_count": 15,
   "metadata": {},
   "outputs": [
    {
     "name": "stdout",
     "output_type": "stream",
     "text": [
      "[0.0004, 0.00081, 0.001, 0.00174, 0.00689, 0.00755, 0.01015, 0.01631, 0.02046, 0.02206, 0.02259, 0.0309, 0.04024, 0.04749, 0.05298, 0.05637, 0.05806, 0.06479, 0.076, 0.07721, 0.08229, 0.08482, 0.08694, 0.09046, 0.09811, 0.09979, 0.10912, 0.13559, 0.13592, 0.13929, 0.13962, 0.14207, 0.14308, 0.14453, 0.14595, 0.14632, 0.15558, 0.15739, 0.16015, 0.17406, 0.17531, 0.17917, 0.18265, 0.18711, 0.19192, 0.1949, 0.19552, 0.20326, 0.20652, 0.20676, 0.21235, 0.21642, 0.23564, 0.24792, 0.25107, 0.25663, 0.26168, 0.26311, 0.26468, 0.27342, 0.27799, 0.27818, 0.27854, 0.28394, 0.29945, 0.30559, 0.31931, 0.33859, 0.33862, 0.34066, 0.34861, 0.37297, 0.38188, 0.40903, 0.41095, 0.41253, 0.41267, 0.41517, 0.42116, 0.42906, 0.43331, 0.43443, 0.43471, 0.43739, 0.44408, 0.44665, 0.4485, 0.45171, 0.46023, 0.46034, 0.46522, 0.46807, 0.47997, 0.48073, 0.49628, 0.51029, 0.5122, 0.52083, 0.52571, 0.52992, 0.54301, 0.54428, 0.5561, 0.56765, 0.57252, 0.59787, 0.63074, 0.65251, 0.65431, 0.66105, 0.66364, 0.6761, 0.67741, 0.69063, 0.69219, 0.6931, 0.69646, 0.71303, 0.72536, 0.7309, 0.74501, 0.76509, 0.78006, 0.81523, 0.82593, 0.83528, 0.84122, 0.84819, 0.84825, 0.85295, 0.8717, 0.89172, 0.91889, 0.92245, 0.9272, 0.92739, 0.92776, 0.94765, 1.05088, 1.06502, 1.06742, 1.09893, 1.11188, 1.12378, 1.12611, 1.17596, 1.18896, 1.19374, 1.23128, 1.23387, 1.27399, 1.28525, 1.28583, 1.31295, 1.34678, 1.35348, 1.36475, 1.3741, 1.38866, 1.40109, 1.4026, 1.40444, 1.44526, 1.46321, 1.49746, 1.50322, 1.51726, 1.52676, 1.55681, 1.57545, 1.58386, 1.60032, 1.61129, 1.62112, 1.63059, 1.69262, 1.70317, 1.71495, 1.7599, 1.76193, 1.76315, 1.76708, 1.81542, 1.8767, 1.91352, 1.91726, 2.11917, 2.12724, 2.17253, 2.17256, 2.20956, 2.2402, 2.34382, 2.43031, 2.53646, 2.60738, 2.91082, 2.94829, 2.99722, 3.17029]\n"
     ]
    }
   ],
   "source": [
    "v3_2 = 46\n",
    "size = 200\n",
    "distr3_2 = read_distr(\"expon.txt\")\n",
    "\n",
    "# делем из str - float\n",
    "for i in range(len(distr3_2)):\n",
    "    distr3_2[i] = float(str(distr3_2[i]).replace(\",\", \".\"))\n",
    "\n",
    "for i, item in enumerate(distr3_2):\n",
    "    distr3_2[i] = float(item)\n",
    "\n",
    "distr3_2.sort()\n",
    "print (distr3_2)"
   ]
  },
  {
   "cell_type": "code",
   "execution_count": 16,
   "metadata": {},
   "outputs": [
    {
     "data": {
      "text/html": [
       "<div>\n",
       "<style scoped>\n",
       "    .dataframe tbody tr th:only-of-type {\n",
       "        vertical-align: middle;\n",
       "    }\n",
       "\n",
       "    .dataframe tbody tr th {\n",
       "        vertical-align: top;\n",
       "    }\n",
       "\n",
       "    .dataframe thead th {\n",
       "        text-align: right;\n",
       "    }\n",
       "</style>\n",
       "<table border=\"1\" class=\"dataframe\">\n",
       "  <thead>\n",
       "    <tr style=\"text-align: right;\">\n",
       "      <th></th>\n",
       "      <th>Intervals</th>\n",
       "      <th>Ni</th>\n",
       "      <th>Wi</th>\n",
       "    </tr>\n",
       "  </thead>\n",
       "  <tbody>\n",
       "    <tr>\n",
       "      <th>0</th>\n",
       "      <td>[0, 0.39664]</td>\n",
       "      <td>73</td>\n",
       "      <td>0.365</td>\n",
       "    </tr>\n",
       "    <tr>\n",
       "      <th>1</th>\n",
       "      <td>[0.39664, 0.79287]</td>\n",
       "      <td>50</td>\n",
       "      <td>0.250</td>\n",
       "    </tr>\n",
       "    <tr>\n",
       "      <th>2</th>\n",
       "      <td>[0.79287, 1.18911]</td>\n",
       "      <td>24</td>\n",
       "      <td>0.120</td>\n",
       "    </tr>\n",
       "    <tr>\n",
       "      <th>3</th>\n",
       "      <td>[1.18911, 1.58535]</td>\n",
       "      <td>24</td>\n",
       "      <td>0.120</td>\n",
       "    </tr>\n",
       "    <tr>\n",
       "      <th>4</th>\n",
       "      <td>[1.58535, 1.98158]</td>\n",
       "      <td>15</td>\n",
       "      <td>0.075</td>\n",
       "    </tr>\n",
       "    <tr>\n",
       "      <th>5</th>\n",
       "      <td>[1.98158, 2.37782]</td>\n",
       "      <td>7</td>\n",
       "      <td>0.035</td>\n",
       "    </tr>\n",
       "    <tr>\n",
       "      <th>6</th>\n",
       "      <td>[2.37782, 2.77405]</td>\n",
       "      <td>3</td>\n",
       "      <td>0.015</td>\n",
       "    </tr>\n",
       "    <tr>\n",
       "      <th>7</th>\n",
       "      <td>[2.77405, 3.17029]</td>\n",
       "      <td>4</td>\n",
       "      <td>0.020</td>\n",
       "    </tr>\n",
       "  </tbody>\n",
       "</table>\n",
       "</div>"
      ],
      "text/plain": [
       "            Intervals  Ni     Wi\n",
       "0        [0, 0.39664]  73  0.365\n",
       "1  [0.39664, 0.79287]  50  0.250\n",
       "2  [0.79287, 1.18911]  24  0.120\n",
       "3  [1.18911, 1.58535]  24  0.120\n",
       "4  [1.58535, 1.98158]  15  0.075\n",
       "5  [1.98158, 2.37782]   7  0.035\n",
       "6  [2.37782, 2.77405]   3  0.015\n",
       "7  [2.77405, 3.17029]   4  0.020"
      ]
     },
     "execution_count": 16,
     "metadata": {},
     "output_type": "execute_result"
    }
   ],
   "source": [
    "df_3_2 = pd.DataFrame({'distr3_2':distr3_2})\n",
    "\n",
    "xi3_2 = []\n",
    "ni3_2 = []\n",
    "wi3_2 = []\n",
    "sk3_2 = []\n",
    "#xi - значение\n",
    "#ni - кол-во значения\n",
    "#sum(ni) = size \n",
    "#wi = ni/size\n",
    "#sk = sum(wj)\n",
    "\n",
    "xi3_2 = Xi(distr3_2)\n",
    "ni3_2 = Freq(distr3_2, xi3_2, size)\n",
    "wi3_2 = Rel_freq(ni3_2, size)\n",
    "\n",
    "    \n",
    "# Построение интервалов\n",
    "inter3_2 = intervals(distr3_2, size)\n",
    "inter3_2[0] = 0\n",
    "\n",
    "interval_all3_2 = [[inter3_2[0], inter3_2[1]],\n",
    "                  [inter3_2[1], inter3_2[2]],\n",
    "                  [inter3_2[2], inter3_2[3]],\n",
    "                  [inter3_2[3], inter3_2[4]],\n",
    "                  [inter3_2[4], inter3_2[5]],\n",
    "                  [inter3_2[5], inter3_2[6]],\n",
    "                  [inter3_2[6], inter3_2[7]],\n",
    "                  [inter3_2[7], inter3_2[8]],\n",
    "                  ]\n",
    "\n",
    "inter3_2_round = Round_array(inter3_2)\n",
    "interval_all3_2_round = [\n",
    "                        [inter3_2_round[0], inter3_2_round[1]],\n",
    "                        [inter3_2_round[1], inter3_2_round[2]],\n",
    "                        [inter3_2_round[2], inter3_2_round[3]],\n",
    "                        [inter3_2_round[3], inter3_2_round[4]],\n",
    "                        [inter3_2_round[4], inter3_2_round[5]],\n",
    "                        [inter3_2_round[5], inter3_2_round[6]],\n",
    "                        [inter3_2_round[6], inter3_2_round[7]],\n",
    "                        [inter3_2_round[7], inter3_2_round[8]],\n",
    "                        ]\n",
    "\n",
    "# интервальная частота\n",
    "ni_inter3_2 = Freq_inter(distr3_2, inter3_2, size)\n",
    "\n",
    "# интервальная отн частота\n",
    "wi_inter3_2 = Rel_freq(ni_inter3_2, size)\n",
    "\n",
    "# центроиды интервалов\n",
    "x_x3_2 = Mid_inter(inter3_2)\n",
    "\n",
    "Table3_2_1 = pd.DataFrame({'Intervals':interval_all3_2_round,\n",
    "                           'Ni':ni_inter3_2,\n",
    "                           'Wi':wi_inter3_2})\n",
    "Table3_2_1"
   ]
  },
  {
   "cell_type": "code",
   "execution_count": 17,
   "metadata": {},
   "outputs": [
    {
     "name": "stdout",
     "output_type": "stream",
     "text": [
      "оценка лямба =  1.27224\n"
     ]
    }
   ],
   "source": [
    "# находим лямбду с чертой\n",
    "M = Moment(xi3_2, wi3_2)\n",
    "lam3_2 = 1/M[0]\n",
    "print ('оценка лямба = ', round(lam3_2,5))"
   ]
  },
  {
   "cell_type": "code",
   "execution_count": 18,
   "metadata": {},
   "outputs": [
    {
     "data": {
      "text/html": [
       "<div>\n",
       "<style scoped>\n",
       "    .dataframe tbody tr th:only-of-type {\n",
       "        vertical-align: middle;\n",
       "    }\n",
       "\n",
       "    .dataframe tbody tr th {\n",
       "        vertical-align: top;\n",
       "    }\n",
       "\n",
       "    .dataframe thead th {\n",
       "        text-align: right;\n",
       "    }\n",
       "</style>\n",
       "<table border=\"1\" class=\"dataframe\">\n",
       "  <thead>\n",
       "    <tr style=\"text-align: right;\">\n",
       "      <th></th>\n",
       "      <th>ak</th>\n",
       "      <th>f(ak, lam)</th>\n",
       "      <th>F(ak, lam)</th>\n",
       "      <th>pi</th>\n",
       "    </tr>\n",
       "  </thead>\n",
       "  <tbody>\n",
       "    <tr>\n",
       "      <th>0</th>\n",
       "      <td>0.00000</td>\n",
       "      <td>1.272238</td>\n",
       "      <td>0.000000</td>\n",
       "      <td>0.000000</td>\n",
       "    </tr>\n",
       "    <tr>\n",
       "      <th>1</th>\n",
       "      <td>0.39664</td>\n",
       "      <td>0.768094</td>\n",
       "      <td>0.396265</td>\n",
       "      <td>0.396265</td>\n",
       "    </tr>\n",
       "    <tr>\n",
       "      <th>2</th>\n",
       "      <td>0.79287</td>\n",
       "      <td>0.463967</td>\n",
       "      <td>0.635314</td>\n",
       "      <td>0.239049</td>\n",
       "    </tr>\n",
       "    <tr>\n",
       "      <th>3</th>\n",
       "      <td>1.18911</td>\n",
       "      <td>0.280256</td>\n",
       "      <td>0.779714</td>\n",
       "      <td>0.144400</td>\n",
       "    </tr>\n",
       "    <tr>\n",
       "      <th>4</th>\n",
       "      <td>1.58535</td>\n",
       "      <td>0.169286</td>\n",
       "      <td>0.866938</td>\n",
       "      <td>0.087224</td>\n",
       "    </tr>\n",
       "    <tr>\n",
       "      <th>5</th>\n",
       "      <td>1.98158</td>\n",
       "      <td>0.102257</td>\n",
       "      <td>0.919624</td>\n",
       "      <td>0.052686</td>\n",
       "    </tr>\n",
       "    <tr>\n",
       "      <th>6</th>\n",
       "      <td>2.37782</td>\n",
       "      <td>0.061768</td>\n",
       "      <td>0.951450</td>\n",
       "      <td>0.031825</td>\n",
       "    </tr>\n",
       "    <tr>\n",
       "      <th>7</th>\n",
       "      <td>2.77405</td>\n",
       "      <td>0.037311</td>\n",
       "      <td>0.970673</td>\n",
       "      <td>0.019224</td>\n",
       "    </tr>\n",
       "    <tr>\n",
       "      <th>8</th>\n",
       "      <td>3.17029</td>\n",
       "      <td>0.022537</td>\n",
       "      <td>0.982285</td>\n",
       "      <td>0.017715</td>\n",
       "    </tr>\n",
       "  </tbody>\n",
       "</table>\n",
       "</div>"
      ],
      "text/plain": [
       "        ak  f(ak, lam)  F(ak, lam)        pi\n",
       "0  0.00000    1.272238    0.000000  0.000000\n",
       "1  0.39664    0.768094    0.396265  0.396265\n",
       "2  0.79287    0.463967    0.635314  0.239049\n",
       "3  1.18911    0.280256    0.779714  0.144400\n",
       "4  1.58535    0.169286    0.866938  0.087224\n",
       "5  1.98158    0.102257    0.919624  0.052686\n",
       "6  2.37782    0.061768    0.951450  0.031825\n",
       "7  2.77405    0.037311    0.970673  0.019224\n",
       "8  3.17029    0.022537    0.982285  0.017715"
      ]
     },
     "execution_count": 18,
     "metadata": {},
     "output_type": "execute_result"
    }
   ],
   "source": [
    "# находим плотность и функцию\n",
    "f3_2 = Density3_2(inter3_2, lam3_2)\n",
    "F3_2 = func3_2(inter3_2, lam3_2)\n",
    "pi3_2 = Pi3_2(F3_2)\n",
    "\n",
    "func3_2_1 = [i for i in range(len(inter3_2))]\n",
    "func3_2_1[0] = 0\n",
    "for i in range (1,len(inter3_2)):\n",
    "    func3_2_1[i] = pi3_2[i-1]\n",
    "    \n",
    "Table3_2_2 = pd.DataFrame({'ak':inter3_2,\n",
    "                           'f(ak, lam)':f3_2,\n",
    "                           'F(ak, lam)':F3_2,\n",
    "                           'pi':func3_2_1})\n",
    "Table3_2_2"
   ]
  },
  {
   "cell_type": "code",
   "execution_count": 19,
   "metadata": {},
   "outputs": [
    {
     "name": "stdout",
     "output_type": "stream",
     "text": [
      "0.9883877906893596\n"
     ]
    }
   ],
   "source": [
    "print(sum(pi3_2))"
   ]
  },
  {
   "cell_type": "code",
   "execution_count": 20,
   "metadata": {},
   "outputs": [
    {
     "data": {
      "text/html": [
       "<div>\n",
       "<style scoped>\n",
       "    .dataframe tbody tr th:only-of-type {\n",
       "        vertical-align: middle;\n",
       "    }\n",
       "\n",
       "    .dataframe tbody tr th {\n",
       "        vertical-align: top;\n",
       "    }\n",
       "\n",
       "    .dataframe thead th {\n",
       "        text-align: right;\n",
       "    }\n",
       "</style>\n",
       "<table border=\"1\" class=\"dataframe\">\n",
       "  <thead>\n",
       "    <tr style=\"text-align: right;\">\n",
       "      <th></th>\n",
       "      <th>Intervals</th>\n",
       "      <th>Wi</th>\n",
       "      <th>Pk</th>\n",
       "      <th>|Wk-Pk|</th>\n",
       "      <th>X^2</th>\n",
       "    </tr>\n",
       "  </thead>\n",
       "  <tbody>\n",
       "    <tr>\n",
       "      <th>0</th>\n",
       "      <td>[0, 0.39664]</td>\n",
       "      <td>0.365</td>\n",
       "      <td>0.39627</td>\n",
       "      <td>0.03127</td>\n",
       "      <td>0.49336</td>\n",
       "    </tr>\n",
       "    <tr>\n",
       "      <th>1</th>\n",
       "      <td>[0.39664, 0.79287]</td>\n",
       "      <td>0.250</td>\n",
       "      <td>0.23905</td>\n",
       "      <td>0.01095</td>\n",
       "      <td>0.10034</td>\n",
       "    </tr>\n",
       "    <tr>\n",
       "      <th>2</th>\n",
       "      <td>[0.79287, 1.18911]</td>\n",
       "      <td>0.120</td>\n",
       "      <td>0.14440</td>\n",
       "      <td>0.02440</td>\n",
       "      <td>0.82461</td>\n",
       "    </tr>\n",
       "    <tr>\n",
       "      <th>3</th>\n",
       "      <td>[1.18911, 1.58535]</td>\n",
       "      <td>0.120</td>\n",
       "      <td>0.08722</td>\n",
       "      <td>0.03278</td>\n",
       "      <td>2.46327</td>\n",
       "    </tr>\n",
       "    <tr>\n",
       "      <th>4</th>\n",
       "      <td>[1.58535, 1.98158]</td>\n",
       "      <td>0.075</td>\n",
       "      <td>0.05269</td>\n",
       "      <td>0.02231</td>\n",
       "      <td>1.89016</td>\n",
       "    </tr>\n",
       "    <tr>\n",
       "      <th>5</th>\n",
       "      <td>[1.98158, 2.37782]</td>\n",
       "      <td>0.035</td>\n",
       "      <td>0.03183</td>\n",
       "      <td>0.00317</td>\n",
       "      <td>0.06333</td>\n",
       "    </tr>\n",
       "    <tr>\n",
       "      <th>6</th>\n",
       "      <td>[2.37782, 2.77405]</td>\n",
       "      <td>0.015</td>\n",
       "      <td>0.01922</td>\n",
       "      <td>0.00422</td>\n",
       "      <td>0.18559</td>\n",
       "    </tr>\n",
       "    <tr>\n",
       "      <th>7</th>\n",
       "      <td>[2.77405, 3.17029]</td>\n",
       "      <td>0.020</td>\n",
       "      <td>0.01771</td>\n",
       "      <td>0.00229</td>\n",
       "      <td>0.05897</td>\n",
       "    </tr>\n",
       "  </tbody>\n",
       "</table>\n",
       "</div>"
      ],
      "text/plain": [
       "            Intervals     Wi       Pk  |Wk-Pk|      X^2\n",
       "0        [0, 0.39664]  0.365  0.39627  0.03127  0.49336\n",
       "1  [0.39664, 0.79287]  0.250  0.23905  0.01095  0.10034\n",
       "2  [0.79287, 1.18911]  0.120  0.14440  0.02440  0.82461\n",
       "3  [1.18911, 1.58535]  0.120  0.08722  0.03278  2.46327\n",
       "4  [1.58535, 1.98158]  0.075  0.05269  0.02231  1.89016\n",
       "5  [1.98158, 2.37782]  0.035  0.03183  0.00317  0.06333\n",
       "6  [2.37782, 2.77405]  0.015  0.01922  0.00422  0.18559\n",
       "7  [2.77405, 3.17029]  0.020  0.01771  0.00229  0.05897"
      ]
     },
     "execution_count": 20,
     "metadata": {},
     "output_type": "execute_result"
    }
   ],
   "source": [
    "diff_wp3_2 = []\n",
    "for i in range(len(wi_inter3_2)):\n",
    "    diff_wp3_2.append(abs(wi_inter3_2[i]-pi3_2[i]))\n",
    "    \n",
    "chi_square3_2 = chi_square(wi_inter3_2, pi3_2, size)\n",
    "\n",
    "Table3_2_3 = pd.DataFrame({'Intervals':interval_all3_2_round,\n",
    "                           'Wi':Round_array(wi_inter3_2),\n",
    "                           'Pk':Round_array(pi3_2),\n",
    "                           '|Wk-Pk|':Round_array(diff_wp3_2),\n",
    "                           'X^2':chi_square3_2})\n",
    "Table3_2_3"
   ]
  },
  {
   "cell_type": "code",
   "execution_count": 21,
   "metadata": {},
   "outputs": [
    {
     "name": "stdout",
     "output_type": "stream",
     "text": [
      "Сумма wk: 1.0\n",
      "Сумма pk: 0.98839\n",
      "max |Wk-Pk|: 0.03278\n",
      "chi_square = 6.079630000000001\n"
     ]
    }
   ],
   "source": [
    "print ('Сумма wk:',round(sum(wi_inter3_2),5))\n",
    "print ('Сумма pk:',round(sum(pi3_2),5))\n",
    "print('max |Wk-Pk|:',max(diff_wp3_2))\n",
    "print('chi_square =', sum(chi_square3_2))"
   ]
  },
  {
   "cell_type": "code",
   "execution_count": 22,
   "metadata": {},
   "outputs": [
    {
     "name": "stdout",
     "output_type": "stream",
     "text": [
      " степеней свободы = 6\n"
     ]
    }
   ],
   "source": [
    "print(' степеней свободы =', len(wi_inter3_2)-2)"
   ]
  },
  {
   "cell_type": "code",
   "execution_count": 23,
   "metadata": {},
   "outputs": [
    {
     "name": "stdout",
     "output_type": "stream",
     "text": [
      "гипотеза о соответствии выборки биномиальному распределению \n",
      "НЕ ПРОТИВОРЕЧИТ экспериментальным данным при уровне  значимости 0,05\n"
     ]
    }
   ],
   "source": [
    "if (sum(chi_square3_2)<= X_kr[len(wi_inter3_2)-2]):\n",
    "    print ('''гипотеза о соответствии выборки биномиальному распределению \n",
    "НЕ ПРОТИВОРЕЧИТ экспериментальным данным при уровне  значимости 0,05''')\n",
    "else:\n",
    "    print ('''гипотеза о соответствии выборки биномиальному распределению\n",
    "ПРОТИВОРЕЧИТ экспериментальным данным при уровне  значимости 0,05''')"
   ]
  },
  {
   "cell_type": "code",
   "execution_count": 24,
   "metadata": {},
   "outputs": [],
   "source": [
    "dens3_2 = []\n",
    "for el in distr3_2:\n",
    "    dens3_2.append(sps.expon.pdf(el, scale=1/lam3_2))"
   ]
  },
  {
   "cell_type": "code",
   "execution_count": 25,
   "metadata": {},
   "outputs": [
    {
     "data": {
      "text/plain": [
       "1.271590410193915"
      ]
     },
     "execution_count": 25,
     "metadata": {},
     "output_type": "execute_result"
    }
   ],
   "source": [
    "sps.expon.pdf(0.0004, scale=1/lam3_2)"
   ]
  },
  {
   "cell_type": "code",
   "execution_count": 26,
   "metadata": {},
   "outputs": [
    {
     "data": {
      "text/plain": [
       "<matplotlib.legend.Legend at 0x1ad5aa94040>"
      ]
     },
     "execution_count": 26,
     "metadata": {},
     "output_type": "execute_result"
    },
    {
     "data": {
      "image/png": "[encoded data removed]",
      "text/plain": [
       "<Figure size 864x504 with 1 Axes>"
      ]
     },
     "metadata": {},
     "output_type": "display_data"
    }
   ],
   "source": [
    "fig, fir = plt.subplots()\n",
    "fir.xaxis.set_major_locator(ticker.MultipleLocator(0.5))\n",
    "fir.yaxis.set_major_locator(ticker.MultipleLocator(0.05))\n",
    "\n",
    "fir.plot(distr3_2, dens3_2, 'black',label='density')\n",
    "sns.distplot(distr3_2, bins = 8, norm_hist=True, kde=False)\n",
    "plt.title(\"Полигон относительных частот\")\n",
    "plt.grid(True)\n",
    "plt.legend(loc='best')"
   ]
  },
  {
   "cell_type": "markdown",
   "metadata": {},
   "source": [
    "# Задача 3_3 НОРМАЛЬНОЕ РАСПРЕДЕЛЕНИЕ"
   ]
  },
  {
   "cell_type": "code",
   "execution_count": 27,
   "metadata": {},
   "outputs": [],
   "source": [
    "def PHI(x):\n",
    "    return (sps.norm.cdf(x))\n",
    "\n",
    "def phi(t):\n",
    "    return (sps.norm.pdf(t))\n",
    "    \n",
    "def Pi3_3(inter,a,std):\n",
    "    P=[i for i in range(len(inter))]\n",
    "    P[0] = 0\n",
    "    P[1] = PHI((inter[1]-a)/std)\n",
    "    P[-1] = 1 - PHI((inter[-2]-a)/std)\n",
    "    for i in range(2,len(inter)-1):\n",
    "        P[i] = PHI((inter[i]-a)/std) - PHI((inter[i-1]-a)/std)\n",
    "    return P "
   ]
  },
  {
   "cell_type": "code",
   "execution_count": null,
   "metadata": {},
   "outputs": [],
   "source": []
  },
  {
   "cell_type": "code",
   "execution_count": 33,
   "metadata": {},
   "outputs": [
    {
     "name": "stdout",
     "output_type": "stream",
     "text": [
      "[-1.35667, -1.15486, -0.94604, -0.88709, -0.7986, -0.77783, -0.66618, -0.64476, -0.63438, -0.6073, -0.4429, -0.40283, -0.26669, -0.22534, -0.1958, -0.19314, -0.17548, -0.01124, 0.05914, 0.07847, 0.07952, 0.12863, 0.20674, 0.21676, 0.22376, 0.32436, 0.42525, 0.45559, 0.48056, 0.52847, 0.53916, 0.5491, 0.58079, 0.65143, 0.65337, 0.65934, 0.66993, 0.68828, 0.71519, 0.71738, 0.7322, 0.76151, 0.78251, 0.85696, 0.87917, 0.88649, 0.89425, 0.90832, 0.91428, 0.9255, 0.92596, 0.94054, 0.941, 0.95037, 0.96246, 0.96956, 0.97138, 0.99148, 1.00487, 1.00493, 1.02521, 1.03833, 1.04492, 1.06796, 1.06835, 1.07051, 1.09041, 1.0945, 1.11439, 1.11622, 1.11735, 1.12695, 1.13874, 1.1531, 1.15426, 1.16078, 1.16495, 1.18159, 1.18851, 1.21657, 1.21854, 1.23066, 1.24143, 1.2467, 1.25996, 1.27417, 1.28716, 1.30391, 1.32754, 1.36697, 1.37931, 1.38197, 1.39369, 1.41718, 1.43285, 1.45812, 1.46225, 1.50977, 1.52896, 1.60963, 1.61193, 1.61555, 1.61713, 1.62008, 1.63875, 1.65236, 1.66247, 1.69221, 1.6935, 1.69518, 1.69929, 1.70226, 1.70407, 1.70863, 1.71797, 1.72834, 1.74392, 1.75756, 1.77909, 1.81092, 1.82497, 1.82582, 1.83965, 1.853, 1.86123, 1.86252, 1.88113, 1.90391, 1.90696, 1.94102, 1.95464, 1.95591, 1.98756, 1.99268, 2.01375, 2.03392, 2.03432, 2.09296, 2.10905, 2.11001, 2.11828, 2.13226, 2.17701, 2.17991, 2.24807, 2.29158, 2.30745, 2.31193, 2.3123, 2.32374, 2.33429, 2.33621, 2.35218, 2.41535, 2.4217, 2.44259, 2.45604, 2.46235, 2.50061, 2.50329, 2.50811, 2.51042, 2.54781, 2.56746, 2.58339, 2.62623, 2.65716, 2.67259, 2.67786, 2.74391, 2.76247, 2.78924, 2.84405, 2.85367, 2.854, 2.8821, 2.89976, 2.94673, 2.95941, 2.96503, 3.03928, 3.05925, 3.09229, 3.13175, 3.16807, 3.18195, 3.22911, 3.26519, 3.30723, 3.30726, 3.38956, 3.40966, 3.48448, 3.4958, 3.63431, 3.6522, 3.67019, 3.72341, 3.98761, 5.0377]\n"
     ]
    }
   ],
   "source": [
    "distr3_3 = read_distr(\"norm.txt\")\n",
    "# делем из str - float\n",
    "for i in range(len(distr3_3)):\n",
    "    distr3_3[i] = float(str(distr3_3[i]).replace(\",\", \".\"))\n",
    "    \n",
    "for i, item in enumerate(distr3_3):\n",
    "    distr3_3[i] = float(item)\n",
    "    \n",
    "distr3_3.sort()\n",
    "print(distr3_3)\n",
    "df3_3 = pd.DataFrame({'df3_3':distr3_3})"
   ]
  },
  {
   "cell_type": "code",
   "execution_count": 34,
   "metadata": {},
   "outputs": [
    {
     "data": {
      "text/html": [
       "<div>\n",
       "<style scoped>\n",
       "    .dataframe tbody tr th:only-of-type {\n",
       "        vertical-align: middle;\n",
       "    }\n",
       "\n",
       "    .dataframe tbody tr th {\n",
       "        vertical-align: top;\n",
       "    }\n",
       "\n",
       "    .dataframe thead th {\n",
       "        text-align: right;\n",
       "    }\n",
       "</style>\n",
       "<table border=\"1\" class=\"dataframe\">\n",
       "  <thead>\n",
       "    <tr style=\"text-align: right;\">\n",
       "      <th></th>\n",
       "      <th>Intervals</th>\n",
       "      <th>Ni</th>\n",
       "      <th>Wi</th>\n",
       "    </tr>\n",
       "  </thead>\n",
       "  <tbody>\n",
       "    <tr>\n",
       "      <th>0</th>\n",
       "      <td>[-1.35667, -0.55737]</td>\n",
       "      <td>10</td>\n",
       "      <td>0.050</td>\n",
       "    </tr>\n",
       "    <tr>\n",
       "      <th>1</th>\n",
       "      <td>[-0.55737, 0.24192]</td>\n",
       "      <td>15</td>\n",
       "      <td>0.075</td>\n",
       "    </tr>\n",
       "    <tr>\n",
       "      <th>2</th>\n",
       "      <td>[0.24192, 1.04122]</td>\n",
       "      <td>37</td>\n",
       "      <td>0.185</td>\n",
       "    </tr>\n",
       "    <tr>\n",
       "      <th>3</th>\n",
       "      <td>[1.04122, 1.84052]</td>\n",
       "      <td>61</td>\n",
       "      <td>0.305</td>\n",
       "    </tr>\n",
       "    <tr>\n",
       "      <th>4</th>\n",
       "      <td>[1.84052, 2.63981]</td>\n",
       "      <td>43</td>\n",
       "      <td>0.215</td>\n",
       "    </tr>\n",
       "    <tr>\n",
       "      <th>5</th>\n",
       "      <td>[2.63981, 3.43911]</td>\n",
       "      <td>26</td>\n",
       "      <td>0.130</td>\n",
       "    </tr>\n",
       "    <tr>\n",
       "      <th>6</th>\n",
       "      <td>[3.43911, 4.2384]</td>\n",
       "      <td>7</td>\n",
       "      <td>0.035</td>\n",
       "    </tr>\n",
       "    <tr>\n",
       "      <th>7</th>\n",
       "      <td>[4.2384, 5.0377]</td>\n",
       "      <td>1</td>\n",
       "      <td>0.005</td>\n",
       "    </tr>\n",
       "  </tbody>\n",
       "</table>\n",
       "</div>"
      ],
      "text/plain": [
       "              Intervals  Ni     Wi\n",
       "0  [-1.35667, -0.55737]  10  0.050\n",
       "1   [-0.55737, 0.24192]  15  0.075\n",
       "2    [0.24192, 1.04122]  37  0.185\n",
       "3    [1.04122, 1.84052]  61  0.305\n",
       "4    [1.84052, 2.63981]  43  0.215\n",
       "5    [2.63981, 3.43911]  26  0.130\n",
       "6     [3.43911, 4.2384]   7  0.035\n",
       "7      [4.2384, 5.0377]   1  0.005"
      ]
     },
     "execution_count": 34,
     "metadata": {},
     "output_type": "execute_result"
    }
   ],
   "source": [
    "inter3_3 = intervals(distr3_3, size)\n",
    "\n",
    "interval_all3_3 = [\n",
    "                  [inter3_3[0], inter3_3[1]],\n",
    "                  [inter3_3[1], inter3_3[2]],\n",
    "                  [inter3_3[2], inter3_3[3]],\n",
    "                  [inter3_3[3], inter3_3[4]],\n",
    "                  [inter3_3[4], inter3_3[5]],\n",
    "                  [inter3_3[5], inter3_3[6]],\n",
    "                  [inter3_3[6], inter3_3[7]],\n",
    "                  [inter3_3[7], inter3_3[8]],\n",
    "                  ]\n",
    "\n",
    "inter3_3_round = Round_array(inter3_3)\n",
    "interval_all3_3_round = [\n",
    "                        [inter3_3_round[0], inter3_3_round[1]],\n",
    "                        [inter3_3_round[1], inter3_3_round[2]],\n",
    "                        [inter3_3_round[2], inter3_3_round[3]],\n",
    "                        [inter3_3_round[3], inter3_3_round[4]],\n",
    "                        [inter3_3_round[4], inter3_3_round[5]],\n",
    "                        [inter3_3_round[5], inter3_3_round[6]],\n",
    "                        [inter3_3_round[6], inter3_3_round[7]],\n",
    "                        [inter3_3_round[7], inter3_3_round[8]],\n",
    "                        ]\n",
    "\n",
    "# интервальная частота\n",
    "ni_inter3_3 = Freq_inter(distr3_3, inter3_3, size)\n",
    "\n",
    "# интервальная отн частота\n",
    "wi_inter3_3 = Rel_freq(ni_inter3_3, size)\n",
    "\n",
    "Table3_3_1 = pd.DataFrame({'Intervals':interval_all3_3_round, \n",
    "                           'Ni':ni_inter3_3,\n",
    "                           'Wi':wi_inter3_3})\n",
    "Table3_3_1"
   ]
  },
  {
   "cell_type": "code",
   "execution_count": 35,
   "metadata": {},
   "outputs": [
    {
     "name": "stdout",
     "output_type": "stream",
     "text": [
      "Мат. ожидание:  1.5534663000000002\n",
      "Дисперсия:  1.2368063448793092\n",
      "Ср.квадратичное:  1.112117954571056\n"
     ]
    }
   ],
   "source": [
    "xi3_3 = []\n",
    "ni3_3 = []\n",
    "wi3_3 = []\n",
    "#xi - значение\n",
    "#ni - кол-во значения\n",
    "#wi = ni/size\n",
    "\n",
    "xi3_3 = Xi(distr3_3)\n",
    "ni3_3 = Freq(distr3_3, xi3_3, size)\n",
    "wi3_3 = Rel_freq(ni3_3, size)\n",
    "\n",
    "# вычисление теор вероятности\n",
    "M3_3 = Moment(xi3_3,wi3_3)\n",
    "\n",
    "\n",
    "a3_3 = M3_3[0]\n",
    "print('Мат. ожидание: ', a3_3)\n",
    "#дисперсия\n",
    "var3_3 = Disp(M3_3)\n",
    "print('Дисперсия: ', var3_3)\n",
    "#сред.квадратичное\n",
    "std3_3 = var3_3**(1/2)\n",
    "print('Ср.квадратичное: ',std3_3)"
   ]
  },
  {
   "cell_type": "code",
   "execution_count": 36,
   "metadata": {
    "scrolled": true
   },
   "outputs": [
    {
     "data": {
      "text/html": [
       "<div>\n",
       "<style scoped>\n",
       "    .dataframe tbody tr th:only-of-type {\n",
       "        vertical-align: middle;\n",
       "    }\n",
       "\n",
       "    .dataframe tbody tr th {\n",
       "        vertical-align: top;\n",
       "    }\n",
       "\n",
       "    .dataframe thead th {\n",
       "        text-align: right;\n",
       "    }\n",
       "</style>\n",
       "<table border=\"1\" class=\"dataframe\">\n",
       "  <thead>\n",
       "    <tr style=\"text-align: right;\">\n",
       "      <th></th>\n",
       "      <th>Ak</th>\n",
       "      <th>(Ak-a)/q</th>\n",
       "      <th>1/q*phi</th>\n",
       "      <th>PHI</th>\n",
       "      <th>Pk</th>\n",
       "    </tr>\n",
       "  </thead>\n",
       "  <tbody>\n",
       "    <tr>\n",
       "      <th>0</th>\n",
       "      <td>-1.35667</td>\n",
       "      <td>-2.61675</td>\n",
       "      <td>0.01169</td>\n",
       "      <td>0.00444</td>\n",
       "      <td>0.00000</td>\n",
       "    </tr>\n",
       "    <tr>\n",
       "      <th>1</th>\n",
       "      <td>-0.55737</td>\n",
       "      <td>-1.89803</td>\n",
       "      <td>0.05922</td>\n",
       "      <td>0.02885</td>\n",
       "      <td>0.02885</td>\n",
       "    </tr>\n",
       "    <tr>\n",
       "      <th>2</th>\n",
       "      <td>0.24192</td>\n",
       "      <td>-1.17932</td>\n",
       "      <td>0.17896</td>\n",
       "      <td>0.11913</td>\n",
       "      <td>0.09029</td>\n",
       "    </tr>\n",
       "    <tr>\n",
       "      <th>3</th>\n",
       "      <td>1.04122</td>\n",
       "      <td>-0.46060</td>\n",
       "      <td>0.32262</td>\n",
       "      <td>0.32254</td>\n",
       "      <td>0.20341</td>\n",
       "    </tr>\n",
       "    <tr>\n",
       "      <th>4</th>\n",
       "      <td>1.84052</td>\n",
       "      <td>0.25811</td>\n",
       "      <td>0.34697</td>\n",
       "      <td>0.60184</td>\n",
       "      <td>0.27930</td>\n",
       "    </tr>\n",
       "    <tr>\n",
       "      <th>5</th>\n",
       "      <td>2.63981</td>\n",
       "      <td>0.97682</td>\n",
       "      <td>0.22262</td>\n",
       "      <td>0.83567</td>\n",
       "      <td>0.23383</td>\n",
       "    </tr>\n",
       "    <tr>\n",
       "      <th>6</th>\n",
       "      <td>3.43911</td>\n",
       "      <td>1.69554</td>\n",
       "      <td>0.08521</td>\n",
       "      <td>0.95501</td>\n",
       "      <td>0.11934</td>\n",
       "    </tr>\n",
       "    <tr>\n",
       "      <th>7</th>\n",
       "      <td>4.23840</td>\n",
       "      <td>2.41425</td>\n",
       "      <td>0.01946</td>\n",
       "      <td>0.99212</td>\n",
       "      <td>0.03710</td>\n",
       "    </tr>\n",
       "    <tr>\n",
       "      <th>8</th>\n",
       "      <td>5.03770</td>\n",
       "      <td>3.13297</td>\n",
       "      <td>0.00265</td>\n",
       "      <td>0.99913</td>\n",
       "      <td>0.00788</td>\n",
       "    </tr>\n",
       "  </tbody>\n",
       "</table>\n",
       "</div>"
      ],
      "text/plain": [
       "        Ak  (Ak-a)/q  1/q*phi      PHI       Pk\n",
       "0 -1.35667  -2.61675  0.01169  0.00444  0.00000\n",
       "1 -0.55737  -1.89803  0.05922  0.02885  0.02885\n",
       "2  0.24192  -1.17932  0.17896  0.11913  0.09029\n",
       "3  1.04122  -0.46060  0.32262  0.32254  0.20341\n",
       "4  1.84052   0.25811  0.34697  0.60184  0.27930\n",
       "5  2.63981   0.97682  0.22262  0.83567  0.23383\n",
       "6  3.43911   1.69554  0.08521  0.95501  0.11934\n",
       "7  4.23840   2.41425  0.01946  0.99212  0.03710\n",
       "8  5.03770   3.13297  0.00265  0.99913  0.00788"
      ]
     },
     "execution_count": 36,
     "metadata": {},
     "output_type": "execute_result"
    }
   ],
   "source": [
    "#(Ak-a)/q\n",
    "func3_3_1 = [i for i in range(len(inter3_3))]\n",
    "for i in range (len(inter3_3)):\n",
    "    func3_3_1[i] = (inter3_3[i]-a3_3)/std3_3\n",
    "    \n",
    "#1/q*phi\n",
    "func3_3_2 = [i for i in range(len(inter3_3))]\n",
    "for i in range (len(inter3_3)):\n",
    "    func3_3_2[i] = (1/std3_3)*phi(func3_3_1[i])\n",
    "    \n",
    "#PHI\n",
    "func3_3_3 = [i for i in range(len(inter3_3))]\n",
    "for i in range (len(inter3_3)):\n",
    "    func3_3_3[i] = PHI(func3_3_1[i])\n",
    "    \n",
    "#Pk\n",
    "pi3_3 = Pi3_3(inter3_3,a3_3,std3_3)\n",
    "func3_3_4 = [i for i in range(len(inter3_3))]\n",
    "\n",
    "\n",
    "Table3_3_2 = pd.DataFrame({'Ak':Round_array(inter3_3),\n",
    "                           '(Ak-a)/q':Round_array(func3_3_1),\n",
    "                           '1/q*phi':Round_array(func3_3_2),\n",
    "                           'PHI':Round_array(func3_3_3),\n",
    "                           'Pk':Round_array(pi3_3)})\n",
    "Table3_3_2"
   ]
  },
  {
   "cell_type": "code",
   "execution_count": 38,
   "metadata": {},
   "outputs": [
    {
     "name": "stdout",
     "output_type": "stream",
     "text": [
      "Сумма pk: 1.0\n",
      "8\n"
     ]
    }
   ],
   "source": [
    "print ('Сумма pk:',round(sum(pi3_3),5))\n",
    "print (len(wi_inter3_3))\n"
   ]
  },
  {
   "cell_type": "code",
   "execution_count": 39,
   "metadata": {},
   "outputs": [
    {
     "data": {
      "text/html": [
       "<div>\n",
       "<style scoped>\n",
       "    .dataframe tbody tr th:only-of-type {\n",
       "        vertical-align: middle;\n",
       "    }\n",
       "\n",
       "    .dataframe tbody tr th {\n",
       "        vertical-align: top;\n",
       "    }\n",
       "\n",
       "    .dataframe thead th {\n",
       "        text-align: right;\n",
       "    }\n",
       "</style>\n",
       "<table border=\"1\" class=\"dataframe\">\n",
       "  <thead>\n",
       "    <tr style=\"text-align: right;\">\n",
       "      <th></th>\n",
       "      <th>Intervals</th>\n",
       "      <th>Wi</th>\n",
       "      <th>Pk</th>\n",
       "      <th>|Wk-Pk|</th>\n",
       "      <th>X^2</th>\n",
       "    </tr>\n",
       "  </thead>\n",
       "  <tbody>\n",
       "    <tr>\n",
       "      <th>0</th>\n",
       "      <td>[-1.35667, -0.55737]</td>\n",
       "      <td>0.050</td>\n",
       "      <td>0.02885</td>\n",
       "      <td>0.05000</td>\n",
       "      <td>3.10102</td>\n",
       "    </tr>\n",
       "    <tr>\n",
       "      <th>1</th>\n",
       "      <td>[-0.55737, 0.24192]</td>\n",
       "      <td>0.075</td>\n",
       "      <td>0.09029</td>\n",
       "      <td>0.04615</td>\n",
       "      <td>0.51785</td>\n",
       "    </tr>\n",
       "    <tr>\n",
       "      <th>2</th>\n",
       "      <td>[0.24192, 1.04122]</td>\n",
       "      <td>0.185</td>\n",
       "      <td>0.20341</td>\n",
       "      <td>0.09471</td>\n",
       "      <td>0.33325</td>\n",
       "    </tr>\n",
       "    <tr>\n",
       "      <th>3</th>\n",
       "      <td>[1.04122, 1.84052]</td>\n",
       "      <td>0.305</td>\n",
       "      <td>0.27930</td>\n",
       "      <td>0.10159</td>\n",
       "      <td>0.47296</td>\n",
       "    </tr>\n",
       "    <tr>\n",
       "      <th>4</th>\n",
       "      <td>[1.84052, 2.63981]</td>\n",
       "      <td>0.215</td>\n",
       "      <td>0.23383</td>\n",
       "      <td>0.06430</td>\n",
       "      <td>0.30327</td>\n",
       "    </tr>\n",
       "    <tr>\n",
       "      <th>5</th>\n",
       "      <td>[2.63981, 3.43911]</td>\n",
       "      <td>0.130</td>\n",
       "      <td>0.11934</td>\n",
       "      <td>0.10383</td>\n",
       "      <td>0.19044</td>\n",
       "    </tr>\n",
       "    <tr>\n",
       "      <th>6</th>\n",
       "      <td>[3.43911, 4.2384]</td>\n",
       "      <td>0.035</td>\n",
       "      <td>0.03710</td>\n",
       "      <td>0.08434</td>\n",
       "      <td>0.02377</td>\n",
       "    </tr>\n",
       "    <tr>\n",
       "      <th>7</th>\n",
       "      <td>[4.2384, 5.0377]</td>\n",
       "      <td>0.005</td>\n",
       "      <td>0.00788</td>\n",
       "      <td>0.03210</td>\n",
       "      <td>0.21052</td>\n",
       "    </tr>\n",
       "  </tbody>\n",
       "</table>\n",
       "</div>"
      ],
      "text/plain": [
       "              Intervals     Wi       Pk  |Wk-Pk|      X^2\n",
       "0  [-1.35667, -0.55737]  0.050  0.02885  0.05000  3.10102\n",
       "1   [-0.55737, 0.24192]  0.075  0.09029  0.04615  0.51785\n",
       "2    [0.24192, 1.04122]  0.185  0.20341  0.09471  0.33325\n",
       "3    [1.04122, 1.84052]  0.305  0.27930  0.10159  0.47296\n",
       "4    [1.84052, 2.63981]  0.215  0.23383  0.06430  0.30327\n",
       "5    [2.63981, 3.43911]  0.130  0.11934  0.10383  0.19044\n",
       "6     [3.43911, 4.2384]  0.035  0.03710  0.08434  0.02377\n",
       "7      [4.2384, 5.0377]  0.005  0.00788  0.03210  0.21052"
      ]
     },
     "execution_count": 39,
     "metadata": {},
     "output_type": "execute_result"
    }
   ],
   "source": [
    "diff_wp3_3 = []\n",
    "for i in range(len(wi_inter3_3)):\n",
    "    diff_wp3_3.append(abs(wi_inter3_3[i]-pi3_3[i]))\n",
    "    \n",
    "func3_3_5 = [i for i in range(len(pi3_3)-1)]\n",
    "for i in range(len(pi3_3)-1):\n",
    "    func3_3_5[i] = pi3_3[i+1]\n",
    "    \n",
    "chi_square3_3 = chi_square(wi_inter3_3, func3_3_5, size)\n",
    " \n",
    "Table3_3_3 = pd.DataFrame({'Intervals':interval_all3_3_round,\n",
    "                           'Wi':Round_array(wi_inter3_3),\n",
    "                           'Pk':Round_array(func3_3_5),\n",
    "                           '|Wk-Pk|':Round_array(diff_wp3_3),\n",
    "                           'X^2':chi_square3_3})\n",
    "Table3_3_3"
   ]
  },
  {
   "cell_type": "code",
   "execution_count": 40,
   "metadata": {},
   "outputs": [
    {
     "name": "stdout",
     "output_type": "stream",
     "text": [
      "Сумма wk: 1.0\n",
      "Сумма pk: 1.0\n",
      "max |Wk-Pk|: 0.10383\n",
      "Хи квадрат = 5.15308\n"
     ]
    }
   ],
   "source": [
    "print ('Сумма wk:',round(sum(wi_inter3_3),5))\n",
    "print ('Сумма pk:',round(sum(pi3_3),5))\n",
    "print('max |Wk-Pk|:',max(diff_wp3_3))\n",
    "print('Хи квадрат =', sum(chi_square3_3))"
   ]
  },
  {
   "cell_type": "code",
   "execution_count": null,
   "metadata": {},
   "outputs": [],
   "source": []
  },
  {
   "cell_type": "code",
   "execution_count": 41,
   "metadata": {},
   "outputs": [
    {
     "name": "stdout",
     "output_type": "stream",
     "text": [
      " степеней свободы = 5\n"
     ]
    }
   ],
   "source": [
    "print(' степеней свободы =', len(wi_inter3_3)-3)"
   ]
  },
  {
   "cell_type": "code",
   "execution_count": 42,
   "metadata": {
    "scrolled": true
   },
   "outputs": [
    {
     "name": "stdout",
     "output_type": "stream",
     "text": [
      "гипотеза о соответствии выборки биномиальному распределению \n",
      "НЕ ПРОТИВОРЕЧИТ экспериментальным данным при уровне  значимости 0,05\n"
     ]
    }
   ],
   "source": [
    "if (sum(chi_square3_3)<= X_kr[len(wi_inter3_3)-3]):\n",
    "    print ('''гипотеза о соответствии выборки биномиальному распределению \n",
    "НЕ ПРОТИВОРЕЧИТ экспериментальным данным при уровне  значимости 0,05''')\n",
    "else:\n",
    "    print ('''гипотеза о соответствии выборки биномиальному распределению\n",
    "ПРОТИВОРЕЧИТ экспериментальным данным при уровне  значимости 0,05''')"
   ]
  },
  {
   "cell_type": "code",
   "execution_count": 43,
   "metadata": {},
   "outputs": [],
   "source": [
    "dens3_3 = []\n",
    "for el in distr3_3:\n",
    "    dens3_3.append(sps.norm.pdf(el, loc=a3_3, scale=std3_3))"
   ]
  },
  {
   "cell_type": "code",
   "execution_count": 44,
   "metadata": {},
   "outputs": [
    {
     "data": {
      "text/plain": [
       "<matplotlib.legend.Legend at 0x1ad5abf3670>"
      ]
     },
     "execution_count": 44,
     "metadata": {},
     "output_type": "execute_result"
    },
    {
     "data": {
      "image/png": "[encoded data removed]",
      "text/plain": [
       "<Figure size 864x504 with 1 Axes>"
      ]
     },
     "metadata": {},
     "output_type": "display_data"
    }
   ],
   "source": [
    "fig, fir = plt.subplots()\n",
    "fir.xaxis.set_major_locator(ticker.MultipleLocator(0.5))\n",
    "fir.yaxis.set_major_locator(ticker.MultipleLocator(0.02))\n",
    "\n",
    "fir.plot(distr3_3, dens3_3, 'black',label='density')\n",
    "sns.distplot(distr3_3, bins = 8, norm_hist=True, kde=False)\n",
    "plt.title(\"Полигон относительных частот\")\n",
    "plt.grid(True)\n",
    "plt.legend(loc='best')"
   ]
  },
  {
   "cell_type": "markdown",
   "metadata": {},
   "source": [
    "# Задача 3_4 РАВНОМЕРНОЕ РАСПРЕДЕЛЕНИЕ"
   ]
  },
  {
   "cell_type": "code",
   "execution_count": 45,
   "metadata": {},
   "outputs": [],
   "source": [
    "def Pi3_4(inter):\n",
    "    P=[i for i in range(len(inter)-1)]\n",
    "    for i in range (len(inter)-1):\n",
    "        P[i] = 1/(len(inter)-1)\n",
    "    return P\n",
    "\n",
    "def Density3_4(x,a,b):\n",
    "    if (a<=x and x<=b):\n",
    "        return (1/(b-a))\n",
    "    else:\n",
    "        return 0"
   ]
  },
  {
   "cell_type": "code",
   "execution_count": 46,
   "metadata": {},
   "outputs": [
    {
     "name": "stdout",
     "output_type": "stream",
     "text": [
      "[2.83259, 2.85235, 2.86499, 2.88682, 2.89331, 2.96488, 2.98799, 3.02, 3.02694, 3.02852, 3.07884, 3.11761, 3.1814, 3.212, 3.23254, 3.25258, 3.25875, 3.28731, 3.32859, 3.35438, 3.38889, 3.40263, 3.41044, 3.43287, 3.54182, 3.55518, 3.57052, 3.57112, 3.5935, 3.604, 3.61542, 3.67115, 3.70392, 3.72166, 3.72907, 3.75499, 3.75562, 3.80852, 3.82579, 3.8704, 3.93375, 4.00579, 4.03823, 4.06294, 4.11317, 4.14326, 4.18622, 4.30711, 4.3154, 4.32327, 4.32893, 4.40038, 4.41361, 4.4149, 4.42786, 4.43032, 4.48385, 4.48665, 4.52787, 4.54473, 4.60069, 4.63148, 4.63172, 4.74235, 4.76188, 4.78963, 4.80675, 4.8273, 4.82945, 4.85316, 4.92292, 4.93666, 4.94413, 4.96901, 5.02921, 5.03993, 5.09658, 5.16308, 5.22313, 5.26399, 5.26837, 5.31765, 5.32875, 5.35017, 5.4511, 5.46763, 5.46783, 5.47684, 5.49988, 5.52733, 5.54517, 5.56641, 5.62362, 5.65832, 5.69803, 5.71557, 5.72092, 5.77514, 5.81277, 5.82502, 5.87239, 5.90653, 5.91301, 5.95241, 5.9563, 5.98299, 5.99701, 6.05582, 6.0819, 6.10259, 6.10399, 6.10797, 6.10885, 6.11752, 6.12659, 6.31183, 6.38709, 6.45319, 6.45877, 6.51599, 6.54155, 6.57222, 6.59192, 6.64324, 6.69085, 6.74293, 6.7483, 6.78557, 6.82068, 6.84965, 6.88816, 6.94069, 6.9995, 7.07217, 7.07555, 7.11989, 7.17477, 7.20632, 7.21191, 7.22077, 7.33455, 7.36376, 7.48577, 7.48597, 7.5129, 7.51619, 7.52411, 7.53713, 7.5914, 7.60355, 7.63516, 7.64743, 7.6731, 7.70866, 7.72154, 7.72312, 7.74392, 7.74756, 7.80789, 7.83363, 7.83918, 7.85734, 7.85901, 7.88239, 7.89256, 7.96075, 7.96127, 8.01132, 8.06486, 8.0818, 8.08362, 8.16893, 8.19667, 8.22702, 8.24131, 8.33367, 8.40873, 8.43733, 8.4473, 8.45236, 8.55144, 8.5545, 8.5589, 8.5934, 8.62093, 8.67526, 8.68781, 8.69548, 8.71815, 8.82651, 8.84209, 8.84762, 8.88073, 8.9597, 8.97141, 8.98106, 9.03091, 9.03887, 9.15989, 9.18555]\n"
     ]
    }
   ],
   "source": [
    "a = 2.80\n",
    "b = 9.22\n",
    "\n",
    "distr3_4 = read_distr(\"unif.txt\")\n",
    "# делем из str - float\n",
    "for i in range(len(distr3_4)):\n",
    "    distr3_4[i] = float(str(distr3_4[i]).replace(\",\", \".\"))\n",
    "\n",
    "for i, item in enumerate(distr3_4):\n",
    "    distr3_4[i] = float(item)\n",
    "\n",
    "distr3_4.sort()\n",
    "print (distr3_4)"
   ]
  },
  {
   "cell_type": "code",
   "execution_count": 47,
   "metadata": {},
   "outputs": [
    {
     "data": {
      "text/html": [
       "<div>\n",
       "<style scoped>\n",
       "    .dataframe tbody tr th:only-of-type {\n",
       "        vertical-align: middle;\n",
       "    }\n",
       "\n",
       "    .dataframe tbody tr th {\n",
       "        vertical-align: top;\n",
       "    }\n",
       "\n",
       "    .dataframe thead th {\n",
       "        text-align: right;\n",
       "    }\n",
       "</style>\n",
       "<table border=\"1\" class=\"dataframe\">\n",
       "  <thead>\n",
       "    <tr style=\"text-align: right;\">\n",
       "      <th></th>\n",
       "      <th>Intervals</th>\n",
       "      <th>Ni</th>\n",
       "      <th>Wi</th>\n",
       "    </tr>\n",
       "  </thead>\n",
       "  <tbody>\n",
       "    <tr>\n",
       "      <th>0</th>\n",
       "      <td>[2.83259, 3.62671]</td>\n",
       "      <td>31</td>\n",
       "      <td>0.155</td>\n",
       "    </tr>\n",
       "    <tr>\n",
       "      <th>1</th>\n",
       "      <td>[3.62671, 4.42083]</td>\n",
       "      <td>23</td>\n",
       "      <td>0.115</td>\n",
       "    </tr>\n",
       "    <tr>\n",
       "      <th>2</th>\n",
       "      <td>[4.42083, 5.21495]</td>\n",
       "      <td>24</td>\n",
       "      <td>0.120</td>\n",
       "    </tr>\n",
       "    <tr>\n",
       "      <th>3</th>\n",
       "      <td>[5.21495, 6.00907]</td>\n",
       "      <td>29</td>\n",
       "      <td>0.145</td>\n",
       "    </tr>\n",
       "    <tr>\n",
       "      <th>4</th>\n",
       "      <td>[6.00907, 6.80319]</td>\n",
       "      <td>21</td>\n",
       "      <td>0.105</td>\n",
       "    </tr>\n",
       "    <tr>\n",
       "      <th>5</th>\n",
       "      <td>[6.80319, 7.59731]</td>\n",
       "      <td>21</td>\n",
       "      <td>0.105</td>\n",
       "    </tr>\n",
       "    <tr>\n",
       "      <th>6</th>\n",
       "      <td>[7.59731, 8.39143]</td>\n",
       "      <td>27</td>\n",
       "      <td>0.135</td>\n",
       "    </tr>\n",
       "    <tr>\n",
       "      <th>7</th>\n",
       "      <td>[8.39143, 9.18555]</td>\n",
       "      <td>24</td>\n",
       "      <td>0.120</td>\n",
       "    </tr>\n",
       "  </tbody>\n",
       "</table>\n",
       "</div>"
      ],
      "text/plain": [
       "            Intervals  Ni     Wi\n",
       "0  [2.83259, 3.62671]  31  0.155\n",
       "1  [3.62671, 4.42083]  23  0.115\n",
       "2  [4.42083, 5.21495]  24  0.120\n",
       "3  [5.21495, 6.00907]  29  0.145\n",
       "4  [6.00907, 6.80319]  21  0.105\n",
       "5  [6.80319, 7.59731]  21  0.105\n",
       "6  [7.59731, 8.39143]  27  0.135\n",
       "7  [8.39143, 9.18555]  24  0.120"
      ]
     },
     "execution_count": 47,
     "metadata": {},
     "output_type": "execute_result"
    }
   ],
   "source": [
    "inter3_4 = intervals(distr3_4, size)\n",
    "\n",
    "interval_all3_4 = [\n",
    "                  [inter3_4[0], inter3_4[1]],\n",
    "                  [inter3_4[1], inter3_4[2]],\n",
    "                  [inter3_4[2], inter3_4[3]],\n",
    "                  [inter3_4[3], inter3_4[4]],\n",
    "                  [inter3_4[4], inter3_4[5]],\n",
    "                  [inter3_4[5], inter3_4[6]],\n",
    "                  [inter3_4[6], inter3_4[7]],\n",
    "                  [inter3_4[7], inter3_4[8]],\n",
    "                  ]\n",
    "\n",
    "inter3_4_round = Round_array(inter3_4)\n",
    "interval_all3_4_round = [\n",
    "                        [inter3_4_round[0], inter3_4_round[1]],\n",
    "                        [inter3_4_round[1], inter3_4_round[2]],\n",
    "                        [inter3_4_round[2], inter3_4_round[3]],\n",
    "                        [inter3_4_round[3], inter3_4_round[4]],\n",
    "                        [inter3_4_round[4], inter3_4_round[5]],\n",
    "                        [inter3_4_round[5], inter3_4_round[6]],\n",
    "                        [inter3_4_round[6], inter3_4_round[7]],\n",
    "                        [inter3_4_round[7], inter3_4_round[8]],\n",
    "                        ]\n",
    "\n",
    "# интервальная частота\n",
    "ni_inter3_4 = Freq_inter(distr3_4, inter3_4, size)\n",
    "\n",
    "# интервальная отн частота\n",
    "wi_inter3_4 = Rel_freq(ni_inter3_4, size)\n",
    "\n",
    "Table3_4_1 = pd.DataFrame({'Intervals':interval_all3_4_round, \n",
    "                           'Ni':ni_inter3_4,\n",
    "                           'Wi':wi_inter3_4})\n",
    "Table3_4_1"
   ]
  },
  {
   "cell_type": "code",
   "execution_count": 48,
   "metadata": {},
   "outputs": [
    {
     "data": {
      "text/html": [
       "<div>\n",
       "<style scoped>\n",
       "    .dataframe tbody tr th:only-of-type {\n",
       "        vertical-align: middle;\n",
       "    }\n",
       "\n",
       "    .dataframe tbody tr th {\n",
       "        vertical-align: top;\n",
       "    }\n",
       "\n",
       "    .dataframe thead th {\n",
       "        text-align: right;\n",
       "    }\n",
       "</style>\n",
       "<table border=\"1\" class=\"dataframe\">\n",
       "  <thead>\n",
       "    <tr style=\"text-align: right;\">\n",
       "      <th></th>\n",
       "      <th>Intervals</th>\n",
       "      <th>Wi</th>\n",
       "      <th>Pk</th>\n",
       "      <th>|Wk-Pk|</th>\n",
       "      <th>X^2</th>\n",
       "    </tr>\n",
       "  </thead>\n",
       "  <tbody>\n",
       "    <tr>\n",
       "      <th>0</th>\n",
       "      <td>[2.83259, 3.62671]</td>\n",
       "      <td>0.155</td>\n",
       "      <td>0.125</td>\n",
       "      <td>0.030</td>\n",
       "      <td>1.44</td>\n",
       "    </tr>\n",
       "    <tr>\n",
       "      <th>1</th>\n",
       "      <td>[3.62671, 4.42083]</td>\n",
       "      <td>0.115</td>\n",
       "      <td>0.125</td>\n",
       "      <td>0.010</td>\n",
       "      <td>0.16</td>\n",
       "    </tr>\n",
       "    <tr>\n",
       "      <th>2</th>\n",
       "      <td>[4.42083, 5.21495]</td>\n",
       "      <td>0.120</td>\n",
       "      <td>0.125</td>\n",
       "      <td>0.005</td>\n",
       "      <td>0.04</td>\n",
       "    </tr>\n",
       "    <tr>\n",
       "      <th>3</th>\n",
       "      <td>[5.21495, 6.00907]</td>\n",
       "      <td>0.145</td>\n",
       "      <td>0.125</td>\n",
       "      <td>0.020</td>\n",
       "      <td>0.64</td>\n",
       "    </tr>\n",
       "    <tr>\n",
       "      <th>4</th>\n",
       "      <td>[6.00907, 6.80319]</td>\n",
       "      <td>0.105</td>\n",
       "      <td>0.125</td>\n",
       "      <td>0.020</td>\n",
       "      <td>0.64</td>\n",
       "    </tr>\n",
       "    <tr>\n",
       "      <th>5</th>\n",
       "      <td>[6.80319, 7.59731]</td>\n",
       "      <td>0.105</td>\n",
       "      <td>0.125</td>\n",
       "      <td>0.020</td>\n",
       "      <td>0.64</td>\n",
       "    </tr>\n",
       "    <tr>\n",
       "      <th>6</th>\n",
       "      <td>[7.59731, 8.39143]</td>\n",
       "      <td>0.135</td>\n",
       "      <td>0.125</td>\n",
       "      <td>0.010</td>\n",
       "      <td>0.16</td>\n",
       "    </tr>\n",
       "    <tr>\n",
       "      <th>7</th>\n",
       "      <td>[8.39143, 9.18555]</td>\n",
       "      <td>0.120</td>\n",
       "      <td>0.125</td>\n",
       "      <td>0.005</td>\n",
       "      <td>0.04</td>\n",
       "    </tr>\n",
       "  </tbody>\n",
       "</table>\n",
       "</div>"
      ],
      "text/plain": [
       "            Intervals     Wi     Pk  |Wk-Pk|   X^2\n",
       "0  [2.83259, 3.62671]  0.155  0.125    0.030  1.44\n",
       "1  [3.62671, 4.42083]  0.115  0.125    0.010  0.16\n",
       "2  [4.42083, 5.21495]  0.120  0.125    0.005  0.04\n",
       "3  [5.21495, 6.00907]  0.145  0.125    0.020  0.64\n",
       "4  [6.00907, 6.80319]  0.105  0.125    0.020  0.64\n",
       "5  [6.80319, 7.59731]  0.105  0.125    0.020  0.64\n",
       "6  [7.59731, 8.39143]  0.135  0.125    0.010  0.16\n",
       "7  [8.39143, 9.18555]  0.120  0.125    0.005  0.04"
      ]
     },
     "execution_count": 48,
     "metadata": {},
     "output_type": "execute_result"
    }
   ],
   "source": [
    "pi3_4 = Pi3_4(inter3_4)\n",
    "\n",
    "diff_wp3_4 = []\n",
    "for i in range(len(wi_inter3_4)):\n",
    "    diff_wp3_4.append(abs(wi_inter3_4[i]- pi3_4[i]))\n",
    "    \n",
    "chi_square3_4 = chi_square(wi_inter3_4, pi3_4, size)\n",
    " \n",
    "Table3_4_2 = pd.DataFrame({'Intervals':interval_all3_4_round,\n",
    "                           'Wi':Round_array(wi_inter3_4),\n",
    "                           'Pk':Round_array(pi3_4),\n",
    "                           '|Wk-Pk|':Round_array(diff_wp3_4),\n",
    "                           'X^2':chi_square3_4})\n",
    "Table3_4_2"
   ]
  },
  {
   "cell_type": "code",
   "execution_count": 49,
   "metadata": {},
   "outputs": [
    {
     "name": "stdout",
     "output_type": "stream",
     "text": [
      "Сумма wk: 1.0\n",
      "Сумма pk: 1.0\n",
      "max |Wk-Pk|: 0.03\n",
      "Хи квадрат = 3.7600000000000002\n"
     ]
    }
   ],
   "source": [
    "print ('Сумма wk:',round(sum(wi_inter3_4),5))\n",
    "print ('Сумма pk:',round(sum(pi3_4),5))\n",
    "print('max |Wk-Pk|:',max(diff_wp3_4))\n",
    "print('Хи квадрат =', sum(chi_square3_4))"
   ]
  },
  {
   "cell_type": "code",
   "execution_count": 50,
   "metadata": {},
   "outputs": [
    {
     "name": "stdout",
     "output_type": "stream",
     "text": [
      " степеней свободы = 7\n"
     ]
    }
   ],
   "source": [
    "print(' степеней свободы =', len(wi_inter3_4)-1)"
   ]
  },
  {
   "cell_type": "code",
   "execution_count": 51,
   "metadata": {},
   "outputs": [
    {
     "name": "stdout",
     "output_type": "stream",
     "text": [
      "гипотеза о соответствии выборки биномиальному распределению \n",
      "НЕ ПРОТИВОРЕЧИТ экспериментальным данным при уровне  значимости 0,05\n"
     ]
    }
   ],
   "source": [
    "if (sum(chi_square3_4)<= X_kr[len(wi_inter3_4)-1]):\n",
    "    print ('''гипотеза о соответствии выборки биномиальному распределению \n",
    "НЕ ПРОТИВОРЕЧИТ экспериментальным данным при уровне  значимости 0,05''')\n",
    "else:\n",
    "    print ('''гипотеза о соответствии выборки биномиальному распределению\n",
    "ПРОТИВОРЕЧИТ экспериментальным данным при уровне  значимости 0,05''')"
   ]
  },
  {
   "cell_type": "code",
   "execution_count": 52,
   "metadata": {},
   "outputs": [],
   "source": [
    "dens3_4 = []\n",
    "for el in distr3_4:\n",
    "    dens3_4.append(Density3_4(el, a, b))"
   ]
  },
  {
   "cell_type": "code",
   "execution_count": 53,
   "metadata": {},
   "outputs": [
    {
     "data": {
      "text/plain": [
       "<matplotlib.legend.Legend at 0x1ad5ac6ee80>"
      ]
     },
     "execution_count": 53,
     "metadata": {},
     "output_type": "execute_result"
    },
    {
     "data": {
      "image/png": "[encoded data removed]",
      "text/plain": [
       "<Figure size 864x504 with 1 Axes>"
      ]
     },
     "metadata": {},
     "output_type": "display_data"
    }
   ],
   "source": [
    "xi3_4 = Xi(distr3_4)\n",
    "fig, fir = plt.subplots()\n",
    "fir.xaxis.set_major_locator(ticker.MultipleLocator(0.5))\n",
    "fir.yaxis.set_major_locator(ticker.MultipleLocator(0.01))\n",
    "\n",
    "fir.plot(xi3_4, dens3_4, 'black',label='density')\n",
    "sns.distplot(distr3_4, bins = 8, norm_hist=True, kde=False)\n",
    "plt.title(\"Полигон относительных частот\")\n",
    "plt.grid(True)\n",
    "plt.legend(loc='best')"
   ]
  },
  {
   "cell_type": "markdown",
   "metadata": {},
   "source": [
    "# Задача 3_5 РАВНОМЕРНОЕ РАСПРЕДЕЛЕНИЕ"
   ]
  },
  {
   "cell_type": "code",
   "execution_count": 54,
   "metadata": {},
   "outputs": [
    {
     "name": "stdout",
     "output_type": "stream",
     "text": [
      "[2.83259, 2.85235, 2.86499, 2.88682, 2.89331, 2.96488, 2.98799, 3.02, 3.02694, 3.02852, 3.07884, 3.11761, 3.1814, 3.212, 3.23254, 3.25258, 3.25875, 3.28731, 3.32859, 3.35438, 3.38889, 3.40263, 3.41044, 3.43287, 3.54182, 3.55518, 3.57052, 3.57112, 3.5935, 3.604, 3.61542, 3.67115, 3.70392, 3.72166, 3.72907, 3.75499, 3.75562, 3.80852, 3.82579, 3.8704, 3.93375, 4.00579, 4.03823, 4.06294, 4.11317, 4.14326, 4.18622, 4.30711, 4.3154, 4.32327, 4.32893, 4.40038, 4.41361, 4.4149, 4.42786, 4.43032, 4.48385, 4.48665, 4.52787, 4.54473, 4.60069, 4.63148, 4.63172, 4.74235, 4.76188, 4.78963, 4.80675, 4.8273, 4.82945, 4.85316, 4.92292, 4.93666, 4.94413, 4.96901, 5.02921, 5.03993, 5.09658, 5.16308, 5.22313, 5.26399, 5.26837, 5.31765, 5.32875, 5.35017, 5.4511, 5.46763, 5.46783, 5.47684, 5.49988, 5.52733, 5.54517, 5.56641, 5.62362, 5.65832, 5.69803, 5.71557, 5.72092, 5.77514, 5.81277, 5.82502, 5.87239, 5.90653, 5.91301, 5.95241, 5.9563, 5.98299, 5.99701, 6.05582, 6.0819, 6.10259, 6.10399, 6.10797, 6.10885, 6.11752, 6.12659, 6.31183, 6.38709, 6.45319, 6.45877, 6.51599, 6.54155, 6.57222, 6.59192, 6.64324, 6.69085, 6.74293, 6.7483, 6.78557, 6.82068, 6.84965, 6.88816, 6.94069, 6.9995, 7.07217, 7.07555, 7.11989, 7.17477, 7.20632, 7.21191, 7.22077, 7.33455, 7.36376, 7.48577, 7.48597, 7.5129, 7.51619, 7.52411, 7.53713, 7.5914, 7.60355, 7.63516, 7.64743, 7.6731, 7.70866, 7.72154, 7.72312, 7.74392, 7.74756, 7.80789, 7.83363, 7.83918, 7.85734, 7.85901, 7.88239, 7.89256, 7.96075, 7.96127, 8.01132, 8.06486, 8.0818, 8.08362, 8.16893, 8.19667, 8.22702, 8.24131, 8.33367, 8.40873, 8.43733, 8.4473, 8.45236, 8.55144, 8.5545, 8.5589, 8.5934, 8.62093, 8.67526, 8.68781, 8.69548, 8.71815, 8.82651, 8.84209, 8.84762, 8.88073, 8.9597, 8.97141, 8.98106, 9.03091, 9.03887, 9.15989, 9.18555]\n"
     ]
    },
    {
     "data": {
      "text/plain": [
       "150    7.63516\n",
       "151    7.64743\n",
       "152    7.67310\n",
       "153    7.70866\n",
       "154    7.72154\n",
       "155    7.72312\n",
       "156    7.74392\n",
       "157    7.74756\n",
       "158    7.80789\n",
       "159    7.83363\n",
       "160    7.83918\n",
       "161    7.85734\n",
       "162    7.85901\n",
       "163    7.88239\n",
       "164    7.89256\n",
       "165    7.96075\n",
       "166    7.96127\n",
       "167    8.01132\n",
       "168    8.06486\n",
       "169    8.08180\n",
       "170    8.08362\n",
       "171    8.16893\n",
       "172    8.19667\n",
       "173    8.22702\n",
       "174    8.24131\n",
       "175    8.33367\n",
       "176    8.40873\n",
       "177    8.43733\n",
       "178    8.44730\n",
       "179    8.45236\n",
       "180    8.55144\n",
       "181    8.55450\n",
       "182    8.55890\n",
       "183    8.59340\n",
       "184    8.62093\n",
       "185    8.67526\n",
       "186    8.68781\n",
       "187    8.69548\n",
       "188    8.71815\n",
       "189    8.82651\n",
       "190    8.84209\n",
       "191    8.84762\n",
       "192    8.88073\n",
       "193    8.95970\n",
       "194    8.97141\n",
       "195    8.98106\n",
       "196    9.03091\n",
       "197    9.03887\n",
       "198    9.15989\n",
       "199    9.18555\n",
       "Name: data3_5, dtype: float64"
      ]
     },
     "execution_count": 54,
     "metadata": {},
     "output_type": "execute_result"
    }
   ],
   "source": [
    "distr3_5 = distr3_4\n",
    "a = a \n",
    "b = b\n",
    "print (distr3_5)\n",
    "df3_5 = pd.DataFrame({'data3_5':distr3_5})\n",
    "df3_5.data3_5.round(5)[150:200]"
   ]
  },
  {
   "cell_type": "code",
   "execution_count": 55,
   "metadata": {},
   "outputs": [
    {
     "data": {
      "text/plain": [
       "[[2.83259, 3.62671],\n",
       " [3.62671, 4.4208300000000005],\n",
       " [4.4208300000000005, 5.21495],\n",
       " [5.21495, 6.0090699999999995],\n",
       " [6.0090699999999995, 6.803189999999999],\n",
       " [6.803189999999999, 7.5973099999999985],\n",
       " [7.5973099999999985, 8.391429999999998],\n",
       " [8.391429999999998, 9.185549999999997]]"
      ]
     },
     "execution_count": 55,
     "metadata": {},
     "output_type": "execute_result"
    }
   ],
   "source": [
    "inter3_5 = intervals(distr3_5, size)\n",
    "\n",
    "interval_all3_5 = [\n",
    "                  [inter3_5[0], inter3_5[1]],\n",
    "                  [inter3_5[1], inter3_5[2]],\n",
    "                  [inter3_5[2], inter3_5[3]],\n",
    "                  [inter3_5[3], inter3_5[4]],\n",
    "                  [inter3_5[4], inter3_5[5]],\n",
    "                  [inter3_5[5], inter3_5[6]],\n",
    "                  [inter3_5[6], inter3_5[7]],\n",
    "                  [inter3_5[7], inter3_5[8]],\n",
    "                  ]\n",
    "\n",
    "inter3_5_round = Round_array(inter3_5)\n",
    "interval_all3_5_round = [\n",
    "                        [inter3_5_round[0], inter3_5_round[1]],\n",
    "                        [inter3_5_round[1], inter3_5_round[2]],\n",
    "                        [inter3_5_round[2], inter3_5_round[3]],\n",
    "                        [inter3_5_round[3], inter3_5_round[4]],\n",
    "                        [inter3_5_round[4], inter3_5_round[5]],\n",
    "                        [inter3_5_round[5], inter3_5_round[6]],\n",
    "                        [inter3_5_round[6], inter3_5_round[7]],\n",
    "                        [inter3_5_round[7], inter3_5_round[8]],\n",
    "                        ]\n",
    "\n",
    "interval_all3_5\n"
   ]
  },
  {
   "cell_type": "code",
   "execution_count": 56,
   "metadata": {},
   "outputs": [],
   "source": [
    "def F_N(size):\n",
    "    array = []\n",
    "    for i in range(size):\n",
    "        array.append((i+1)/size)\n",
    "    return(array)\n",
    "\n",
    "\n",
    "def F_N0(size): \n",
    "    array = []\n",
    "    for i in range(size):\n",
    "        array.append((i)/size)\n",
    "    return(array)\n",
    "    \n",
    "            \n",
    "def F3_5(x,a,b):\n",
    "    if (x<a):\n",
    "        return 0\n",
    "    elif (a<=x and x<=b):\n",
    "        return (x-a)/(b-a)\n",
    "    else:\n",
    "        return 1\n",
    "    \n",
    "def D_N(funcN, func0, func):\n",
    "    Max = []\n",
    "    for i in range(200):\n",
    "        res1 = abs(funcN[i]-func[i])\n",
    "        res2 = abs(func0[i]-func[i])\n",
    "        if res1 > res2:\n",
    "            Max.append(res1)\n",
    "        else:\n",
    "            Max.append(res2)\n",
    "    for i in range(200):\n",
    "        if max(Max) == Max[i]:\n",
    "            help1 = i\n",
    "    print (help1)\n",
    "    return (max(Max))"
   ]
  },
  {
   "cell_type": "code",
   "execution_count": 57,
   "metadata": {},
   "outputs": [],
   "source": [
    "func3_5_1 = F_N(size)\n",
    "func3_5_2 = F_N0(size)\n",
    "\n",
    "func3_5_3 = []\n",
    "for el in distr3_5:\n",
    "    func3_5_3.append(F3_5(el, a, b))"
   ]
  },
  {
   "cell_type": "code",
   "execution_count": 58,
   "metadata": {},
   "outputs": [
    {
     "name": "stdout",
     "output_type": "stream",
     "text": [
      "114\n",
      "DN:  0.05683956386292832\n",
      "DN * sqrt(N):  0.803832820943249\n"
     ]
    }
   ],
   "source": [
    "dn = D_N(func3_5_1, func3_5_2, func3_5_3)\n",
    "print('DN: ', dn)\n",
    "print('DN * sqrt(N): ', dn * math.sqrt(size))"
   ]
  },
  {
   "cell_type": "code",
   "execution_count": 59,
   "metadata": {},
   "outputs": [
    {
     "name": "stdout",
     "output_type": "stream",
     "text": [
      "x* 6.12659\n",
      "f(x*) 0.5181604361370716\n",
      "f_N(x*) 0.575\n",
      "f_N0(x*) 0.57\n"
     ]
    }
   ],
   "source": [
    "print('x*', distr3_5[114])\n",
    "print('f(x*)', func3_5_3[114])\n",
    "print('f_N(x*)', func3_5_1[114])\n",
    "print('f_N0(x*)', func3_5_2[114])"
   ]
  },
  {
   "cell_type": "code",
   "execution_count": 60,
   "metadata": {},
   "outputs": [
    {
     "name": "stdout",
     "output_type": "stream",
     "text": [
      "гипотеза о соответствии выборки биномиальному распределению \n",
      "НЕ ПРОТИВОРЕЧИТ экспериментальным данным при уровне  значимости 0,05\n"
     ]
    }
   ],
   "source": [
    "if ((dn * math.sqrt(size)) <= 1.36):\n",
    "    print ('''гипотеза о соответствии выборки биномиальному распределению \n",
    "НЕ ПРОТИВОРЕЧИТ экспериментальным данным при уровне  значимости 0,05''')\n",
    "else:\n",
    "    print ('''гипотеза о соответствии выборки биномиальному распределению\n",
    "ПРОТИВОРЕЧИТ экспериментальным данным при уровне  значимости 0,05''')"
   ]
  },
  {
   "cell_type": "code",
   "execution_count": 61,
   "metadata": {},
   "outputs": [
    {
     "data": {
      "text/plain": [
       "<matplotlib.legend.Legend at 0x1ad5b11d3a0>"
      ]
     },
     "execution_count": 61,
     "metadata": {},
     "output_type": "execute_result"
    },
    {
     "data": {
      "image/png": "[encoded data removed]",
      "text/plain": [
       "<Figure size 864x504 with 1 Axes>"
      ]
     },
     "metadata": {},
     "output_type": "display_data"
    }
   ],
   "source": [
    "xi3_5 = Xi(distr3_5)\n",
    "fig, fir = plt.subplots()\n",
    "fir.xaxis.set_major_locator(ticker.MultipleLocator(0.2))\n",
    "fir.yaxis.set_major_locator(ticker.MultipleLocator(0.1))\n",
    "\n",
    "fir.plot(xi3_5, func3_5_1, 'black',label='F_N')\n",
    "fir.plot(xi3_5, func3_5_3, 'red',label='F')\n",
    "plt.title(\"Полигон относительных частот\")\n",
    "plt.grid(True)\n",
    "plt.legend(loc='best')"
   ]
  },
  {
   "cell_type": "code",
   "execution_count": null,
   "metadata": {},
   "outputs": [],
   "source": []
  },
  {
   "cell_type": "code",
   "execution_count": null,
   "metadata": {},
   "outputs": [],
   "source": []
  },
  {
   "cell_type": "code",
   "execution_count": null,
   "metadata": {},
   "outputs": [],
   "source": []
  },
  {
   "cell_type": "code",
   "execution_count": null,
   "metadata": {},
   "outputs": [],
   "source": []
  }
 ],
 "metadata": {
  "kernelspec": {
   "display_name": "Python 3",
   "language": "python",
   "name": "python3"
  },
  "language_info": {
   "codemirror_mode": {
    "name": "ipython",
    "version": 3
   },
   "file_extension": ".py",
   "mimetype": "text/x-python",
   "name": "python",
   "nbconvert_exporter": "python",
   "pygments_lexer": "ipython3",
   "version": "3.8.3"
  }
 },
 "nbformat": 4,
 "nbformat_minor": 4
}
